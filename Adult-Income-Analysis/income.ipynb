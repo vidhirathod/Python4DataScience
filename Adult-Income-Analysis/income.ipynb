{
 "cells": [
  {
   "cell_type": "markdown",
   "metadata": {},
   "source": [
    "# Adult Income Analysis \n",
    "\n",
    "In this Project I am trying to analyse income(salary) of adults acorss the world and build a predictive machine learning model to accurately predict if an individual has salary > 50,000$ \n",
    "\n",
    "## 1.0 Case:\n",
    "\n",
    "In this project, we will test out several Machine learning algorithms to accurately model individuals' income using data collected from the 1994 U.S. Census. We will then choose the best candidate algorithm from preliminary results and further optimize this algorithm to best model the data. Our goal with this implementation is to construct a model that accurately predicts whether an individual makes more than $50,000. \n",
    "\n",
    "**Objective:** Testing out several different supervised/Unsupervised learning algorithms over income data of subjects to find the one that accurately predicts if an individual makes more than $50,000.\n",
    "\n",
    "**Usablity:**\n",
    "\n",
    "* This sort of task can arise in a non-profit setting, where organizations survive on donations.  Understanding an individual's income can help a non-profit better understand how large of a donation to request, or whether or not they should reach out to begin with.  While it can be difficult to determine an individual's general income bracket directly from public sources, we can infer this value from other publically available features\n",
    "* This can also be useful in Credit card Banking to choose customers for their credit cards divisions\n",
    "\n",
    "**Data:**\n",
    "\n",
    "* 48842 instances, mix of continuous and discrete (train=32561, test=16281) \n",
    "* 45222 if instances with unknown values are removed (train=30162, test=15060)  \n",
    "* Probability for the label '>50K' : 23.93%\n",
    "* Probability for the label '<=50K' : 76.07% \n",
    "\n",
    "**Attribute Information:**\n",
    "\n",
    "Listing of attributes:\n",
    "\n",
    "Response / label \n",
    "\n",
    ">50K, <=50K\n",
    "\n",
    "* age: continuous\n",
    "* workclass: Private, Self-emp-not-inc, Self-emp-inc, Federal-gov, Local-gov, State-gov, Without-pay, Never-worked.\n",
    "* fnlwgt: continuous.\n",
    "* education: Bachelors, Some-college, 11th, HS-grad, Prof-school, Assoc-acdm, Assoc-voc, 9th, 7th-8th, 12th, Masters, 1st-4th, 10th, Doctorate, *5th-6th, Preschool.\n",
    "* education-num: continuous.\n",
    "* marital-status: Married-civ-spouse, Divorced, Never-married, Separated, Widowed, Married-spouse-absent, Married-AF-spouse.\n",
    "* occupation: Tech-support, Craft-repair, Other-service, Sales, Exec-managerial, Prof-specialty, Handlers-cleaners, Machine-op-inspct, Adm-* * * clerical, Farming-fishing, Transport-moving, Priv-house-serv, Protective-serv, Armed-Forces.\n",
    "* relationship: Wife, Own-child, Husband, Not-in-family, Other-relative, Unmarried.\n",
    "* race: White, Asian-Pac-Islander, Amer-Indian-Eskimo, Other, Black.\n",
    "* sex: Female, Male.\n",
    "* capital-gain: continuous.\n",
    "* capital-loss: continuous.\n",
    "* hours-per-week: continuous.\n",
    "* native-country: United-States, Cambodia, England, Puerto-Rico, Canada, Germany, Outlying-US(Guam-USVI-etc), India, Japan, Greece, South, China, Cuba, Iran, Honduras, Philippines, Italy, Poland, Jamaica, Vietnam, Mexico, Portugal, Ireland, France, Dominican-Republic, Laos, Ecuador, Taiwan, Haiti, Columbia, Hungary, Guatemala, Nicaragua, Scotland, Thailand, Yugoslavia, El-Salvador, Trinadad&Tobago, Peru, Hong, Holand-Netherlands.\n",
    "\n"
   ]
  },
  {
   "cell_type": "markdown",
   "metadata": {},
   "source": [
    "## 1.1 Importing Packages"
   ]
  },
  {
   "cell_type": "code",
   "execution_count": 230,
   "metadata": {},
   "outputs": [],
   "source": [
    "# Import libraries necessary for this project\n",
    "import numpy as np\n",
    "import pandas as pd\n",
    "from time import time\n",
    "import os\n",
    "from IPython.display import Markdown, display # Allows the use of display() for DataFrames\n",
    "from sklearn.model_selection import train_test_split\n",
    "from sklearn import metrics\n",
    "\n",
    "# Import visualisation libraries\n",
    "#import visuals as vs\n",
    "import seaborn as sns\n",
    "import matplotlib.pyplot as plt\n",
    "from sklearn import metrics\n",
    "from sklearn.metrics import roc_curve, auc\n",
    "from sklearn.metrics import accuracy_score\n",
    "from sklearn.preprocessing import label_binarize\n",
    "\n",
    "def printmd(string):\n",
    "    display(Markdown(string))\n",
    "    \n",
    "#import modelling packages\n",
    "from sklearn.linear_model import LogisticRegression\n",
    "from sklearn import svm\n",
    "from sklearn import tree\n",
    "from sklearn.ensemble import RandomForestClassifier\n",
    "from sklearn.neural_network import MLPClassifier\n",
    "from sklearn.ensemble import AdaBoostClassifier\n",
    "from sklearn.model_selection import cross_val_score\n",
    "from sklearn.neighbors import KNeighborsClassifier\n",
    "\n",
    "\n",
    "# Pretty display for notebooks\n",
    "%matplotlib inline\n",
    "\n",
    "#from __future__ import division\n"
   ]
  },
  {
   "cell_type": "markdown",
   "metadata": {},
   "source": [
    "## 1.2 Data Import"
   ]
  },
  {
   "cell_type": "code",
   "execution_count": 236,
   "metadata": {},
   "outputs": [
    {
     "data": {
      "text/markdown": [
       "## 1.3. Data shape check"
      ],
      "text/plain": [
       "<IPython.core.display.Markdown object>"
      ]
     },
     "metadata": {},
     "output_type": "display_data"
    },
    {
     "name": "stdout",
     "output_type": "stream",
     "text": [
      "Train data: (32561, 15)\n",
      "Test data: (16281, 15)\n",
      "Full data post combining: (48842, 15)\n"
     ]
    },
    {
     "data": {
      "text/markdown": [
       "## Snapshot"
      ],
      "text/plain": [
       "<IPython.core.display.Markdown object>"
      ]
     },
     "metadata": {},
     "output_type": "display_data"
    },
    {
     "data": {
      "text/html": [
       "<div>\n",
       "<style scoped>\n",
       "    .dataframe tbody tr th:only-of-type {\n",
       "        vertical-align: middle;\n",
       "    }\n",
       "\n",
       "    .dataframe tbody tr th {\n",
       "        vertical-align: top;\n",
       "    }\n",
       "\n",
       "    .dataframe thead th {\n",
       "        text-align: right;\n",
       "    }\n",
       "</style>\n",
       "<table border=\"1\" class=\"dataframe\">\n",
       "  <thead>\n",
       "    <tr style=\"text-align: right;\">\n",
       "      <th></th>\n",
       "      <th>age</th>\n",
       "      <th>workclass</th>\n",
       "      <th>fnlwgt</th>\n",
       "      <th>education</th>\n",
       "      <th>educational-num</th>\n",
       "      <th>marital-status</th>\n",
       "      <th>occupation</th>\n",
       "      <th>relationship</th>\n",
       "      <th>race</th>\n",
       "      <th>gender</th>\n",
       "      <th>capital-gain</th>\n",
       "      <th>capital-loss</th>\n",
       "      <th>hours-per-week</th>\n",
       "      <th>native-country</th>\n",
       "      <th>income</th>\n",
       "    </tr>\n",
       "  </thead>\n",
       "  <tbody>\n",
       "    <tr>\n",
       "      <th>0</th>\n",
       "      <td>25</td>\n",
       "      <td>Private</td>\n",
       "      <td>226802</td>\n",
       "      <td>11th</td>\n",
       "      <td>7</td>\n",
       "      <td>Never-married</td>\n",
       "      <td>Machine-op-inspct</td>\n",
       "      <td>Own-child</td>\n",
       "      <td>Black</td>\n",
       "      <td>Male</td>\n",
       "      <td>0</td>\n",
       "      <td>0</td>\n",
       "      <td>40</td>\n",
       "      <td>United-States</td>\n",
       "      <td>&lt;=50K.</td>\n",
       "    </tr>\n",
       "    <tr>\n",
       "      <th>1</th>\n",
       "      <td>38</td>\n",
       "      <td>Private</td>\n",
       "      <td>89814</td>\n",
       "      <td>HS-grad</td>\n",
       "      <td>9</td>\n",
       "      <td>Married-civ-spouse</td>\n",
       "      <td>Farming-fishing</td>\n",
       "      <td>Husband</td>\n",
       "      <td>White</td>\n",
       "      <td>Male</td>\n",
       "      <td>0</td>\n",
       "      <td>0</td>\n",
       "      <td>50</td>\n",
       "      <td>United-States</td>\n",
       "      <td>&lt;=50K.</td>\n",
       "    </tr>\n",
       "    <tr>\n",
       "      <th>2</th>\n",
       "      <td>28</td>\n",
       "      <td>Local-gov</td>\n",
       "      <td>336951</td>\n",
       "      <td>Assoc-acdm</td>\n",
       "      <td>12</td>\n",
       "      <td>Married-civ-spouse</td>\n",
       "      <td>Protective-serv</td>\n",
       "      <td>Husband</td>\n",
       "      <td>White</td>\n",
       "      <td>Male</td>\n",
       "      <td>0</td>\n",
       "      <td>0</td>\n",
       "      <td>40</td>\n",
       "      <td>United-States</td>\n",
       "      <td>&gt;50K.</td>\n",
       "    </tr>\n",
       "    <tr>\n",
       "      <th>3</th>\n",
       "      <td>44</td>\n",
       "      <td>Private</td>\n",
       "      <td>160323</td>\n",
       "      <td>Some-college</td>\n",
       "      <td>10</td>\n",
       "      <td>Married-civ-spouse</td>\n",
       "      <td>Machine-op-inspct</td>\n",
       "      <td>Husband</td>\n",
       "      <td>Black</td>\n",
       "      <td>Male</td>\n",
       "      <td>7688</td>\n",
       "      <td>0</td>\n",
       "      <td>40</td>\n",
       "      <td>United-States</td>\n",
       "      <td>&gt;50K.</td>\n",
       "    </tr>\n",
       "    <tr>\n",
       "      <th>4</th>\n",
       "      <td>18</td>\n",
       "      <td>?</td>\n",
       "      <td>103497</td>\n",
       "      <td>Some-college</td>\n",
       "      <td>10</td>\n",
       "      <td>Never-married</td>\n",
       "      <td>?</td>\n",
       "      <td>Own-child</td>\n",
       "      <td>White</td>\n",
       "      <td>Female</td>\n",
       "      <td>0</td>\n",
       "      <td>0</td>\n",
       "      <td>30</td>\n",
       "      <td>United-States</td>\n",
       "      <td>&lt;=50K.</td>\n",
       "    </tr>\n",
       "    <tr>\n",
       "      <th>5</th>\n",
       "      <td>34</td>\n",
       "      <td>Private</td>\n",
       "      <td>198693</td>\n",
       "      <td>10th</td>\n",
       "      <td>6</td>\n",
       "      <td>Never-married</td>\n",
       "      <td>Other-service</td>\n",
       "      <td>Not-in-family</td>\n",
       "      <td>White</td>\n",
       "      <td>Male</td>\n",
       "      <td>0</td>\n",
       "      <td>0</td>\n",
       "      <td>30</td>\n",
       "      <td>United-States</td>\n",
       "      <td>&lt;=50K.</td>\n",
       "    </tr>\n",
       "    <tr>\n",
       "      <th>6</th>\n",
       "      <td>29</td>\n",
       "      <td>?</td>\n",
       "      <td>227026</td>\n",
       "      <td>HS-grad</td>\n",
       "      <td>9</td>\n",
       "      <td>Never-married</td>\n",
       "      <td>?</td>\n",
       "      <td>Unmarried</td>\n",
       "      <td>Black</td>\n",
       "      <td>Male</td>\n",
       "      <td>0</td>\n",
       "      <td>0</td>\n",
       "      <td>40</td>\n",
       "      <td>United-States</td>\n",
       "      <td>&lt;=50K.</td>\n",
       "    </tr>\n",
       "    <tr>\n",
       "      <th>7</th>\n",
       "      <td>63</td>\n",
       "      <td>Self-emp-not-inc</td>\n",
       "      <td>104626</td>\n",
       "      <td>Prof-school</td>\n",
       "      <td>15</td>\n",
       "      <td>Married-civ-spouse</td>\n",
       "      <td>Prof-specialty</td>\n",
       "      <td>Husband</td>\n",
       "      <td>White</td>\n",
       "      <td>Male</td>\n",
       "      <td>3103</td>\n",
       "      <td>0</td>\n",
       "      <td>32</td>\n",
       "      <td>United-States</td>\n",
       "      <td>&gt;50K.</td>\n",
       "    </tr>\n",
       "    <tr>\n",
       "      <th>8</th>\n",
       "      <td>24</td>\n",
       "      <td>Private</td>\n",
       "      <td>369667</td>\n",
       "      <td>Some-college</td>\n",
       "      <td>10</td>\n",
       "      <td>Never-married</td>\n",
       "      <td>Other-service</td>\n",
       "      <td>Unmarried</td>\n",
       "      <td>White</td>\n",
       "      <td>Female</td>\n",
       "      <td>0</td>\n",
       "      <td>0</td>\n",
       "      <td>40</td>\n",
       "      <td>United-States</td>\n",
       "      <td>&lt;=50K.</td>\n",
       "    </tr>\n",
       "    <tr>\n",
       "      <th>9</th>\n",
       "      <td>55</td>\n",
       "      <td>Private</td>\n",
       "      <td>104996</td>\n",
       "      <td>7th-8th</td>\n",
       "      <td>4</td>\n",
       "      <td>Married-civ-spouse</td>\n",
       "      <td>Craft-repair</td>\n",
       "      <td>Husband</td>\n",
       "      <td>White</td>\n",
       "      <td>Male</td>\n",
       "      <td>0</td>\n",
       "      <td>0</td>\n",
       "      <td>10</td>\n",
       "      <td>United-States</td>\n",
       "      <td>&lt;=50K.</td>\n",
       "    </tr>\n",
       "  </tbody>\n",
       "</table>\n",
       "</div>"
      ],
      "text/plain": [
       "   age          workclass  fnlwgt      education  educational-num  \\\n",
       "0   25            Private  226802           11th                7   \n",
       "1   38            Private   89814        HS-grad                9   \n",
       "2   28          Local-gov  336951     Assoc-acdm               12   \n",
       "3   44            Private  160323   Some-college               10   \n",
       "4   18                  ?  103497   Some-college               10   \n",
       "5   34            Private  198693           10th                6   \n",
       "6   29                  ?  227026        HS-grad                9   \n",
       "7   63   Self-emp-not-inc  104626    Prof-school               15   \n",
       "8   24            Private  369667   Some-college               10   \n",
       "9   55            Private  104996        7th-8th                4   \n",
       "\n",
       "        marital-status          occupation    relationship    race   gender  \\\n",
       "0        Never-married   Machine-op-inspct       Own-child   Black     Male   \n",
       "1   Married-civ-spouse     Farming-fishing         Husband   White     Male   \n",
       "2   Married-civ-spouse     Protective-serv         Husband   White     Male   \n",
       "3   Married-civ-spouse   Machine-op-inspct         Husband   Black     Male   \n",
       "4        Never-married                   ?       Own-child   White   Female   \n",
       "5        Never-married       Other-service   Not-in-family   White     Male   \n",
       "6        Never-married                   ?       Unmarried   Black     Male   \n",
       "7   Married-civ-spouse      Prof-specialty         Husband   White     Male   \n",
       "8        Never-married       Other-service       Unmarried   White   Female   \n",
       "9   Married-civ-spouse        Craft-repair         Husband   White     Male   \n",
       "\n",
       "   capital-gain  capital-loss  hours-per-week  native-country   income  \n",
       "0             0             0              40   United-States   <=50K.  \n",
       "1             0             0              50   United-States   <=50K.  \n",
       "2             0             0              40   United-States    >50K.  \n",
       "3          7688             0              40   United-States    >50K.  \n",
       "4             0             0              30   United-States   <=50K.  \n",
       "5             0             0              30   United-States   <=50K.  \n",
       "6             0             0              40   United-States   <=50K.  \n",
       "7          3103             0              32   United-States    >50K.  \n",
       "8             0             0              40   United-States   <=50K.  \n",
       "9             0             0              10   United-States   <=50K.  "
      ]
     },
     "execution_count": 236,
     "metadata": {},
     "output_type": "execute_result"
    }
   ],
   "source": [
    "#change directory and import data\n",
    "os.getcwd()\n",
    "os.chdir('C:/Users/vidhi/Documents/gitStuff/IncomeAnalysis')\n",
    "\n",
    "#column_names\n",
    "column_names = ['age', 'workclass', 'fnlwgt', 'education', 'educational-num','marital-status', 'occupation', 'relationship', 'race', 'gender','capital-gain', 'capital-loss', 'hours-per-week', 'native-country','income']\n",
    "\n",
    "train = pd.read_csv('income_train.csv', header=None, names = column_names,engine = 'python')\n",
    "test = pd.read_csv('income_test.csv',  header=None, names = column_names, engine = 'python')\n",
    "\n",
    "#check shape of data\n",
    "printmd('## 1.3. Data shape check')\n",
    "print('Train data:',train.shape)\n",
    "print('Test data:',test.shape)\n",
    "income = pd.concat([test,train])\n",
    "income.reset_index(inplace = True, drop = True)\n",
    "print('Full data post combining:',income.shape)\n",
    "printmd('## Snapshot')\n",
    "income.head(10)\n"
   ]
  },
  {
   "cell_type": "markdown",
   "metadata": {},
   "source": [
    "## 1.4 Data quality check"
   ]
  },
  {
   "cell_type": "code",
   "execution_count": 237,
   "metadata": {},
   "outputs": [
    {
     "data": {
      "text/markdown": [
       "## (a) .Columns and their types"
      ],
      "text/plain": [
       "<IPython.core.display.Markdown object>"
      ]
     },
     "metadata": {},
     "output_type": "display_data"
    },
    {
     "name": "stdout",
     "output_type": "stream",
     "text": [
      "<class 'pandas.core.frame.DataFrame'>\n",
      "RangeIndex: 48842 entries, 0 to 48841\n",
      "Data columns (total 15 columns):\n",
      "age                48842 non-null int64\n",
      "workclass          48842 non-null object\n",
      "fnlwgt             48842 non-null int64\n",
      "education          48842 non-null object\n",
      "educational-num    48842 non-null int64\n",
      "marital-status     48842 non-null object\n",
      "occupation         48842 non-null object\n",
      "relationship       48842 non-null object\n",
      "race               48842 non-null object\n",
      "gender             48842 non-null object\n",
      "capital-gain       48842 non-null int64\n",
      "capital-loss       48842 non-null int64\n",
      "hours-per-week     48842 non-null int64\n",
      "native-country     48842 non-null object\n",
      "income             48842 non-null object\n",
      "dtypes: int64(6), object(9)\n",
      "memory usage: 5.6+ MB\n",
      "None\n"
     ]
    }
   ],
   "source": [
    "printmd('## (a) .Columns and their types')\n",
    "print(income.info());"
   ]
  },
  {
   "cell_type": "markdown",
   "metadata": {},
   "source": [
    "**Observation**: A mixture of  categorical and continious columns."
   ]
  },
  {
   "cell_type": "code",
   "execution_count": 238,
   "metadata": {},
   "outputs": [
    {
     "data": {
      "text/markdown": [
       "## (b). Data Snapshot"
      ],
      "text/plain": [
       "<IPython.core.display.Markdown object>"
      ]
     },
     "metadata": {},
     "output_type": "display_data"
    },
    {
     "data": {
      "text/html": [
       "<div>\n",
       "<style scoped>\n",
       "    .dataframe tbody tr th:only-of-type {\n",
       "        vertical-align: middle;\n",
       "    }\n",
       "\n",
       "    .dataframe tbody tr th {\n",
       "        vertical-align: top;\n",
       "    }\n",
       "\n",
       "    .dataframe thead th {\n",
       "        text-align: right;\n",
       "    }\n",
       "</style>\n",
       "<table border=\"1\" class=\"dataframe\">\n",
       "  <thead>\n",
       "    <tr style=\"text-align: right;\">\n",
       "      <th></th>\n",
       "      <th>age</th>\n",
       "      <th>workclass</th>\n",
       "      <th>fnlwgt</th>\n",
       "      <th>education</th>\n",
       "      <th>educational-num</th>\n",
       "      <th>marital-status</th>\n",
       "      <th>occupation</th>\n",
       "      <th>relationship</th>\n",
       "      <th>race</th>\n",
       "      <th>gender</th>\n",
       "      <th>capital-gain</th>\n",
       "      <th>capital-loss</th>\n",
       "      <th>hours-per-week</th>\n",
       "      <th>native-country</th>\n",
       "      <th>income</th>\n",
       "    </tr>\n",
       "  </thead>\n",
       "  <tbody>\n",
       "    <tr>\n",
       "      <th>0</th>\n",
       "      <td>25</td>\n",
       "      <td>Private</td>\n",
       "      <td>226802</td>\n",
       "      <td>11th</td>\n",
       "      <td>7</td>\n",
       "      <td>Never-married</td>\n",
       "      <td>Machine-op-inspct</td>\n",
       "      <td>Own-child</td>\n",
       "      <td>Black</td>\n",
       "      <td>Male</td>\n",
       "      <td>0</td>\n",
       "      <td>0</td>\n",
       "      <td>40</td>\n",
       "      <td>United-States</td>\n",
       "      <td>&lt;=50K.</td>\n",
       "    </tr>\n",
       "    <tr>\n",
       "      <th>1</th>\n",
       "      <td>38</td>\n",
       "      <td>Private</td>\n",
       "      <td>89814</td>\n",
       "      <td>HS-grad</td>\n",
       "      <td>9</td>\n",
       "      <td>Married-civ-spouse</td>\n",
       "      <td>Farming-fishing</td>\n",
       "      <td>Husband</td>\n",
       "      <td>White</td>\n",
       "      <td>Male</td>\n",
       "      <td>0</td>\n",
       "      <td>0</td>\n",
       "      <td>50</td>\n",
       "      <td>United-States</td>\n",
       "      <td>&lt;=50K.</td>\n",
       "    </tr>\n",
       "    <tr>\n",
       "      <th>2</th>\n",
       "      <td>28</td>\n",
       "      <td>Local-gov</td>\n",
       "      <td>336951</td>\n",
       "      <td>Assoc-acdm</td>\n",
       "      <td>12</td>\n",
       "      <td>Married-civ-spouse</td>\n",
       "      <td>Protective-serv</td>\n",
       "      <td>Husband</td>\n",
       "      <td>White</td>\n",
       "      <td>Male</td>\n",
       "      <td>0</td>\n",
       "      <td>0</td>\n",
       "      <td>40</td>\n",
       "      <td>United-States</td>\n",
       "      <td>&gt;50K.</td>\n",
       "    </tr>\n",
       "    <tr>\n",
       "      <th>3</th>\n",
       "      <td>44</td>\n",
       "      <td>Private</td>\n",
       "      <td>160323</td>\n",
       "      <td>Some-college</td>\n",
       "      <td>10</td>\n",
       "      <td>Married-civ-spouse</td>\n",
       "      <td>Machine-op-inspct</td>\n",
       "      <td>Husband</td>\n",
       "      <td>Black</td>\n",
       "      <td>Male</td>\n",
       "      <td>7688</td>\n",
       "      <td>0</td>\n",
       "      <td>40</td>\n",
       "      <td>United-States</td>\n",
       "      <td>&gt;50K.</td>\n",
       "    </tr>\n",
       "    <tr>\n",
       "      <th>4</th>\n",
       "      <td>18</td>\n",
       "      <td>?</td>\n",
       "      <td>103497</td>\n",
       "      <td>Some-college</td>\n",
       "      <td>10</td>\n",
       "      <td>Never-married</td>\n",
       "      <td>?</td>\n",
       "      <td>Own-child</td>\n",
       "      <td>White</td>\n",
       "      <td>Female</td>\n",
       "      <td>0</td>\n",
       "      <td>0</td>\n",
       "      <td>30</td>\n",
       "      <td>United-States</td>\n",
       "      <td>&lt;=50K.</td>\n",
       "    </tr>\n",
       "  </tbody>\n",
       "</table>\n",
       "</div>"
      ],
      "text/plain": [
       "   age   workclass  fnlwgt      education  educational-num  \\\n",
       "0   25     Private  226802           11th                7   \n",
       "1   38     Private   89814        HS-grad                9   \n",
       "2   28   Local-gov  336951     Assoc-acdm               12   \n",
       "3   44     Private  160323   Some-college               10   \n",
       "4   18           ?  103497   Some-college               10   \n",
       "\n",
       "        marital-status          occupation relationship    race   gender  \\\n",
       "0        Never-married   Machine-op-inspct    Own-child   Black     Male   \n",
       "1   Married-civ-spouse     Farming-fishing      Husband   White     Male   \n",
       "2   Married-civ-spouse     Protective-serv      Husband   White     Male   \n",
       "3   Married-civ-spouse   Machine-op-inspct      Husband   Black     Male   \n",
       "4        Never-married                   ?    Own-child   White   Female   \n",
       "\n",
       "   capital-gain  capital-loss  hours-per-week  native-country   income  \n",
       "0             0             0              40   United-States   <=50K.  \n",
       "1             0             0              50   United-States   <=50K.  \n",
       "2             0             0              40   United-States    >50K.  \n",
       "3          7688             0              40   United-States    >50K.  \n",
       "4             0             0              30   United-States   <=50K.  "
      ]
     },
     "execution_count": 238,
     "metadata": {},
     "output_type": "execute_result"
    }
   ],
   "source": [
    "# Top 5 records\n",
    "printmd('## (b). Data Snapshot')\n",
    "income.head()"
   ]
  },
  {
   "cell_type": "code",
   "execution_count": 239,
   "metadata": {},
   "outputs": [
    {
     "data": {
      "text/markdown": [
       "## (c). Summary Statistics"
      ],
      "text/plain": [
       "<IPython.core.display.Markdown object>"
      ]
     },
     "metadata": {},
     "output_type": "display_data"
    },
    {
     "data": {
      "text/html": [
       "<div>\n",
       "<style scoped>\n",
       "    .dataframe tbody tr th:only-of-type {\n",
       "        vertical-align: middle;\n",
       "    }\n",
       "\n",
       "    .dataframe tbody tr th {\n",
       "        vertical-align: top;\n",
       "    }\n",
       "\n",
       "    .dataframe thead th {\n",
       "        text-align: right;\n",
       "    }\n",
       "</style>\n",
       "<table border=\"1\" class=\"dataframe\">\n",
       "  <thead>\n",
       "    <tr style=\"text-align: right;\">\n",
       "      <th></th>\n",
       "      <th>age</th>\n",
       "      <th>fnlwgt</th>\n",
       "      <th>educational-num</th>\n",
       "      <th>capital-gain</th>\n",
       "      <th>capital-loss</th>\n",
       "      <th>hours-per-week</th>\n",
       "    </tr>\n",
       "  </thead>\n",
       "  <tbody>\n",
       "    <tr>\n",
       "      <th>count</th>\n",
       "      <td>48842.000000</td>\n",
       "      <td>4.884200e+04</td>\n",
       "      <td>48842.000000</td>\n",
       "      <td>48842.000000</td>\n",
       "      <td>48842.000000</td>\n",
       "      <td>48842.000000</td>\n",
       "    </tr>\n",
       "    <tr>\n",
       "      <th>mean</th>\n",
       "      <td>38.643585</td>\n",
       "      <td>1.896641e+05</td>\n",
       "      <td>10.078089</td>\n",
       "      <td>1079.067626</td>\n",
       "      <td>87.502314</td>\n",
       "      <td>40.422382</td>\n",
       "    </tr>\n",
       "    <tr>\n",
       "      <th>std</th>\n",
       "      <td>13.710510</td>\n",
       "      <td>1.056040e+05</td>\n",
       "      <td>2.570973</td>\n",
       "      <td>7452.019058</td>\n",
       "      <td>403.004552</td>\n",
       "      <td>12.391444</td>\n",
       "    </tr>\n",
       "    <tr>\n",
       "      <th>min</th>\n",
       "      <td>17.000000</td>\n",
       "      <td>1.228500e+04</td>\n",
       "      <td>1.000000</td>\n",
       "      <td>0.000000</td>\n",
       "      <td>0.000000</td>\n",
       "      <td>1.000000</td>\n",
       "    </tr>\n",
       "    <tr>\n",
       "      <th>25%</th>\n",
       "      <td>28.000000</td>\n",
       "      <td>1.175505e+05</td>\n",
       "      <td>9.000000</td>\n",
       "      <td>0.000000</td>\n",
       "      <td>0.000000</td>\n",
       "      <td>40.000000</td>\n",
       "    </tr>\n",
       "    <tr>\n",
       "      <th>50%</th>\n",
       "      <td>37.000000</td>\n",
       "      <td>1.781445e+05</td>\n",
       "      <td>10.000000</td>\n",
       "      <td>0.000000</td>\n",
       "      <td>0.000000</td>\n",
       "      <td>40.000000</td>\n",
       "    </tr>\n",
       "    <tr>\n",
       "      <th>75%</th>\n",
       "      <td>48.000000</td>\n",
       "      <td>2.376420e+05</td>\n",
       "      <td>12.000000</td>\n",
       "      <td>0.000000</td>\n",
       "      <td>0.000000</td>\n",
       "      <td>45.000000</td>\n",
       "    </tr>\n",
       "    <tr>\n",
       "      <th>max</th>\n",
       "      <td>90.000000</td>\n",
       "      <td>1.490400e+06</td>\n",
       "      <td>16.000000</td>\n",
       "      <td>99999.000000</td>\n",
       "      <td>4356.000000</td>\n",
       "      <td>99.000000</td>\n",
       "    </tr>\n",
       "  </tbody>\n",
       "</table>\n",
       "</div>"
      ],
      "text/plain": [
       "                age        fnlwgt  educational-num  capital-gain  \\\n",
       "count  48842.000000  4.884200e+04     48842.000000  48842.000000   \n",
       "mean      38.643585  1.896641e+05        10.078089   1079.067626   \n",
       "std       13.710510  1.056040e+05         2.570973   7452.019058   \n",
       "min       17.000000  1.228500e+04         1.000000      0.000000   \n",
       "25%       28.000000  1.175505e+05         9.000000      0.000000   \n",
       "50%       37.000000  1.781445e+05        10.000000      0.000000   \n",
       "75%       48.000000  2.376420e+05        12.000000      0.000000   \n",
       "max       90.000000  1.490400e+06        16.000000  99999.000000   \n",
       "\n",
       "       capital-loss  hours-per-week  \n",
       "count  48842.000000    48842.000000  \n",
       "mean      87.502314       40.422382  \n",
       "std      403.004552       12.391444  \n",
       "min        0.000000        1.000000  \n",
       "25%        0.000000       40.000000  \n",
       "50%        0.000000       40.000000  \n",
       "75%        0.000000       45.000000  \n",
       "max     4356.000000       99.000000  "
      ]
     },
     "execution_count": 239,
     "metadata": {},
     "output_type": "execute_result"
    }
   ],
   "source": [
    "printmd('## (c). Summary Statistics')\n",
    "\n",
    "income.describe()"
   ]
  },
  {
   "cell_type": "markdown",
   "metadata": {},
   "source": [
    "**Observation**: \n",
    "* Heavy skewness in capital gain and capital loss columns\n"
   ]
  },
  {
   "cell_type": "code",
   "execution_count": 240,
   "metadata": {},
   "outputs": [
    {
     "data": {
      "text/markdown": [
       "## (d). Missing values"
      ],
      "text/plain": [
       "<IPython.core.display.Markdown object>"
      ]
     },
     "metadata": {},
     "output_type": "display_data"
    },
    {
     "data": {
      "text/plain": [
       "age                0\n",
       "workclass          0\n",
       "fnlwgt             0\n",
       "education          0\n",
       "educational-num    0\n",
       "marital-status     0\n",
       "occupation         0\n",
       "relationship       0\n",
       "race               0\n",
       "gender             0\n",
       "capital-gain       0\n",
       "capital-loss       0\n",
       "hours-per-week     0\n",
       "native-country     0\n",
       "income             0\n",
       "dtype: int64"
      ]
     },
     "execution_count": 240,
     "metadata": {},
     "output_type": "execute_result"
    }
   ],
   "source": [
    "printmd('## (d). Missing values')\n",
    "income.isnull().sum()"
   ]
  },
  {
   "cell_type": "code",
   "execution_count": 241,
   "metadata": {},
   "outputs": [
    {
     "data": {
      "text/markdown": [
       "## (e) Correlation Plot"
      ],
      "text/plain": [
       "<IPython.core.display.Markdown object>"
      ]
     },
     "metadata": {},
     "output_type": "display_data"
    },
    {
     "data": {
      "image/png": "[encoded data removed]",
      "text/plain": [
       "<Figure size 432x288 with 2 Axes>"
      ]
     },
     "metadata": {
      "needs_background": "light"
     },
     "output_type": "display_data"
    }
   ],
   "source": [
    "printmd('## (e) Correlation Plot')\n",
    "corrMatrix = income.corr()\n",
    "sns.heatmap(corrMatrix, annot=True)\n",
    "plt.show()"
   ]
  },
  {
   "cell_type": "markdown",
   "metadata": {},
   "source": [
    "**Observation**: In ideal scenario predictors should not have any correlation among themselves, this plot helps us confirm that.."
   ]
  },
  {
   "cell_type": "markdown",
   "metadata": {},
   "source": [
    "## 1.5 Data quality check"
   ]
  },
  {
   "cell_type": "code",
   "execution_count": 247,
   "metadata": {},
   "outputs": [],
   "source": [
    "#Response\n",
    "income['income']=income['income'].str.strip()\n",
    "income=income.replace({'income' : { '<=50K.' : '<=50K', '>50K.' : '>50K'}})\n",
    "\n",
    "#workclass\n",
    "income['workclass']=income['workclass'].str.strip()\n",
    "income=income.replace({'workclass' : { '?' : 'Not-specified'}})\n",
    "\n",
    "#Headers\n",
    "income=income.rename(columns={\"marital-status\": \"MaritalSt\",\"educational-num\": \"Edunum\" ,\"capital-gain\": \"capitalgain\",\"capital-loss\": \"capitalloss\",\"hours-per-week\": \"hoursperweek\",\"native-country\": \"nativecountry\"})\n",
    "\n",
    "#Occupation\n",
    "income['occupation']=income['occupation'].str.strip()\n",
    "income=income.replace({'occupation' : { '?' : 'Not-specified'}})\n",
    "\n",
    "#nativecountry\n",
    "income['nativecountry']=income['nativecountry'].str.strip()\n",
    "income=income.replace({'nativecountry' : { '?' : 'Not-specified'}})\n"
   ]
  },
  {
   "cell_type": "markdown",
   "metadata": {},
   "source": [
    "### Sampling Check: \n",
    "It is imperative to understand if the data under study covers all countries of the world or is baised towards a geographical location. For doing the same I have **created a \"country\" - \"country code\" dataset** of all unique countries present in income dataset. A group-by analysis will help understand the distribution of count of subjects taken under study\n",
    "\n",
    "**Explanation of Country code dataset**\n",
    "\n",
    "* This dataset has country names with its country code\n",
    "* 2-3 character country codes that represent country names makes it easier to plot the country wise data\n",
    "* Gives us easier comprehension of information\n",
    "\n",
    "**Steps:**\n",
    "* Import country code data , investigate the shape (42,2)\n",
    "* Investigate the unique columns and match it with original dataset\n",
    "* **Join** the 2 datasets and name it as income_cc\n",
    "* **groupby** income_cc based on country code and calculate a percentage of count using **lambda** functions\n",
    "* plot a bar chart of this percentage count from each country\n"
   ]
  },
  {
   "cell_type": "code",
   "execution_count": 248,
   "metadata": {},
   "outputs": [
    {
     "data": {
      "text/plain": [
       "(42, 2)"
      ]
     },
     "execution_count": 248,
     "metadata": {},
     "output_type": "execute_result"
    }
   ],
   "source": [
    "countrycode = pd.read_csv('countrycode.csv', engine = 'python')\n",
    "countrycode.shape"
   ]
  },
  {
   "cell_type": "code",
   "execution_count": 249,
   "metadata": {},
   "outputs": [
    {
     "data": {
      "text/plain": [
       "array(['Cambodia', 'Canada', 'China', 'Columbia', 'Cuba',\n",
       "       'Dominican-Republic', 'Ecuador', 'El-Salvador', 'England',\n",
       "       'France', 'Germany', 'Greece', 'Guatemala', 'Haiti',\n",
       "       'Holand-Netherlands', 'Honduras', 'Hong', 'Hungary', 'India',\n",
       "       'Iran', 'Ireland', 'Italy', 'Jamaica', 'Japan', 'Laos', 'Mexico',\n",
       "       'Nicaragua', 'Not-specified', 'Outlying-US(Guam-USVI-etc)', 'Peru',\n",
       "       'Philippines', 'Poland', 'Portugal', 'Puerto-Rico', 'Scotland',\n",
       "       'South', 'Taiwan', 'Thailand', 'Trinadad&Tobago', 'United-States',\n",
       "       'Vietnam', 'Yugoslavia'], dtype=object)"
      ]
     },
     "execution_count": 249,
     "metadata": {},
     "output_type": "execute_result"
    }
   ],
   "source": [
    "income[['nativecountry']].sort_values(by=['nativecountry'])['nativecountry'].unique()"
   ]
  },
  {
   "cell_type": "code",
   "execution_count": 250,
   "metadata": {},
   "outputs": [
    {
     "data": {
      "text/plain": [
       "array(['?', 'Cambodia', 'Canada', 'China', 'Columbia', 'Cuba',\n",
       "       'Dominican-Republic', 'Ecuador', 'El-Salvador', 'England',\n",
       "       'France', 'Germany', 'Greece', 'Guatemala', 'Haiti',\n",
       "       'Holand-Netherlands', 'Honduras', 'Hong', 'Hungary', 'India',\n",
       "       'Iran', 'Ireland', 'Italy', 'Jamaica', 'Japan', 'Laos', 'Mexico',\n",
       "       'Nicaragua', 'Outlying-US(Guam-USVI-etc)', 'Peru', 'Philippines',\n",
       "       'Poland', 'Portugal', 'Puerto-Rico', 'Scotland', 'South', 'Taiwan',\n",
       "       'Thailand', 'Trinadad&Tobago', 'United-States', 'Vietnam',\n",
       "       'Yugoslavia'], dtype=object)"
      ]
     },
     "execution_count": 250,
     "metadata": {},
     "output_type": "execute_result"
    }
   ],
   "source": [
    "countrycode['country'].unique()"
   ]
  },
  {
   "cell_type": "code",
   "execution_count": 251,
   "metadata": {},
   "outputs": [],
   "source": [
    "#join\n",
    "income_cc=pd.merge(income,countrycode,left_on='nativecountry',right_on='country',how=\"left\")"
   ]
  },
  {
   "cell_type": "code",
   "execution_count": 252,
   "metadata": {},
   "outputs": [
    {
     "data": {
      "text/plain": [
       "code\n",
       "US     89.742\n",
       "MX      1.947\n",
       "PH      0.604\n",
       "DE      0.422\n",
       "PR      0.377\n",
       "CA      0.373\n",
       "SV      0.317\n",
       "IN      0.309\n",
       "CU      0.283\n",
       "ENG     0.260\n",
       "CN      0.250\n",
       "S       0.235\n",
       "JM      0.217\n",
       "IT      0.215\n",
       "DO      0.211\n",
       "JP      0.188\n",
       "GT      0.180\n",
       "PL      0.178\n",
       "VN      0.176\n",
       "CO      0.174\n",
       "HT      0.154\n",
       "PT      0.137\n",
       "TW      0.133\n",
       "IR      0.121\n",
       "NI      0.100\n",
       "GR      0.100\n",
       "PE      0.094\n",
       "EC      0.092\n",
       "FR      0.078\n",
       "IE      0.076\n",
       "TH      0.061\n",
       "HK      0.061\n",
       "KH      0.057\n",
       "TT      0.055\n",
       "YG      0.047\n",
       "OUS     0.047\n",
       "LA      0.047\n",
       "SCO     0.043\n",
       "HN      0.041\n",
       "HU      0.039\n",
       "HO      0.002\n",
       "dtype: float64"
      ]
     },
     "execution_count": 252,
     "metadata": {},
     "output_type": "execute_result"
    }
   ],
   "source": [
    "#group by country code\n",
    "geo_dist=income_cc.groupby('code').size()\n",
    "n=income_cc.shape[0]\n",
    "\n",
    "# use lambda function to calculate percentage of \n",
    "geo_perdist=geo_dist.apply(lambda x: round((x/n)*100,3))\n",
    "\n",
    "#sort values\n",
    "geo_perdist.sort_values(ascending=False)"
   ]
  },
  {
   "cell_type": "code",
   "execution_count": 253,
   "metadata": {},
   "outputs": [
    {
     "data": {
      "text/plain": [
       "<matplotlib.axes._subplots.AxesSubplot at 0x24c65859198>"
      ]
     },
     "execution_count": 253,
     "metadata": {},
     "output_type": "execute_result"
    },
    {
     "data": {
      "image/png": "[encoded data removed]",
      "text/plain": [
       "<Figure size 1440x360 with 2 Axes>"
      ]
     },
     "metadata": {
      "needs_background": "light"
     },
     "output_type": "display_data"
    }
   ],
   "source": [
    "fig = plt.figure()\n",
    "\n",
    "# Divide the figure into a 2x1 grid, and give me the first section\n",
    "ax1 = fig.add_subplot(121)\n",
    "\n",
    "# Divide the figure into a 2x1 grid, and give me the first section\n",
    "ax2 = fig.add_subplot(122)\n",
    "\n",
    "#plot a graph with USA\n",
    "geo_perdist.plot(kind='bar',ax=ax1,figsize=(20,5))\n",
    "#plot a graph without USA\n",
    "geo_perdist.drop(labels=['US']).plot(kind='bar',ax=ax2,figsize=(20,5))\n"
   ]
  },
  {
   "cell_type": "markdown",
   "metadata": {},
   "source": [
    "**Insight**"
   ]
  },
  {
   "cell_type": "markdown",
   "metadata": {},
   "source": [
    "It is clear that data distribution based on geograpgy is baised \n",
    "\n",
    "* Close to **90\\%** of candidates under study were from USA\n",
    "* The second highest number were from Mexico but that obly comprises of **2%** of total data\n",
    "\n",
    "**Conclusion**\n",
    "This analysis majorly covers candidates from USA (90%) hence we need to be cautious when applying the models based on this data on data from other countries.\n"
   ]
  },
  {
   "cell_type": "markdown",
   "metadata": {},
   "source": [
    "### Snapshot of data"
   ]
  },
  {
   "cell_type": "code",
   "execution_count": 256,
   "metadata": {},
   "outputs": [
    {
     "data": {
      "text/html": [
       "<div>\n",
       "<style scoped>\n",
       "    .dataframe tbody tr th:only-of-type {\n",
       "        vertical-align: middle;\n",
       "    }\n",
       "\n",
       "    .dataframe tbody tr th {\n",
       "        vertical-align: top;\n",
       "    }\n",
       "\n",
       "    .dataframe thead th {\n",
       "        text-align: right;\n",
       "    }\n",
       "</style>\n",
       "<table border=\"1\" class=\"dataframe\">\n",
       "  <thead>\n",
       "    <tr style=\"text-align: right;\">\n",
       "      <th></th>\n",
       "      <th>age</th>\n",
       "      <th>workclass</th>\n",
       "      <th>fnlwgt</th>\n",
       "      <th>education</th>\n",
       "      <th>Edunum</th>\n",
       "      <th>MaritalSt</th>\n",
       "      <th>occupation</th>\n",
       "      <th>relationship</th>\n",
       "      <th>race</th>\n",
       "      <th>gender</th>\n",
       "      <th>capitalgain</th>\n",
       "      <th>capitalloss</th>\n",
       "      <th>hoursperweek</th>\n",
       "      <th>nativecountry</th>\n",
       "      <th>income</th>\n",
       "    </tr>\n",
       "  </thead>\n",
       "  <tbody>\n",
       "    <tr>\n",
       "      <th>0</th>\n",
       "      <td>25</td>\n",
       "      <td>Private</td>\n",
       "      <td>226802</td>\n",
       "      <td>11th</td>\n",
       "      <td>7</td>\n",
       "      <td>Never-married</td>\n",
       "      <td>Machine-op-inspct</td>\n",
       "      <td>Own-child</td>\n",
       "      <td>Black</td>\n",
       "      <td>Male</td>\n",
       "      <td>0</td>\n",
       "      <td>0</td>\n",
       "      <td>40</td>\n",
       "      <td>United-States</td>\n",
       "      <td>&lt;=50K</td>\n",
       "    </tr>\n",
       "    <tr>\n",
       "      <th>1</th>\n",
       "      <td>38</td>\n",
       "      <td>Private</td>\n",
       "      <td>89814</td>\n",
       "      <td>HS-grad</td>\n",
       "      <td>9</td>\n",
       "      <td>Married-civ-spouse</td>\n",
       "      <td>Farming-fishing</td>\n",
       "      <td>Husband</td>\n",
       "      <td>White</td>\n",
       "      <td>Male</td>\n",
       "      <td>0</td>\n",
       "      <td>0</td>\n",
       "      <td>50</td>\n",
       "      <td>United-States</td>\n",
       "      <td>&lt;=50K</td>\n",
       "    </tr>\n",
       "    <tr>\n",
       "      <th>2</th>\n",
       "      <td>28</td>\n",
       "      <td>Local-gov</td>\n",
       "      <td>336951</td>\n",
       "      <td>Assoc-acdm</td>\n",
       "      <td>12</td>\n",
       "      <td>Married-civ-spouse</td>\n",
       "      <td>Protective-serv</td>\n",
       "      <td>Husband</td>\n",
       "      <td>White</td>\n",
       "      <td>Male</td>\n",
       "      <td>0</td>\n",
       "      <td>0</td>\n",
       "      <td>40</td>\n",
       "      <td>United-States</td>\n",
       "      <td>&gt;50K</td>\n",
       "    </tr>\n",
       "    <tr>\n",
       "      <th>3</th>\n",
       "      <td>44</td>\n",
       "      <td>Private</td>\n",
       "      <td>160323</td>\n",
       "      <td>Some-college</td>\n",
       "      <td>10</td>\n",
       "      <td>Married-civ-spouse</td>\n",
       "      <td>Machine-op-inspct</td>\n",
       "      <td>Husband</td>\n",
       "      <td>Black</td>\n",
       "      <td>Male</td>\n",
       "      <td>7688</td>\n",
       "      <td>0</td>\n",
       "      <td>40</td>\n",
       "      <td>United-States</td>\n",
       "      <td>&gt;50K</td>\n",
       "    </tr>\n",
       "    <tr>\n",
       "      <th>4</th>\n",
       "      <td>18</td>\n",
       "      <td>Not-specified</td>\n",
       "      <td>103497</td>\n",
       "      <td>Some-college</td>\n",
       "      <td>10</td>\n",
       "      <td>Never-married</td>\n",
       "      <td>Not-specified</td>\n",
       "      <td>Own-child</td>\n",
       "      <td>White</td>\n",
       "      <td>Female</td>\n",
       "      <td>0</td>\n",
       "      <td>0</td>\n",
       "      <td>30</td>\n",
       "      <td>United-States</td>\n",
       "      <td>&lt;=50K</td>\n",
       "    </tr>\n",
       "    <tr>\n",
       "      <th>5</th>\n",
       "      <td>34</td>\n",
       "      <td>Private</td>\n",
       "      <td>198693</td>\n",
       "      <td>10th</td>\n",
       "      <td>6</td>\n",
       "      <td>Never-married</td>\n",
       "      <td>Other-service</td>\n",
       "      <td>Not-in-family</td>\n",
       "      <td>White</td>\n",
       "      <td>Male</td>\n",
       "      <td>0</td>\n",
       "      <td>0</td>\n",
       "      <td>30</td>\n",
       "      <td>United-States</td>\n",
       "      <td>&lt;=50K</td>\n",
       "    </tr>\n",
       "    <tr>\n",
       "      <th>6</th>\n",
       "      <td>29</td>\n",
       "      <td>Not-specified</td>\n",
       "      <td>227026</td>\n",
       "      <td>HS-grad</td>\n",
       "      <td>9</td>\n",
       "      <td>Never-married</td>\n",
       "      <td>Not-specified</td>\n",
       "      <td>Unmarried</td>\n",
       "      <td>Black</td>\n",
       "      <td>Male</td>\n",
       "      <td>0</td>\n",
       "      <td>0</td>\n",
       "      <td>40</td>\n",
       "      <td>United-States</td>\n",
       "      <td>&lt;=50K</td>\n",
       "    </tr>\n",
       "    <tr>\n",
       "      <th>7</th>\n",
       "      <td>63</td>\n",
       "      <td>Self-emp-not-inc</td>\n",
       "      <td>104626</td>\n",
       "      <td>Prof-school</td>\n",
       "      <td>15</td>\n",
       "      <td>Married-civ-spouse</td>\n",
       "      <td>Prof-specialty</td>\n",
       "      <td>Husband</td>\n",
       "      <td>White</td>\n",
       "      <td>Male</td>\n",
       "      <td>3103</td>\n",
       "      <td>0</td>\n",
       "      <td>32</td>\n",
       "      <td>United-States</td>\n",
       "      <td>&gt;50K</td>\n",
       "    </tr>\n",
       "    <tr>\n",
       "      <th>8</th>\n",
       "      <td>24</td>\n",
       "      <td>Private</td>\n",
       "      <td>369667</td>\n",
       "      <td>Some-college</td>\n",
       "      <td>10</td>\n",
       "      <td>Never-married</td>\n",
       "      <td>Other-service</td>\n",
       "      <td>Unmarried</td>\n",
       "      <td>White</td>\n",
       "      <td>Female</td>\n",
       "      <td>0</td>\n",
       "      <td>0</td>\n",
       "      <td>40</td>\n",
       "      <td>United-States</td>\n",
       "      <td>&lt;=50K</td>\n",
       "    </tr>\n",
       "    <tr>\n",
       "      <th>9</th>\n",
       "      <td>55</td>\n",
       "      <td>Private</td>\n",
       "      <td>104996</td>\n",
       "      <td>7th-8th</td>\n",
       "      <td>4</td>\n",
       "      <td>Married-civ-spouse</td>\n",
       "      <td>Craft-repair</td>\n",
       "      <td>Husband</td>\n",
       "      <td>White</td>\n",
       "      <td>Male</td>\n",
       "      <td>0</td>\n",
       "      <td>0</td>\n",
       "      <td>10</td>\n",
       "      <td>United-States</td>\n",
       "      <td>&lt;=50K</td>\n",
       "    </tr>\n",
       "  </tbody>\n",
       "</table>\n",
       "</div>"
      ],
      "text/plain": [
       "   age         workclass  fnlwgt      education  Edunum            MaritalSt  \\\n",
       "0   25           Private  226802           11th       7        Never-married   \n",
       "1   38           Private   89814        HS-grad       9   Married-civ-spouse   \n",
       "2   28         Local-gov  336951     Assoc-acdm      12   Married-civ-spouse   \n",
       "3   44           Private  160323   Some-college      10   Married-civ-spouse   \n",
       "4   18     Not-specified  103497   Some-college      10        Never-married   \n",
       "5   34           Private  198693           10th       6        Never-married   \n",
       "6   29     Not-specified  227026        HS-grad       9        Never-married   \n",
       "7   63  Self-emp-not-inc  104626    Prof-school      15   Married-civ-spouse   \n",
       "8   24           Private  369667   Some-college      10        Never-married   \n",
       "9   55           Private  104996        7th-8th       4   Married-civ-spouse   \n",
       "\n",
       "          occupation    relationship    race   gender  capitalgain  \\\n",
       "0  Machine-op-inspct       Own-child   Black     Male            0   \n",
       "1    Farming-fishing         Husband   White     Male            0   \n",
       "2    Protective-serv         Husband   White     Male            0   \n",
       "3  Machine-op-inspct         Husband   Black     Male         7688   \n",
       "4      Not-specified       Own-child   White   Female            0   \n",
       "5      Other-service   Not-in-family   White     Male            0   \n",
       "6      Not-specified       Unmarried   Black     Male            0   \n",
       "7     Prof-specialty         Husband   White     Male         3103   \n",
       "8      Other-service       Unmarried   White   Female            0   \n",
       "9       Craft-repair         Husband   White     Male            0   \n",
       "\n",
       "   capitalloss  hoursperweek  nativecountry income  \n",
       "0            0            40  United-States  <=50K  \n",
       "1            0            50  United-States  <=50K  \n",
       "2            0            40  United-States   >50K  \n",
       "3            0            40  United-States   >50K  \n",
       "4            0            30  United-States  <=50K  \n",
       "5            0            30  United-States  <=50K  \n",
       "6            0            40  United-States  <=50K  \n",
       "7            0            32  United-States   >50K  \n",
       "8            0            40  United-States  <=50K  \n",
       "9            0            10  United-States  <=50K  "
      ]
     },
     "execution_count": 256,
     "metadata": {},
     "output_type": "execute_result"
    }
   ],
   "source": [
    "income.head(10)"
   ]
  },
  {
   "cell_type": "markdown",
   "metadata": {},
   "source": [
    "## 2.0. Exploratory Data Analysis\n",
    "### Visualization based analysis"
   ]
  },
  {
   "cell_type": "markdown",
   "metadata": {},
   "source": [
    "### (a).Categorical columns: data pre processing"
   ]
  },
  {
   "cell_type": "code",
   "execution_count": 257,
   "metadata": {},
   "outputs": [],
   "source": [
    "# Creating a dictionary that has unique combinations of education and it's corresponding education level\n",
    "edu_level = {}\n",
    "for x,y in income[['Edunum','education']].drop_duplicates().itertuples(index=False):\n",
    "    edu_level[y] = x\n"
   ]
  },
  {
   "cell_type": "markdown",
   "metadata": {},
   "source": [
    "#### Scrub data for better Visualization"
   ]
  },
  {
   "cell_type": "code",
   "execution_count": 260,
   "metadata": {},
   "outputs": [],
   "source": [
    "\n",
    "education = round(pd.crosstab(income.education, income.income).div(pd.crosstab(income.education, income.income).apply(sum,1),0),2)\n",
    "education = education.reindex(sorted(edu_level, key=edu_level.get, reverse=False))\n",
    "\n",
    "workclass = round(pd.crosstab(income.workclass, income.income).div(pd.crosstab(income.workclass, income.income).apply(sum,1),0),2)\n",
    "workclass = workclass.reindex()\n",
    "\n",
    "MaritalSt = round(pd.crosstab(income.MaritalSt, income.income).div(pd.crosstab(income.MaritalSt, income.income).apply(sum,1),0),2)\n",
    "MaritalSt = MaritalSt.reindex()\n",
    "\n",
    "occupation = round(pd.crosstab(income.occupation, income.income).div(pd.crosstab(income.occupation, income.income).apply(sum,1),0),2)\n",
    "occupation = occupation.reindex()\n",
    "\n",
    "race = round(pd.crosstab(income.race, income.income).div(pd.crosstab(income.race, income.income).apply(sum,1),0),2)\n",
    "race = race.reindex()\n",
    "\n",
    "gender = round(pd.crosstab(income.gender, income.income).div(pd.crosstab(income.gender, income.income).apply(sum,1),0),2)\n",
    "gender = gender.reindex()\n",
    "\n",
    "nativecountry = round(pd.crosstab(income.nativecountry, income.income).div(pd.crosstab(income.nativecountry, income.income).apply(sum,1),0),2)\n",
    "nativecountry = nativecountry.reindex()"
   ]
  },
  {
   "cell_type": "markdown",
   "metadata": {},
   "source": [
    "### Education | Workclass"
   ]
  },
  {
   "cell_type": "code",
   "execution_count": 261,
   "metadata": {},
   "outputs": [
    {
     "data": {
      "text/plain": [
       "Text(0, 0.5, 'Proportion of population')"
      ]
     },
     "execution_count": 261,
     "metadata": {},
     "output_type": "execute_result"
    },
    {
     "data": {
      "image/png": "[encoded data removed]",
      "text/plain": [
       "<Figure size 1440x360 with 2 Axes>"
      ]
     },
     "metadata": {
      "needs_background": "light"
     },
     "output_type": "display_data"
    }
   ],
   "source": [
    "fig = plt.figure()\n",
    "\n",
    "# Divide the figure into a 2x1 grid, and give me the first section\n",
    "ax1 = fig.add_subplot(121)\n",
    "\n",
    "# Divide the figure into a 2x1 grid, and give me the second section\n",
    "ax2 = fig.add_subplot(122)\n",
    "\n",
    "education.plot(kind ='bar', title = 'Education levels', figsize = (20,5),ax=ax1,legend=False);\n",
    "ax1.set_ylabel('Proportion of population')\n",
    "\n",
    "workclass.plot(kind ='bar', title = 'Workclass levels', figsize = (20,5),ax=ax2);\n",
    "ax2.set_ylabel('Proportion of population')"
   ]
  },
  {
   "cell_type": "markdown",
   "metadata": {},
   "source": [
    "**Observation:** \n",
    "* As the education of a person increases his salary also increases\n",
    "* People who have never worked have never earned, which is an obvious expectation.\n",
    "* Higher propotion of Self employed people earn more than 50,000\n"
   ]
  },
  {
   "cell_type": "markdown",
   "metadata": {},
   "source": [
    "### Marital Status | Occupation"
   ]
  },
  {
   "cell_type": "code",
   "execution_count": 263,
   "metadata": {},
   "outputs": [
    {
     "data": {
      "text/plain": [
       "Text(0, 0.5, 'Proportion of population')"
      ]
     },
     "execution_count": 263,
     "metadata": {},
     "output_type": "execute_result"
    },
    {
     "data": {
      "image/png": "[encoded data removed]",
      "text/plain": [
       "<Figure size 1440x360 with 2 Axes>"
      ]
     },
     "metadata": {
      "needs_background": "light"
     },
     "output_type": "display_data"
    }
   ],
   "source": [
    "fig = plt.figure()\n",
    "\n",
    "# Divide the figure into a 2x1 grid, and give me the first section\n",
    "ax1 = fig.add_subplot(121)\n",
    "\n",
    "# Divide the figure into a 2x1 grid, and give me the second section\n",
    "ax2 = fig.add_subplot(122)\n",
    "\n",
    "MaritalSt.plot(kind ='bar', title = 'Marital Status', figsize = (20,5),ax=ax1,legend=False);\n",
    "ax1.set_ylabel('Proportion of population')\n",
    "\n",
    "occupation.plot(kind ='bar', title = 'Occupation', figsize = (20,5),ax=ax2);\n",
    "ax2.set_ylabel('Proportion of population')"
   ]
  },
  {
   "cell_type": "markdown",
   "metadata": {},
   "source": [
    "**Observation:** \n",
    "* Higher propotion of people who are Single earn <50,000\n",
    "* Higher propotion of people in category Professors and Exec Managers have >50,000 salary\n",
    "* Very few Private house servants earn >50,000 salary\n"
   ]
  },
  {
   "cell_type": "markdown",
   "metadata": {},
   "source": [
    "### Race | Gender"
   ]
  },
  {
   "cell_type": "code",
   "execution_count": 264,
   "metadata": {},
   "outputs": [
    {
     "data": {
      "text/plain": [
       "Text(0, 0.5, 'Proportion of population')"
      ]
     },
     "execution_count": 264,
     "metadata": {},
     "output_type": "execute_result"
    },
    {
     "data": {
      "image/png": "[encoded data removed]",
      "text/plain": [
       "<Figure size 1440x360 with 2 Axes>"
      ]
     },
     "metadata": {
      "needs_background": "light"
     },
     "output_type": "display_data"
    }
   ],
   "source": [
    "fig = plt.figure()\n",
    "\n",
    "# Divide the figure into a 2x1 grid, and give me the first section\n",
    "ax1 = fig.add_subplot(121)\n",
    "\n",
    "# Divide the figure into a 2x1 grid, and give me the second section\n",
    "ax2 = fig.add_subplot(122)\n",
    "\n",
    "race.plot(kind ='bar', title = 'Race', figsize = (20,5),ax=ax1,legend=False);\n",
    "ax1.set_ylabel('Proportion of population')\n",
    "\n",
    "gender.plot(kind ='bar', title = 'Gender',ax=ax2,figsize = (20,5));\n",
    "ax2.set_ylabel('Proportion of population')"
   ]
  },
  {
   "cell_type": "markdown",
   "metadata": {},
   "source": [
    "## Observation\n",
    "* Higher propotion of Asian people earn more than 50,000 \n",
    "* Higher propotion of females earn <50,000 as compared to males"
   ]
  },
  {
   "cell_type": "markdown",
   "metadata": {},
   "source": [
    "### Country"
   ]
  },
  {
   "cell_type": "code",
   "execution_count": 266,
   "metadata": {},
   "outputs": [
    {
     "data": {
      "text/plain": [
       "Text(0, 0.5, 'Proportion of population')"
      ]
     },
     "execution_count": 266,
     "metadata": {},
     "output_type": "execute_result"
    },
    {
     "data": {
      "image/png": "[encoded data removed]",
      "text/plain": [
       "<Figure size 2880x360 with 1 Axes>"
      ]
     },
     "metadata": {
      "needs_background": "light"
     },
     "output_type": "display_data"
    }
   ],
   "source": [
    "fig = plt.figure()\n",
    "\n",
    "# Divide the figure into a 2x1 grid, and give me the first section\n",
    "ax1 = fig.add_subplot(121)\n",
    "\n",
    "nativecountry.plot(kind ='bar', title = 'Country', figsize = (40,5),ax=ax1,legend=False);\n",
    "ax1.set_ylabel('Proportion of population')"
   ]
  },
  {
   "cell_type": "markdown",
   "metadata": {},
   "source": [
    "## Observation:\n",
    "* India, France, England, Canada, Taiwan have comparatively higher propotion of high earners than other countries."
   ]
  },
  {
   "cell_type": "markdown",
   "metadata": {},
   "source": [
    "### Continious Columns"
   ]
  },
  {
   "cell_type": "markdown",
   "metadata": {},
   "source": [
    "### Age | hours per week"
   ]
  },
  {
   "cell_type": "code",
   "execution_count": 267,
   "metadata": {},
   "outputs": [
    {
     "data": {
      "image/png": "[encoded data removed]",
      "text/plain": [
       "<Figure size 1440x360 with 2 Axes>"
      ]
     },
     "metadata": {
      "needs_background": "light"
     },
     "output_type": "display_data"
    }
   ],
   "source": [
    "fig, ax=plt.subplots(1,2, figsize=(20,5))\n",
    "\n",
    "ax[0].hist('age',data=income)\n",
    "ax[0].set_xlabel('age')\n",
    "\n",
    "ax[1].hist('hoursperweek',data=income)\n",
    "ax[1].set_xlabel(\"hours per week\")\n",
    "\n",
    "#plt.show()\n",
    "ax[0].set_title(\"Distribution of age\");\n",
    "ax[1].set_title(\"Distribution of hours-per-week\");"
   ]
  },
  {
   "cell_type": "markdown",
   "metadata": {},
   "source": [
    "## Observation:\n",
    "* Age has a Right skewed distribution\n",
    "* hours per week has high mode, it means most people work for same number of hours"
   ]
  },
  {
   "cell_type": "code",
   "execution_count": 268,
   "metadata": {},
   "outputs": [
    {
     "data": {
      "image/png": "[encoded data removed]",
      "text/plain": [
       "<Figure size 1440x360 with 2 Axes>"
      ]
     },
     "metadata": {
      "needs_background": "light"
     },
     "output_type": "display_data"
    }
   ],
   "source": [
    "fig, ax=plt.subplots(1,2, figsize=(20,5))\n",
    "\n",
    "ax[0].hist('capitalgain',data=income)\n",
    "ax[0].set_xlabel(\"capital gain\")\n",
    "\n",
    "ax[1].hist('capitalloss',data=income)\n",
    "ax[1].set_xlabel(\"capital loss\")\n",
    "\n",
    "ax[0].set_title(\"Distribution of capital gain\");\n",
    "ax[1].set_title(\"Distribution of capital loss\");"
   ]
  },
  {
   "cell_type": "markdown",
   "metadata": {},
   "source": [
    "### Observation: \n",
    "* Severly Skewed Continuous: High mode value for data near to 0 , but a significant amount of values are also present near another value, this would rather look like a skewed bimodal distribution with a mode being very high than the other mode.\n",
    "\n",
    "Lets check out the box plot of these 2 features\n"
   ]
  },
  {
   "cell_type": "markdown",
   "metadata": {},
   "source": [
    "## Boxplot: Age| hoursperweek"
   ]
  },
  {
   "cell_type": "code",
   "execution_count": 269,
   "metadata": {},
   "outputs": [
    {
     "data": {
      "image/png": "[encoded data removed]",
      "text/plain": [
       "<Figure size 1440x504 with 4 Axes>"
      ]
     },
     "metadata": {
      "needs_background": "light"
     },
     "output_type": "display_data"
    }
   ],
   "source": [
    "fig,ax = plt.subplots(2,2,figsize=(20,7))\n",
    "sns.boxplot(x='income', y= 'age',data=income,ax=ax[0,0]);\n",
    "sns.boxplot(x='income', y= 'hoursperweek',data=income,ax=ax[0,1]);\n",
    "\n",
    "sns.scatterplot(x='age', y= 'income',data=income,ax=ax[1,0]);\n",
    "sns.scatterplot(x='hoursperweek', y= 'income',data=income,ax=ax[1,1]);"
   ]
  },
  {
   "cell_type": "markdown",
   "metadata": {},
   "source": [
    "#### Takeaway:\n",
    "* Mean number of High earners(orange) is higher than Mean number of Low earners for both hoursper week and age\n",
    "* Most people in work for similar(close to similar number of hours)"
   ]
  },
  {
   "cell_type": "markdown",
   "metadata": {},
   "source": [
    "## 3.0 Data Preprocessing\n",
    "\n",
    "### (a). Preparing the Data\n",
    "Data-gathering methods are often loosely controlled, resulting in out-of-range values (e.g., Income: −100), impossible data combinations (e.g., Sex: Male, Pregnant: Yes), missing values, etc. Fortunately, for this dataset, there are no invalid or missing entries we must deal with, however, there are some qualities about certain features that must be adjusted. This preprocessing can help tremendously with the outcome and predictive power of nearly all learning algorithms."
   ]
  },
  {
   "cell_type": "markdown",
   "metadata": {},
   "source": [
    "### (b). Data Transformation\n",
    "#### Log transformation on capital gain and Capital loss to balance out the data distribution "
   ]
  },
  {
   "cell_type": "markdown",
   "metadata": {},
   "source": [
    "A few predictors may have a unbalanced distribution. The distibutions happens to have skewed bi-modal distribution Values tend to lie near a single number, but will also have a non-trivial number of vastly larger or smaller values than that number. Algorithms can be sensitive to such distributions of values and can underperform if the range is not properly normalized. \n",
    "\n",
    "The income dataset also has 2 such predictors that qulaify for this category: 'capital-gain' and 'capital-loss'.\n",
    "\n",
    "Let's plot a histogram of these two features and see how they are distributed."
   ]
  },
  {
   "cell_type": "code",
   "execution_count": 270,
   "metadata": {},
   "outputs": [
    {
     "data": {
      "text/markdown": [
       "Snapshot of predictors with Log-transform the skewed features(capital gain & capital loss)"
      ],
      "text/plain": [
       "<IPython.core.display.Markdown object>"
      ]
     },
     "metadata": {},
     "output_type": "display_data"
    },
    {
     "data": {
      "text/html": [
       "<div>\n",
       "<style scoped>\n",
       "    .dataframe tbody tr th:only-of-type {\n",
       "        vertical-align: middle;\n",
       "    }\n",
       "\n",
       "    .dataframe tbody tr th {\n",
       "        vertical-align: top;\n",
       "    }\n",
       "\n",
       "    .dataframe thead th {\n",
       "        text-align: right;\n",
       "    }\n",
       "</style>\n",
       "<table border=\"1\" class=\"dataframe\">\n",
       "  <thead>\n",
       "    <tr style=\"text-align: right;\">\n",
       "      <th></th>\n",
       "      <th>age</th>\n",
       "      <th>workclass</th>\n",
       "      <th>fnlwgt</th>\n",
       "      <th>education</th>\n",
       "      <th>Edunum</th>\n",
       "      <th>MaritalSt</th>\n",
       "      <th>occupation</th>\n",
       "      <th>relationship</th>\n",
       "      <th>race</th>\n",
       "      <th>gender</th>\n",
       "      <th>capitalgain</th>\n",
       "      <th>capitalloss</th>\n",
       "      <th>hoursperweek</th>\n",
       "      <th>nativecountry</th>\n",
       "    </tr>\n",
       "  </thead>\n",
       "  <tbody>\n",
       "    <tr>\n",
       "      <th>0</th>\n",
       "      <td>25</td>\n",
       "      <td>Private</td>\n",
       "      <td>226802</td>\n",
       "      <td>11th</td>\n",
       "      <td>7</td>\n",
       "      <td>Never-married</td>\n",
       "      <td>Machine-op-inspct</td>\n",
       "      <td>Own-child</td>\n",
       "      <td>Black</td>\n",
       "      <td>Male</td>\n",
       "      <td>0.000000</td>\n",
       "      <td>0.0</td>\n",
       "      <td>40</td>\n",
       "      <td>United-States</td>\n",
       "    </tr>\n",
       "    <tr>\n",
       "      <th>1</th>\n",
       "      <td>38</td>\n",
       "      <td>Private</td>\n",
       "      <td>89814</td>\n",
       "      <td>HS-grad</td>\n",
       "      <td>9</td>\n",
       "      <td>Married-civ-spouse</td>\n",
       "      <td>Farming-fishing</td>\n",
       "      <td>Husband</td>\n",
       "      <td>White</td>\n",
       "      <td>Male</td>\n",
       "      <td>0.000000</td>\n",
       "      <td>0.0</td>\n",
       "      <td>50</td>\n",
       "      <td>United-States</td>\n",
       "    </tr>\n",
       "    <tr>\n",
       "      <th>2</th>\n",
       "      <td>28</td>\n",
       "      <td>Local-gov</td>\n",
       "      <td>336951</td>\n",
       "      <td>Assoc-acdm</td>\n",
       "      <td>12</td>\n",
       "      <td>Married-civ-spouse</td>\n",
       "      <td>Protective-serv</td>\n",
       "      <td>Husband</td>\n",
       "      <td>White</td>\n",
       "      <td>Male</td>\n",
       "      <td>0.000000</td>\n",
       "      <td>0.0</td>\n",
       "      <td>40</td>\n",
       "      <td>United-States</td>\n",
       "    </tr>\n",
       "    <tr>\n",
       "      <th>3</th>\n",
       "      <td>44</td>\n",
       "      <td>Private</td>\n",
       "      <td>160323</td>\n",
       "      <td>Some-college</td>\n",
       "      <td>10</td>\n",
       "      <td>Married-civ-spouse</td>\n",
       "      <td>Machine-op-inspct</td>\n",
       "      <td>Husband</td>\n",
       "      <td>Black</td>\n",
       "      <td>Male</td>\n",
       "      <td>8.947546</td>\n",
       "      <td>0.0</td>\n",
       "      <td>40</td>\n",
       "      <td>United-States</td>\n",
       "    </tr>\n",
       "    <tr>\n",
       "      <th>4</th>\n",
       "      <td>18</td>\n",
       "      <td>Not-specified</td>\n",
       "      <td>103497</td>\n",
       "      <td>Some-college</td>\n",
       "      <td>10</td>\n",
       "      <td>Never-married</td>\n",
       "      <td>Not-specified</td>\n",
       "      <td>Own-child</td>\n",
       "      <td>White</td>\n",
       "      <td>Female</td>\n",
       "      <td>0.000000</td>\n",
       "      <td>0.0</td>\n",
       "      <td>30</td>\n",
       "      <td>United-States</td>\n",
       "    </tr>\n",
       "    <tr>\n",
       "      <th>5</th>\n",
       "      <td>34</td>\n",
       "      <td>Private</td>\n",
       "      <td>198693</td>\n",
       "      <td>10th</td>\n",
       "      <td>6</td>\n",
       "      <td>Never-married</td>\n",
       "      <td>Other-service</td>\n",
       "      <td>Not-in-family</td>\n",
       "      <td>White</td>\n",
       "      <td>Male</td>\n",
       "      <td>0.000000</td>\n",
       "      <td>0.0</td>\n",
       "      <td>30</td>\n",
       "      <td>United-States</td>\n",
       "    </tr>\n",
       "    <tr>\n",
       "      <th>6</th>\n",
       "      <td>29</td>\n",
       "      <td>Not-specified</td>\n",
       "      <td>227026</td>\n",
       "      <td>HS-grad</td>\n",
       "      <td>9</td>\n",
       "      <td>Never-married</td>\n",
       "      <td>Not-specified</td>\n",
       "      <td>Unmarried</td>\n",
       "      <td>Black</td>\n",
       "      <td>Male</td>\n",
       "      <td>0.000000</td>\n",
       "      <td>0.0</td>\n",
       "      <td>40</td>\n",
       "      <td>United-States</td>\n",
       "    </tr>\n",
       "    <tr>\n",
       "      <th>7</th>\n",
       "      <td>63</td>\n",
       "      <td>Self-emp-not-inc</td>\n",
       "      <td>104626</td>\n",
       "      <td>Prof-school</td>\n",
       "      <td>15</td>\n",
       "      <td>Married-civ-spouse</td>\n",
       "      <td>Prof-specialty</td>\n",
       "      <td>Husband</td>\n",
       "      <td>White</td>\n",
       "      <td>Male</td>\n",
       "      <td>8.040447</td>\n",
       "      <td>0.0</td>\n",
       "      <td>32</td>\n",
       "      <td>United-States</td>\n",
       "    </tr>\n",
       "    <tr>\n",
       "      <th>8</th>\n",
       "      <td>24</td>\n",
       "      <td>Private</td>\n",
       "      <td>369667</td>\n",
       "      <td>Some-college</td>\n",
       "      <td>10</td>\n",
       "      <td>Never-married</td>\n",
       "      <td>Other-service</td>\n",
       "      <td>Unmarried</td>\n",
       "      <td>White</td>\n",
       "      <td>Female</td>\n",
       "      <td>0.000000</td>\n",
       "      <td>0.0</td>\n",
       "      <td>40</td>\n",
       "      <td>United-States</td>\n",
       "    </tr>\n",
       "    <tr>\n",
       "      <th>9</th>\n",
       "      <td>55</td>\n",
       "      <td>Private</td>\n",
       "      <td>104996</td>\n",
       "      <td>7th-8th</td>\n",
       "      <td>4</td>\n",
       "      <td>Married-civ-spouse</td>\n",
       "      <td>Craft-repair</td>\n",
       "      <td>Husband</td>\n",
       "      <td>White</td>\n",
       "      <td>Male</td>\n",
       "      <td>0.000000</td>\n",
       "      <td>0.0</td>\n",
       "      <td>10</td>\n",
       "      <td>United-States</td>\n",
       "    </tr>\n",
       "  </tbody>\n",
       "</table>\n",
       "</div>"
      ],
      "text/plain": [
       "   age         workclass  fnlwgt      education  Edunum            MaritalSt  \\\n",
       "0   25           Private  226802           11th       7        Never-married   \n",
       "1   38           Private   89814        HS-grad       9   Married-civ-spouse   \n",
       "2   28         Local-gov  336951     Assoc-acdm      12   Married-civ-spouse   \n",
       "3   44           Private  160323   Some-college      10   Married-civ-spouse   \n",
       "4   18     Not-specified  103497   Some-college      10        Never-married   \n",
       "5   34           Private  198693           10th       6        Never-married   \n",
       "6   29     Not-specified  227026        HS-grad       9        Never-married   \n",
       "7   63  Self-emp-not-inc  104626    Prof-school      15   Married-civ-spouse   \n",
       "8   24           Private  369667   Some-college      10        Never-married   \n",
       "9   55           Private  104996        7th-8th       4   Married-civ-spouse   \n",
       "\n",
       "          occupation    relationship    race   gender  capitalgain  \\\n",
       "0  Machine-op-inspct       Own-child   Black     Male     0.000000   \n",
       "1    Farming-fishing         Husband   White     Male     0.000000   \n",
       "2    Protective-serv         Husband   White     Male     0.000000   \n",
       "3  Machine-op-inspct         Husband   Black     Male     8.947546   \n",
       "4      Not-specified       Own-child   White   Female     0.000000   \n",
       "5      Other-service   Not-in-family   White     Male     0.000000   \n",
       "6      Not-specified       Unmarried   Black     Male     0.000000   \n",
       "7     Prof-specialty         Husband   White     Male     8.040447   \n",
       "8      Other-service       Unmarried   White   Female     0.000000   \n",
       "9       Craft-repair         Husband   White     Male     0.000000   \n",
       "\n",
       "   capitalloss  hoursperweek  nativecountry  \n",
       "0          0.0            40  United-States  \n",
       "1          0.0            50  United-States  \n",
       "2          0.0            40  United-States  \n",
       "3          0.0            40  United-States  \n",
       "4          0.0            30  United-States  \n",
       "5          0.0            30  United-States  \n",
       "6          0.0            40  United-States  \n",
       "7          0.0            32  United-States  \n",
       "8          0.0            40  United-States  \n",
       "9          0.0            10  United-States  "
      ]
     },
     "execution_count": 270,
     "metadata": {},
     "output_type": "execute_result"
    }
   ],
   "source": [
    "# Split the data into predictors and response variable\n",
    "income_raw = income['income']\n",
    "predictor_raw = income.drop('income', axis = 1)\n",
    "\n",
    "# Log-transform the skewed features\n",
    "skewed = ['capitalgain', 'capitalloss']\n",
    "predictor_raw[skewed] = income[skewed].apply(lambda x: np.log(x + 1))\n",
    "\n",
    "printmd(\"Snapshot of predictors with Log-transform the skewed features(capital gain & capital loss)\")\n",
    "predictor_raw.head(10)"
   ]
  },
  {
   "cell_type": "markdown",
   "metadata": {},
   "source": [
    "### lets revisit the distribution "
   ]
  },
  {
   "cell_type": "code",
   "execution_count": 271,
   "metadata": {},
   "outputs": [
    {
     "data": {
      "image/png": "[encoded data removed]",
      "text/plain": [
       "<Figure size 1440x360 with 2 Axes>"
      ]
     },
     "metadata": {
      "needs_background": "light"
     },
     "output_type": "display_data"
    }
   ],
   "source": [
    "fig, ax=plt.subplots(1,2, figsize=(20,5))\n",
    "\n",
    "ax[0].hist('capitalgain',data=predictor_raw)\n",
    "ax[0].set_xlabel(\"capital gain\")\n",
    "\n",
    "ax[1].hist('capitalloss',data=predictor_raw)\n",
    "ax[1].set_xlabel(\"capital loss\")\n",
    "\n",
    "ax[0].set_title(\"Distribution of capital gain\");\n",
    "ax[1].set_title(\"Distribution of capital loss\");"
   ]
  },
  {
   "cell_type": "markdown",
   "metadata": {},
   "source": [
    "### (c). Feature Selection\n"
   ]
  },
  {
   "cell_type": "markdown",
   "metadata": {},
   "source": [
    "Feature selection is very important to monitor data leakage & refrain redundanct in predictors.\n",
    "\n",
    "* Here education is represented by 2 coulmns. Hence For education level, we have 2 features that convey the same meaning,'education' and 'educational-num'. \n",
    "* To avoid the effect of this attribute on the models to be overstated, I am not going to use the categorical education attribute.')\n",
    "* Also, columns 'Fnlwgt' attribute that is used by the census, is dropped.\n",
    "  "
   ]
  },
  {
   "cell_type": "code",
   "execution_count": 272,
   "metadata": {},
   "outputs": [
    {
     "data": {
      "text/html": [
       "<div>\n",
       "<style scoped>\n",
       "    .dataframe tbody tr th:only-of-type {\n",
       "        vertical-align: middle;\n",
       "    }\n",
       "\n",
       "    .dataframe tbody tr th {\n",
       "        vertical-align: top;\n",
       "    }\n",
       "\n",
       "    .dataframe thead th {\n",
       "        text-align: right;\n",
       "    }\n",
       "</style>\n",
       "<table border=\"1\" class=\"dataframe\">\n",
       "  <thead>\n",
       "    <tr style=\"text-align: right;\">\n",
       "      <th></th>\n",
       "      <th>age</th>\n",
       "      <th>workclass</th>\n",
       "      <th>Edunum</th>\n",
       "      <th>MaritalSt</th>\n",
       "      <th>occupation</th>\n",
       "      <th>relationship</th>\n",
       "      <th>race</th>\n",
       "      <th>gender</th>\n",
       "      <th>capitalgain</th>\n",
       "      <th>capitalloss</th>\n",
       "      <th>hoursperweek</th>\n",
       "      <th>nativecountry</th>\n",
       "    </tr>\n",
       "  </thead>\n",
       "  <tbody>\n",
       "    <tr>\n",
       "      <th>0</th>\n",
       "      <td>25</td>\n",
       "      <td>Private</td>\n",
       "      <td>7</td>\n",
       "      <td>Never-married</td>\n",
       "      <td>Machine-op-inspct</td>\n",
       "      <td>Own-child</td>\n",
       "      <td>Black</td>\n",
       "      <td>Male</td>\n",
       "      <td>0.000000</td>\n",
       "      <td>0.0</td>\n",
       "      <td>40</td>\n",
       "      <td>United-States</td>\n",
       "    </tr>\n",
       "    <tr>\n",
       "      <th>1</th>\n",
       "      <td>38</td>\n",
       "      <td>Private</td>\n",
       "      <td>9</td>\n",
       "      <td>Married-civ-spouse</td>\n",
       "      <td>Farming-fishing</td>\n",
       "      <td>Husband</td>\n",
       "      <td>White</td>\n",
       "      <td>Male</td>\n",
       "      <td>0.000000</td>\n",
       "      <td>0.0</td>\n",
       "      <td>50</td>\n",
       "      <td>United-States</td>\n",
       "    </tr>\n",
       "    <tr>\n",
       "      <th>2</th>\n",
       "      <td>28</td>\n",
       "      <td>Local-gov</td>\n",
       "      <td>12</td>\n",
       "      <td>Married-civ-spouse</td>\n",
       "      <td>Protective-serv</td>\n",
       "      <td>Husband</td>\n",
       "      <td>White</td>\n",
       "      <td>Male</td>\n",
       "      <td>0.000000</td>\n",
       "      <td>0.0</td>\n",
       "      <td>40</td>\n",
       "      <td>United-States</td>\n",
       "    </tr>\n",
       "    <tr>\n",
       "      <th>3</th>\n",
       "      <td>44</td>\n",
       "      <td>Private</td>\n",
       "      <td>10</td>\n",
       "      <td>Married-civ-spouse</td>\n",
       "      <td>Machine-op-inspct</td>\n",
       "      <td>Husband</td>\n",
       "      <td>Black</td>\n",
       "      <td>Male</td>\n",
       "      <td>8.947546</td>\n",
       "      <td>0.0</td>\n",
       "      <td>40</td>\n",
       "      <td>United-States</td>\n",
       "    </tr>\n",
       "    <tr>\n",
       "      <th>4</th>\n",
       "      <td>18</td>\n",
       "      <td>Not-specified</td>\n",
       "      <td>10</td>\n",
       "      <td>Never-married</td>\n",
       "      <td>Not-specified</td>\n",
       "      <td>Own-child</td>\n",
       "      <td>White</td>\n",
       "      <td>Female</td>\n",
       "      <td>0.000000</td>\n",
       "      <td>0.0</td>\n",
       "      <td>30</td>\n",
       "      <td>United-States</td>\n",
       "    </tr>\n",
       "    <tr>\n",
       "      <th>5</th>\n",
       "      <td>34</td>\n",
       "      <td>Private</td>\n",
       "      <td>6</td>\n",
       "      <td>Never-married</td>\n",
       "      <td>Other-service</td>\n",
       "      <td>Not-in-family</td>\n",
       "      <td>White</td>\n",
       "      <td>Male</td>\n",
       "      <td>0.000000</td>\n",
       "      <td>0.0</td>\n",
       "      <td>30</td>\n",
       "      <td>United-States</td>\n",
       "    </tr>\n",
       "    <tr>\n",
       "      <th>6</th>\n",
       "      <td>29</td>\n",
       "      <td>Not-specified</td>\n",
       "      <td>9</td>\n",
       "      <td>Never-married</td>\n",
       "      <td>Not-specified</td>\n",
       "      <td>Unmarried</td>\n",
       "      <td>Black</td>\n",
       "      <td>Male</td>\n",
       "      <td>0.000000</td>\n",
       "      <td>0.0</td>\n",
       "      <td>40</td>\n",
       "      <td>United-States</td>\n",
       "    </tr>\n",
       "    <tr>\n",
       "      <th>7</th>\n",
       "      <td>63</td>\n",
       "      <td>Self-emp-not-inc</td>\n",
       "      <td>15</td>\n",
       "      <td>Married-civ-spouse</td>\n",
       "      <td>Prof-specialty</td>\n",
       "      <td>Husband</td>\n",
       "      <td>White</td>\n",
       "      <td>Male</td>\n",
       "      <td>8.040447</td>\n",
       "      <td>0.0</td>\n",
       "      <td>32</td>\n",
       "      <td>United-States</td>\n",
       "    </tr>\n",
       "    <tr>\n",
       "      <th>8</th>\n",
       "      <td>24</td>\n",
       "      <td>Private</td>\n",
       "      <td>10</td>\n",
       "      <td>Never-married</td>\n",
       "      <td>Other-service</td>\n",
       "      <td>Unmarried</td>\n",
       "      <td>White</td>\n",
       "      <td>Female</td>\n",
       "      <td>0.000000</td>\n",
       "      <td>0.0</td>\n",
       "      <td>40</td>\n",
       "      <td>United-States</td>\n",
       "    </tr>\n",
       "    <tr>\n",
       "      <th>9</th>\n",
       "      <td>55</td>\n",
       "      <td>Private</td>\n",
       "      <td>4</td>\n",
       "      <td>Married-civ-spouse</td>\n",
       "      <td>Craft-repair</td>\n",
       "      <td>Husband</td>\n",
       "      <td>White</td>\n",
       "      <td>Male</td>\n",
       "      <td>0.000000</td>\n",
       "      <td>0.0</td>\n",
       "      <td>10</td>\n",
       "      <td>United-States</td>\n",
       "    </tr>\n",
       "  </tbody>\n",
       "</table>\n",
       "</div>"
      ],
      "text/plain": [
       "   age         workclass  Edunum            MaritalSt         occupation  \\\n",
       "0   25           Private       7        Never-married  Machine-op-inspct   \n",
       "1   38           Private       9   Married-civ-spouse    Farming-fishing   \n",
       "2   28         Local-gov      12   Married-civ-spouse    Protective-serv   \n",
       "3   44           Private      10   Married-civ-spouse  Machine-op-inspct   \n",
       "4   18     Not-specified      10        Never-married      Not-specified   \n",
       "5   34           Private       6        Never-married      Other-service   \n",
       "6   29     Not-specified       9        Never-married      Not-specified   \n",
       "7   63  Self-emp-not-inc      15   Married-civ-spouse     Prof-specialty   \n",
       "8   24           Private      10        Never-married      Other-service   \n",
       "9   55           Private       4   Married-civ-spouse       Craft-repair   \n",
       "\n",
       "     relationship    race   gender  capitalgain  capitalloss  hoursperweek  \\\n",
       "0       Own-child   Black     Male     0.000000          0.0            40   \n",
       "1         Husband   White     Male     0.000000          0.0            50   \n",
       "2         Husband   White     Male     0.000000          0.0            40   \n",
       "3         Husband   Black     Male     8.947546          0.0            40   \n",
       "4       Own-child   White   Female     0.000000          0.0            30   \n",
       "5   Not-in-family   White     Male     0.000000          0.0            30   \n",
       "6       Unmarried   Black     Male     0.000000          0.0            40   \n",
       "7         Husband   White     Male     8.040447          0.0            32   \n",
       "8       Unmarried   White   Female     0.000000          0.0            40   \n",
       "9         Husband   White     Male     0.000000          0.0            10   \n",
       "\n",
       "   nativecountry  \n",
       "0  United-States  \n",
       "1  United-States  \n",
       "2  United-States  \n",
       "3  United-States  \n",
       "4  United-States  \n",
       "5  United-States  \n",
       "6  United-States  \n",
       "7  United-States  \n",
       "8  United-States  \n",
       "9  United-States  "
      ]
     },
     "execution_count": 272,
     "metadata": {},
     "output_type": "execute_result"
    }
   ],
   "source": [
    "predictor_raw.drop(columns = ['education','fnlwgt'], inplace = True)\n",
    "predictor_raw.head(10)"
   ]
  },
  {
   "cell_type": "markdown",
   "metadata": {},
   "source": [
    "### (d).Normalizing Numerical Features\n",
    "\n",
    "It is often good practice to perform some type of scaling on numerical features. Applying a scaling to the data does not change the shape of each feature's distribution (such as `'capital-gain'` or `'capital-loss'` above); however, normalization ensures that each feature is treated equally when applying learners. Note that once scaling is applied, observing the data in its raw form will no longer have the same original meaning, as exampled below."
   ]
  },
  {
   "cell_type": "code",
   "execution_count": 273,
   "metadata": {},
   "outputs": [
    {
     "data": {
      "text/html": [
       "<div>\n",
       "<style scoped>\n",
       "    .dataframe tbody tr th:only-of-type {\n",
       "        vertical-align: middle;\n",
       "    }\n",
       "\n",
       "    .dataframe tbody tr th {\n",
       "        vertical-align: top;\n",
       "    }\n",
       "\n",
       "    .dataframe thead th {\n",
       "        text-align: right;\n",
       "    }\n",
       "</style>\n",
       "<table border=\"1\" class=\"dataframe\">\n",
       "  <thead>\n",
       "    <tr style=\"text-align: right;\">\n",
       "      <th></th>\n",
       "      <th>age</th>\n",
       "      <th>workclass</th>\n",
       "      <th>Edunum</th>\n",
       "      <th>MaritalSt</th>\n",
       "      <th>occupation</th>\n",
       "      <th>relationship</th>\n",
       "      <th>race</th>\n",
       "      <th>gender</th>\n",
       "      <th>capitalgain</th>\n",
       "      <th>capitalloss</th>\n",
       "      <th>hoursperweek</th>\n",
       "      <th>nativecountry</th>\n",
       "    </tr>\n",
       "  </thead>\n",
       "  <tbody>\n",
       "    <tr>\n",
       "      <th>0</th>\n",
       "      <td>0.109589</td>\n",
       "      <td>Private</td>\n",
       "      <td>0.400000</td>\n",
       "      <td>Never-married</td>\n",
       "      <td>Machine-op-inspct</td>\n",
       "      <td>Own-child</td>\n",
       "      <td>Black</td>\n",
       "      <td>Male</td>\n",
       "      <td>0.000000</td>\n",
       "      <td>0.0</td>\n",
       "      <td>0.397959</td>\n",
       "      <td>United-States</td>\n",
       "    </tr>\n",
       "    <tr>\n",
       "      <th>1</th>\n",
       "      <td>0.287671</td>\n",
       "      <td>Private</td>\n",
       "      <td>0.533333</td>\n",
       "      <td>Married-civ-spouse</td>\n",
       "      <td>Farming-fishing</td>\n",
       "      <td>Husband</td>\n",
       "      <td>White</td>\n",
       "      <td>Male</td>\n",
       "      <td>0.000000</td>\n",
       "      <td>0.0</td>\n",
       "      <td>0.500000</td>\n",
       "      <td>United-States</td>\n",
       "    </tr>\n",
       "    <tr>\n",
       "      <th>2</th>\n",
       "      <td>0.150685</td>\n",
       "      <td>Local-gov</td>\n",
       "      <td>0.733333</td>\n",
       "      <td>Married-civ-spouse</td>\n",
       "      <td>Protective-serv</td>\n",
       "      <td>Husband</td>\n",
       "      <td>White</td>\n",
       "      <td>Male</td>\n",
       "      <td>0.000000</td>\n",
       "      <td>0.0</td>\n",
       "      <td>0.397959</td>\n",
       "      <td>United-States</td>\n",
       "    </tr>\n",
       "    <tr>\n",
       "      <th>3</th>\n",
       "      <td>0.369863</td>\n",
       "      <td>Private</td>\n",
       "      <td>0.600000</td>\n",
       "      <td>Married-civ-spouse</td>\n",
       "      <td>Machine-op-inspct</td>\n",
       "      <td>Husband</td>\n",
       "      <td>Black</td>\n",
       "      <td>Male</td>\n",
       "      <td>0.777174</td>\n",
       "      <td>0.0</td>\n",
       "      <td>0.397959</td>\n",
       "      <td>United-States</td>\n",
       "    </tr>\n",
       "    <tr>\n",
       "      <th>4</th>\n",
       "      <td>0.013699</td>\n",
       "      <td>Not-specified</td>\n",
       "      <td>0.600000</td>\n",
       "      <td>Never-married</td>\n",
       "      <td>Not-specified</td>\n",
       "      <td>Own-child</td>\n",
       "      <td>White</td>\n",
       "      <td>Female</td>\n",
       "      <td>0.000000</td>\n",
       "      <td>0.0</td>\n",
       "      <td>0.295918</td>\n",
       "      <td>United-States</td>\n",
       "    </tr>\n",
       "  </tbody>\n",
       "</table>\n",
       "</div>"
      ],
      "text/plain": [
       "        age      workclass    Edunum            MaritalSt         occupation  \\\n",
       "0  0.109589        Private  0.400000        Never-married  Machine-op-inspct   \n",
       "1  0.287671        Private  0.533333   Married-civ-spouse    Farming-fishing   \n",
       "2  0.150685      Local-gov  0.733333   Married-civ-spouse    Protective-serv   \n",
       "3  0.369863        Private  0.600000   Married-civ-spouse  Machine-op-inspct   \n",
       "4  0.013699  Not-specified  0.600000        Never-married      Not-specified   \n",
       "\n",
       "  relationship    race   gender  capitalgain  capitalloss  hoursperweek  \\\n",
       "0    Own-child   Black     Male     0.000000          0.0      0.397959   \n",
       "1      Husband   White     Male     0.000000          0.0      0.500000   \n",
       "2      Husband   White     Male     0.000000          0.0      0.397959   \n",
       "3      Husband   Black     Male     0.777174          0.0      0.397959   \n",
       "4    Own-child   White   Female     0.000000          0.0      0.295918   \n",
       "\n",
       "   nativecountry  \n",
       "0  United-States  \n",
       "1  United-States  \n",
       "2  United-States  \n",
       "3  United-States  \n",
       "4  United-States  "
      ]
     },
     "metadata": {},
     "output_type": "display_data"
    }
   ],
   "source": [
    "# Import sklearn.preprocessing.StandardScaler\n",
    "from sklearn.preprocessing import MinMaxScaler\n",
    "\n",
    "# Initialize a scaler, then apply it to the features\n",
    "scaler = MinMaxScaler()\n",
    "numerical = ['age', 'Edunum', 'capitalgain', 'capitalloss', 'hoursperweek']\n",
    "predictor_raw[numerical] = scaler.fit_transform(predictor_raw[numerical])\n",
    "\n",
    "# Show an example of 5 record with scaling applied\n",
    "display(predictor_raw.head(5))"
   ]
  },
  {
   "cell_type": "markdown",
   "metadata": {},
   "source": [
    "### (e). Scrubbing Categorical columns\n",
    "\n",
    "From the table in **Exploring the Data** above, we can see there are several features for each record that are non-numeric. Typically, learning algorithms expect input to be numeric, which requires that non-numeric features (called *categorical variables*) be converted. One popular way to convert categorical variables is by using the **one-hot encoding** scheme. One-hot encoding creates a _\"dummy\"_ variable for each possible category of each non-numeric feature. \n",
    "\n",
    "Additionally, as with the non-numeric features, we need to convert the non-numeric target label, `'income'` to numerical values for the learning algorithm to work. Since there are only two possible categories for this label (\"<=50K\" and \">50K\"), we can avoid using one-hot encoding and simply encode these two categories as `0` and `1`, respectively."
   ]
  },
  {
   "cell_type": "code",
   "execution_count": 274,
   "metadata": {},
   "outputs": [
    {
     "name": "stdout",
     "output_type": "stream",
     "text": [
      "The number of features after one-hot encoding 91\n"
     ]
    }
   ],
   "source": [
    "# TODO: One-hot encode the 'features_raw' data using pandas.get_dummies()\n",
    "predictor = pd.get_dummies(predictor_raw)\n",
    "\n",
    "# TODO: Encode the 'income_raw' data to numerical values\n",
    "response = income_raw.apply(lambda x: 1 if x == '>50K' else 0)\n",
    "\n",
    "# Print the number of features after one-hot encoding\n",
    "encoded = list(predictor.columns)\n",
    "print(\"The number of features after one-hot encoding\",str(len(encoded)))\n",
    "\n",
    "# Uncomment to explore the encoded feature names \n",
    "# print(encoded)"
   ]
  },
  {
   "cell_type": "markdown",
   "metadata": {},
   "source": [
    "### (f). Shuffle and Split Data\n",
    "\n",
    "Untill here, The data is clean, scrubbed, normalized, encoded and ready to used for further analysis.At this step data spilt is undertaken to divide the data into test and train datasets.\n",
    "* 80% of the data will be used for training and 20% for testing.\n"
   ]
  },
  {
   "cell_type": "code",
   "execution_count": 275,
   "metadata": {},
   "outputs": [
    {
     "name": "stdout",
     "output_type": "stream",
     "text": [
      "No. of Training set lineitems : 39073\n",
      "No of Testing set lineitems:  9769\n"
     ]
    }
   ],
   "source": [
    "# Import train_test_split\n",
    "from sklearn.model_selection import train_test_split\n",
    "\n",
    "# Split the 'features' and 'income' data into training and testing sets\n",
    "X_train, X_test, y_train, y_test = train_test_split(predictor, response, test_size = 0.2, random_state = 8451)\n",
    "\n",
    "# Show the results of the split\n",
    "print(\"No. of Training set lineitems :\",X_train.shape[0])\n",
    "print(\"No of Testing set lineitems: \",X_test.shape[0])"
   ]
  },
  {
   "cell_type": "markdown",
   "metadata": {},
   "source": [
    "## 4.0 Modelling the data\n",
    "As we here are trying to predict if a particular person will have income >=50,000, we need to make a predictive model. The response variable being Binary in nature requires our model to be a Binary classification model based on Supervised Learning Methodology.\n"
   ]
  },
  {
   "cell_type": "markdown",
   "metadata": {},
   "source": [
    "### 4.0.1 logistic Regression"
   ]
  },
  {
   "cell_type": "code",
   "execution_count": 276,
   "metadata": {},
   "outputs": [],
   "source": [
    "from sklearn.linear_model import LogisticRegression\n",
    "\n",
    "#create an instance and fit the model \n",
    "logmodel = LogisticRegression(solver='liblinear')\n",
    "logmodel.fit(X_train, y_train);"
   ]
  },
  {
   "cell_type": "markdown",
   "metadata": {},
   "source": [
    "**Steps**\n",
    "* We start by importing the LogisticRegression package from the Linear model family.\n",
    "* Then create an instance of the logistic regression model and call it log model and then fit the model on the training dataset.\n",
    "* Let’s see how accurate is our model for predictions"
   ]
  },
  {
   "cell_type": "code",
   "execution_count": 277,
   "metadata": {},
   "outputs": [
    {
     "data": {
      "text/plain": [
       "array([0, 1, 1, ..., 0, 0, 0], dtype=int64)"
      ]
     },
     "execution_count": 277,
     "metadata": {},
     "output_type": "execute_result"
    }
   ],
   "source": [
    "#predictions function \n",
    "Predictions = logmodel.predict(X_test)\n",
    "Predictions"
   ]
  },
  {
   "cell_type": "markdown",
   "metadata": {},
   "source": [
    "### Model Evaluation\n",
    "We can check precision, recall, f1-score using classification report and also see how accurate is our model for predictions:"
   ]
  },
  {
   "cell_type": "code",
   "execution_count": 278,
   "metadata": {},
   "outputs": [
    {
     "name": "stdout",
     "output_type": "stream",
     "text": [
      "              precision    recall  f1-score   support\n",
      "\n",
      "           0       0.88      0.93      0.90      7430\n",
      "           1       0.72      0.59      0.65      2339\n",
      "\n",
      "    accuracy                           0.85      9769\n",
      "   macro avg       0.80      0.76      0.78      9769\n",
      "weighted avg       0.84      0.85      0.84      9769\n",
      "\n"
     ]
    }
   ],
   "source": [
    "from sklearn.metrics import classification_report\n",
    "print(classification_report(y_test,Predictions))"
   ]
  },
  {
   "cell_type": "markdown",
   "metadata": {},
   "source": [
    "Let us now see the **confusion matrix**:\n"
   ]
  },
  {
   "cell_type": "code",
   "execution_count": 279,
   "metadata": {},
   "outputs": [
    {
     "name": "stdout",
     "output_type": "stream",
     "text": [
      "[[6895  535]\n",
      " [ 949 1390]]\n"
     ]
    }
   ],
   "source": [
    "from sklearn.metrics import confusion_matrix\n",
    "print(confusion_matrix(y_test, Predictions))\n",
    "confusionData=confusion_matrix(y_test, Predictions)"
   ]
  },
  {
   "cell_type": "markdown",
   "metadata": {},
   "source": [
    "From our confusion matrix we conclude that:\n",
    "True positive: 6895(We predicted a positive result and it was positive)\n",
    "True negative: 1390(We predicted a negative result and it was negative)\n",
    "False positive: 535(We predicted a positive result and it was negative)\n",
    "False negative: 949(We predicted a negative result and it was positive)\n",
    "\n",
    "Inoder to compare 2 models for their prediction power we need to decide on a few criterians, such as\n",
    "* accuracy = ((TP+TN))/(TP+FN+FP+TN)\n",
    "*  precision = (TP)/(TP+FP)\n",
    "*  recall = (TP)/(TP+FN)\n",
    "*  f_measure = (2*recall*precision)/(recall+precision)\n",
    "*  sensitivity = TP / (TP + FN)\n",
    "*  specificity = TN / (TN + FP)\n",
    "*  error_rate = 1 - accuracy\n"
   ]
  },
  {
   "cell_type": "markdown",
   "metadata": {},
   "source": [
    "### Evaluation Function\n",
    "Below function takes in the confusion matric and delivers an array of metric criterians(mentioned above) for compairing different models\n"
   ]
  },
  {
   "cell_type": "code",
   "execution_count": 280,
   "metadata": {},
   "outputs": [],
   "source": [
    "def ConfsnMtxEval(a):\n",
    "    TP = a[0,0]\n",
    "    TN = a[1,1]\n",
    "    FP = a[0,1]\n",
    "    FN = a[1,0]\n",
    "    \n",
    "    accuracy = ((TP+TN))/(TP+FN+FP+TN)\n",
    "    precision = (TP)/(TP+FP)\n",
    "    recall = (TP)/(TP+FN)\n",
    "    f_measure = (2*recall*precision)/(recall+precision)\n",
    "    sensitivity = TP / (TP + FN)\n",
    "    specificity = TN / (TN + FP)\n",
    "    error_rate = 1 - accuracy\n",
    "    \n",
    "    out = {}\n",
    "    out['accuracy'] =  round(accuracy,3)\n",
    "    out['precision'] = round(precision,3)\n",
    "    out['recall'] = round(recall,3)\n",
    "    out['f_measure'] = round(f_measure,3)\n",
    "    out['sensitivity'] = round(sensitivity,3)\n",
    "    out['specificity'] = round(specificity,3)\n",
    "    out['error_rate'] = round(error_rate,3)\n",
    "    return out"
   ]
  },
  {
   "cell_type": "code",
   "execution_count": 288,
   "metadata": {},
   "outputs": [
    {
     "name": "stdout",
     "output_type": "stream",
     "text": [
      "{'accuracy': 0.848, 'precision': 0.928, 'recall': 0.879, 'f_measure': 0.903, 'sensitivity': 0.879, 'specificity': 0.722, 'error_rate': 0.152}\n",
      "Accuracy of Logistic Model:  0.848\n"
     ]
    }
   ],
   "source": [
    "#confusion matrix\n",
    "\n",
    "LogEvaluated=ConfsnMtxEval(confusionData)\n",
    "print(LogEvaluated)\n",
    "print('Accuracy of Logistic Model: ',(LogEvaluated['accuracy']))"
   ]
  },
  {
   "cell_type": "code",
   "execution_count": 289,
   "metadata": {},
   "outputs": [
    {
     "data": {
      "text/html": [
       "<div>\n",
       "<style scoped>\n",
       "    .dataframe tbody tr th:only-of-type {\n",
       "        vertical-align: middle;\n",
       "    }\n",
       "\n",
       "    .dataframe tbody tr th {\n",
       "        vertical-align: top;\n",
       "    }\n",
       "\n",
       "    .dataframe thead th {\n",
       "        text-align: right;\n",
       "    }\n",
       "</style>\n",
       "<table border=\"1\" class=\"dataframe\">\n",
       "  <thead>\n",
       "    <tr style=\"text-align: right;\">\n",
       "      <th></th>\n",
       "      <th>accuracy</th>\n",
       "      <th>error_rate</th>\n",
       "      <th>f_measure</th>\n",
       "      <th>precision</th>\n",
       "      <th>recall</th>\n",
       "      <th>sensitivity</th>\n",
       "      <th>specificity</th>\n",
       "    </tr>\n",
       "  </thead>\n",
       "  <tbody>\n",
       "    <tr>\n",
       "      <th>Logistic Model</th>\n",
       "      <td>0.848</td>\n",
       "      <td>0.152</td>\n",
       "      <td>0.903</td>\n",
       "      <td>0.928</td>\n",
       "      <td>0.879</td>\n",
       "      <td>0.879</td>\n",
       "      <td>0.722</td>\n",
       "    </tr>\n",
       "  </tbody>\n",
       "</table>\n",
       "</div>"
      ],
      "text/plain": [
       "                accuracy  error_rate  f_measure  precision  recall  \\\n",
       "Logistic Model     0.848       0.152      0.903      0.928   0.879   \n",
       "\n",
       "                sensitivity  specificity  \n",
       "Logistic Model        0.879        0.722  "
      ]
     },
     "metadata": {},
     "output_type": "display_data"
    }
   ],
   "source": [
    "eval_model = round(pd.DataFrame([LogEvaluated], index = ['Logistic Model']),4)\n",
    "display(eval_model)"
   ]
  },
  {
   "cell_type": "markdown",
   "metadata": {},
   "source": [
    "The accuracy can be measured as a percentage and its 84.8 for the Logistic Model, which is a good score. Ideally any score above 70% can be considered as fair.But keep in consideration the application context this figure can be decided as satisfactory.\n",
    "\n",
    "Lets see if this Accuracy can be improced with the Decision Tree(CART models)..."
   ]
  },
  {
   "cell_type": "markdown",
   "metadata": {},
   "source": [
    "### 4.0.2 Decision Trees"
   ]
  },
  {
   "cell_type": "markdown",
   "metadata": {},
   "source": [
    "For Decision Tree classifier I decided to use Gini Index based splitting, with a Minimum samples split=0.05, and Min_samples_leaf=0.001. \n",
    "These parameters play a important role in precision accuracy of the model. We can implement hyper parameter tuning or Grid search method to \n",
    "select the optimum values of these\n",
    "\n",
    "Let's first implement for constant values"
   ]
  },
  {
   "cell_type": "code",
   "execution_count": 290,
   "metadata": {},
   "outputs": [
    {
     "data": {
      "text/plain": [
       "array([0, 0, 1, ..., 0, 0, 0], dtype=int64)"
      ]
     },
     "execution_count": 290,
     "metadata": {},
     "output_type": "execute_result"
    }
   ],
   "source": [
    "dt_gini = tree.DecisionTreeClassifier(criterion = 'gini', min_samples_split = 0.05, min_samples_leaf = 0.001, max_features = None)\n",
    "dt_gini = dt_gini.fit(X_train, y_train)\n",
    "dt_gini_pred = dt_gini.predict(X_test)\n",
    "dt_gini_pred"
   ]
  },
  {
   "cell_type": "code",
   "execution_count": 291,
   "metadata": {},
   "outputs": [
    {
     "name": "stdout",
     "output_type": "stream",
     "text": [
      "              precision    recall  f1-score   support\n",
      "\n",
      "           0       0.87      0.95      0.91      7430\n",
      "           1       0.79      0.55      0.65      2339\n",
      "\n",
      "    accuracy                           0.86      9769\n",
      "   macro avg       0.83      0.75      0.78      9769\n",
      "weighted avg       0.85      0.86      0.85      9769\n",
      "\n"
     ]
    }
   ],
   "source": [
    "print(classification_report(y_test,dt_gini_pred))"
   ]
  },
  {
   "cell_type": "code",
   "execution_count": 292,
   "metadata": {},
   "outputs": [
    {
     "name": "stdout",
     "output_type": "stream",
     "text": [
      "[[7093  337]\n",
      " [1054 1285]]\n"
     ]
    }
   ],
   "source": [
    "#confusion matrix\n",
    "\n",
    "print(confusion_matrix(y_test, dt_gini_pred))\n",
    "dt_confusionData=confusion_matrix(y_test, dt_gini_pred)"
   ]
  },
  {
   "cell_type": "code",
   "execution_count": 294,
   "metadata": {},
   "outputs": [
    {
     "name": "stdout",
     "output_type": "stream",
     "text": [
      "{'accuracy': 0.858, 'precision': 0.955, 'recall': 0.871, 'f_measure': 0.911, 'sensitivity': 0.871, 'specificity': 0.792, 'error_rate': 0.142}\n",
      "Accuracy of Logistic Model:  0.858\n"
     ]
    }
   ],
   "source": [
    "#evaluation\n",
    "\n",
    "dtEvaluated=ConfsnMtxEval(dt_confusionData)\n",
    "print(dtEvaluated)\n",
    "print('Accuracy of Logistic Model: ',(dtEvaluated['accuracy']))"
   ]
  },
  {
   "cell_type": "code",
   "execution_count": 295,
   "metadata": {},
   "outputs": [
    {
     "data": {
      "text/html": [
       "<div>\n",
       "<style scoped>\n",
       "    .dataframe tbody tr th:only-of-type {\n",
       "        vertical-align: middle;\n",
       "    }\n",
       "\n",
       "    .dataframe tbody tr th {\n",
       "        vertical-align: top;\n",
       "    }\n",
       "\n",
       "    .dataframe thead th {\n",
       "        text-align: right;\n",
       "    }\n",
       "</style>\n",
       "<table border=\"1\" class=\"dataframe\">\n",
       "  <thead>\n",
       "    <tr style=\"text-align: right;\">\n",
       "      <th></th>\n",
       "      <th>accuracy</th>\n",
       "      <th>error_rate</th>\n",
       "      <th>f_measure</th>\n",
       "      <th>precision</th>\n",
       "      <th>recall</th>\n",
       "      <th>sensitivity</th>\n",
       "      <th>specificity</th>\n",
       "    </tr>\n",
       "  </thead>\n",
       "  <tbody>\n",
       "    <tr>\n",
       "      <th>Logistic Model</th>\n",
       "      <td>0.848</td>\n",
       "      <td>0.152</td>\n",
       "      <td>0.903</td>\n",
       "      <td>0.928</td>\n",
       "      <td>0.879</td>\n",
       "      <td>0.879</td>\n",
       "      <td>0.722</td>\n",
       "    </tr>\n",
       "    <tr>\n",
       "      <th>Decision Trees</th>\n",
       "      <td>0.858</td>\n",
       "      <td>0.142</td>\n",
       "      <td>0.911</td>\n",
       "      <td>0.955</td>\n",
       "      <td>0.871</td>\n",
       "      <td>0.871</td>\n",
       "      <td>0.792</td>\n",
       "    </tr>\n",
       "  </tbody>\n",
       "</table>\n",
       "</div>"
      ],
      "text/plain": [
       "                accuracy  error_rate  f_measure  precision  recall  \\\n",
       "Logistic Model     0.848       0.152      0.903      0.928   0.879   \n",
       "Decision Trees     0.858       0.142      0.911      0.955   0.871   \n",
       "\n",
       "                sensitivity  specificity  \n",
       "Logistic Model        0.879        0.722  \n",
       "Decision Trees        0.871        0.792  "
      ]
     },
     "metadata": {},
     "output_type": "display_data"
    }
   ],
   "source": [
    "eval_model = round(pd.DataFrame([LogEvaluated, dtEvaluated], index = ['Logistic Model','Decision Trees']),4)\n",
    "display(eval_model)"
   ]
  },
  {
   "cell_type": "markdown",
   "metadata": {},
   "source": [
    "Observation: We observe that \n",
    "* accuracy has improved by 1% with Classification Trees\n",
    "* Sensitivity has decreased with Classification Trees\n",
    "* Specificity has increased with Classification Trees\n",
    "\n",
    "Lets further implement Esemble methods to see if they improve the prediction Accuracy...\n"
   ]
  },
  {
   "cell_type": "markdown",
   "metadata": {},
   "source": [
    "## 4.0.3 Esemble Methods\n",
    "### 4.0.3.1 Bagging: Bootstrap with Aggregation\n",
    "\n",
    "Bootstrap aggregating, also called bagging (from bootstrap aggregating), is a machine learning ensemble meta-algorithm designed to improve the stability and accuracy of machine learning algorithms used in statistical classification and regression. It also reduces variance and helps to avoid overfitting.\n",
    "\n",
    "For the this classifier, we need to set some parameters as well, namely\n",
    "\n",
    "* number of trees, \n",
    "* splitting criteria,\n",
    "* minimum samples required to split, \n",
    "* max depth of the tree, \n",
    "* minimum samples required at the leaf level and \n",
    "* the maximum features to consider when looking for the best split.\n",
    "\n",
    "In general the values selected for these parameters are as following :\n",
    "\n",
    "*\tNum estimators: 100 (Best amongst 10, 50 and 100)\n",
    "*\tSplitting criteria: Gini Index (Using Gini Index marginally outperforms than Entropy)\n",
    "*\tMin samples required to split: 5% (Best amongst 1%, 10% and 5%.)\n",
    "*\tMax Depth: None\n",
    "*\tMin samples required at leaf: 0.1 % (Best amongst 1%, 5% and 0.1%.)\n",
    "*\tMax features: sqrt (Performs better than 'auto', 'log2' and 'sqrt'.)\n"
   ]
  },
  {
   "cell_type": "code",
   "execution_count": 296,
   "metadata": {},
   "outputs": [],
   "source": [
    "# bagging\n",
    "bagg = RandomForestClassifier(n_estimators=100, criterion = 'gini', max_features = None,  min_samples_split = 0.05, min_samples_leaf = 0.001)\n",
    "bagg.fit(X_train, y_train)\n",
    "bagg_pred = bagg.predict(X_test)\n"
   ]
  },
  {
   "cell_type": "code",
   "execution_count": 297,
   "metadata": {},
   "outputs": [
    {
     "name": "stdout",
     "output_type": "stream",
     "text": [
      "[[7087  343]\n",
      " [1062 1277]]\n"
     ]
    }
   ],
   "source": [
    "#confusion Matrix\n",
    "\n",
    "print(confusion_matrix(y_test, bagg_pred))\n",
    "bg_confusionData=confusion_matrix(y_test, bagg_pred)"
   ]
  },
  {
   "cell_type": "code",
   "execution_count": 298,
   "metadata": {},
   "outputs": [
    {
     "name": "stdout",
     "output_type": "stream",
     "text": [
      "{'accuracy': 0.856, 'precision': 0.954, 'recall': 0.87, 'f_measure': 0.91, 'sensitivity': 0.87, 'specificity': 0.788, 'error_rate': 0.144}\n",
      "Bagging Accuracy:  0.856\n"
     ]
    }
   ],
   "source": [
    "#Model Evaluation\n",
    "\n",
    "bgEvaluated=ConfsnMtxEval(bg_confusionData)\n",
    "print(bgEvaluated)\n",
    "print('Bagging Accuracy: ',(bgEvaluated['accuracy']))"
   ]
  },
  {
   "cell_type": "code",
   "execution_count": 299,
   "metadata": {},
   "outputs": [
    {
     "data": {
      "text/html": [
       "<div>\n",
       "<style scoped>\n",
       "    .dataframe tbody tr th:only-of-type {\n",
       "        vertical-align: middle;\n",
       "    }\n",
       "\n",
       "    .dataframe tbody tr th {\n",
       "        vertical-align: top;\n",
       "    }\n",
       "\n",
       "    .dataframe thead th {\n",
       "        text-align: right;\n",
       "    }\n",
       "</style>\n",
       "<table border=\"1\" class=\"dataframe\">\n",
       "  <thead>\n",
       "    <tr style=\"text-align: right;\">\n",
       "      <th></th>\n",
       "      <th>accuracy</th>\n",
       "      <th>error_rate</th>\n",
       "      <th>f_measure</th>\n",
       "      <th>precision</th>\n",
       "      <th>recall</th>\n",
       "      <th>sensitivity</th>\n",
       "      <th>specificity</th>\n",
       "    </tr>\n",
       "  </thead>\n",
       "  <tbody>\n",
       "    <tr>\n",
       "      <th>Bagging</th>\n",
       "      <td>0.856</td>\n",
       "      <td>0.144</td>\n",
       "      <td>0.91</td>\n",
       "      <td>0.954</td>\n",
       "      <td>0.87</td>\n",
       "      <td>0.87</td>\n",
       "      <td>0.788</td>\n",
       "    </tr>\n",
       "  </tbody>\n",
       "</table>\n",
       "</div>"
      ],
      "text/plain": [
       "         accuracy  error_rate  f_measure  precision  recall  sensitivity  \\\n",
       "Bagging     0.856       0.144       0.91      0.954    0.87         0.87   \n",
       "\n",
       "         specificity  \n",
       "Bagging        0.788  "
      ]
     },
     "metadata": {},
     "output_type": "display_data"
    }
   ],
   "source": [
    "eval_model = round(pd.DataFrame([bgEvaluated], index = ['Bagging']),4)\n",
    "display(eval_model)"
   ]
  },
  {
   "cell_type": "markdown",
   "metadata": {},
   "source": [
    "### 4.0.3.2 Random Forest\n",
    "\n",
    "Random forests or random decision forests are an ensemble learning method for classification, regression and other tasks that operate by constructing a multitude of decision trees at training time and outputting the class that is the mode of the classes (classification) or mean prediction (regression) of the individual trees. \n",
    "\n",
    "For random forst classifies only difference from bagging in maxfeatures=sqrt(no of features)"
   ]
  },
  {
   "cell_type": "code",
   "execution_count": 302,
   "metadata": {},
   "outputs": [],
   "source": [
    "# random Forest\n",
    "rforest = RandomForestClassifier(n_estimators=100, criterion = 'gini',  min_samples_split = 0.05, min_samples_leaf = 0.001)\n",
    "rforest.fit(X_train, y_train)\n",
    "rforest_pred = rforest.predict(X_test)"
   ]
  },
  {
   "cell_type": "code",
   "execution_count": 303,
   "metadata": {},
   "outputs": [
    {
     "name": "stdout",
     "output_type": "stream",
     "text": [
      "[[7094  336]\n",
      " [1103 1236]]\n"
     ]
    }
   ],
   "source": [
    "#confusion Matrix\n",
    "print(confusion_matrix(y_test, rforest_pred))\n",
    "rf_confusionData=confusion_matrix(y_test, rforest_pred)"
   ]
  },
  {
   "cell_type": "code",
   "execution_count": 304,
   "metadata": {},
   "outputs": [
    {
     "name": "stdout",
     "output_type": "stream",
     "text": [
      "{'accuracy': 0.853, 'precision': 0.955, 'recall': 0.865, 'f_measure': 0.908, 'sensitivity': 0.865, 'specificity': 0.786, 'error_rate': 0.147}\n",
      "Random Forest Accuracy:  0.853\n"
     ]
    }
   ],
   "source": [
    "#Model Evaluation\n",
    "rfEvaluated=ConfsnMtxEval(rf_confusionData)\n",
    "print(rfEvaluated)\n",
    "print('Random Forest Accuracy: ',(rfEvaluated['accuracy']))"
   ]
  },
  {
   "cell_type": "code",
   "execution_count": 305,
   "metadata": {},
   "outputs": [
    {
     "data": {
      "text/html": [
       "<div>\n",
       "<style scoped>\n",
       "    .dataframe tbody tr th:only-of-type {\n",
       "        vertical-align: middle;\n",
       "    }\n",
       "\n",
       "    .dataframe tbody tr th {\n",
       "        vertical-align: top;\n",
       "    }\n",
       "\n",
       "    .dataframe thead th {\n",
       "        text-align: right;\n",
       "    }\n",
       "</style>\n",
       "<table border=\"1\" class=\"dataframe\">\n",
       "  <thead>\n",
       "    <tr style=\"text-align: right;\">\n",
       "      <th></th>\n",
       "      <th>accuracy</th>\n",
       "      <th>error_rate</th>\n",
       "      <th>f_measure</th>\n",
       "      <th>precision</th>\n",
       "      <th>recall</th>\n",
       "      <th>sensitivity</th>\n",
       "      <th>specificity</th>\n",
       "    </tr>\n",
       "  </thead>\n",
       "  <tbody>\n",
       "    <tr>\n",
       "      <th>Bagging</th>\n",
       "      <td>0.856</td>\n",
       "      <td>0.144</td>\n",
       "      <td>0.910</td>\n",
       "      <td>0.954</td>\n",
       "      <td>0.870</td>\n",
       "      <td>0.870</td>\n",
       "      <td>0.788</td>\n",
       "    </tr>\n",
       "    <tr>\n",
       "      <th>RandomForest</th>\n",
       "      <td>0.853</td>\n",
       "      <td>0.147</td>\n",
       "      <td>0.908</td>\n",
       "      <td>0.955</td>\n",
       "      <td>0.865</td>\n",
       "      <td>0.865</td>\n",
       "      <td>0.786</td>\n",
       "    </tr>\n",
       "  </tbody>\n",
       "</table>\n",
       "</div>"
      ],
      "text/plain": [
       "              accuracy  error_rate  f_measure  precision  recall  sensitivity  \\\n",
       "Bagging          0.856       0.144      0.910      0.954   0.870        0.870   \n",
       "RandomForest     0.853       0.147      0.908      0.955   0.865        0.865   \n",
       "\n",
       "              specificity  \n",
       "Bagging             0.788  \n",
       "RandomForest        0.786  "
      ]
     },
     "metadata": {},
     "output_type": "display_data"
    }
   ],
   "source": [
    "eval_model = round(pd.DataFrame([bgEvaluated, rfEvaluated], index = ['Bagging','RandomForest']),4)\n",
    "display(eval_model)"
   ]
  },
  {
   "cell_type": "markdown",
   "metadata": {},
   "source": [
    "### 4.0.1.3. Boosting: Adaboost\n",
    "For the adaboost classifier, I used similar number for number of estimators as used in abouve tree methods\n",
    "\n",
    "*\t**Base Estimator:** DecisionTreeClassifier\n",
    "*\t**Num estimators:** 100 (Best amongst 10, 50 and 100.)\n"
   ]
  },
  {
   "cell_type": "code",
   "execution_count": 306,
   "metadata": {},
   "outputs": [],
   "source": [
    "#model\n",
    "\n",
    "adaboost = AdaBoostClassifier(n_estimators=100)                     \n",
    "adaboost.fit(X_train, y_train)\n",
    "ada_pred = adaboost.predict(X_test)"
   ]
  },
  {
   "cell_type": "code",
   "execution_count": 307,
   "metadata": {},
   "outputs": [
    {
     "name": "stdout",
     "output_type": "stream",
     "text": [
      "[[7018  412]\n",
      " [ 875 1464]]\n"
     ]
    }
   ],
   "source": [
    "#confusion Matrix\n",
    "print(confusion_matrix(y_test, ada_pred))\n",
    "ada_confusionData=confusion_matrix(y_test, ada_pred)"
   ]
  },
  {
   "cell_type": "code",
   "execution_count": 308,
   "metadata": {},
   "outputs": [
    {
     "name": "stdout",
     "output_type": "stream",
     "text": [
      "{'accuracy': 0.868, 'precision': 0.945, 'recall': 0.889, 'f_measure': 0.916, 'sensitivity': 0.889, 'specificity': 0.78, 'error_rate': 0.132}\n",
      "Adaboost Accuracy:  0.868\n"
     ]
    }
   ],
   "source": [
    "#Model Evaluation\n",
    "adaEvaluated=ConfsnMtxEval(ada_confusionData)\n",
    "print(adaEvaluated)\n",
    "print('Adaboost Accuracy: ',(adaEvaluated['accuracy']))"
   ]
  },
  {
   "cell_type": "code",
   "execution_count": 309,
   "metadata": {},
   "outputs": [
    {
     "data": {
      "text/markdown": [
       "Model Evaulation "
      ],
      "text/plain": [
       "<IPython.core.display.Markdown object>"
      ]
     },
     "metadata": {},
     "output_type": "display_data"
    },
    {
     "data": {
      "text/html": [
       "<div>\n",
       "<style scoped>\n",
       "    .dataframe tbody tr th:only-of-type {\n",
       "        vertical-align: middle;\n",
       "    }\n",
       "\n",
       "    .dataframe tbody tr th {\n",
       "        vertical-align: top;\n",
       "    }\n",
       "\n",
       "    .dataframe thead th {\n",
       "        text-align: right;\n",
       "    }\n",
       "</style>\n",
       "<table border=\"1\" class=\"dataframe\">\n",
       "  <thead>\n",
       "    <tr style=\"text-align: right;\">\n",
       "      <th></th>\n",
       "      <th>accuracy</th>\n",
       "      <th>error_rate</th>\n",
       "      <th>f_measure</th>\n",
       "      <th>precision</th>\n",
       "      <th>recall</th>\n",
       "      <th>sensitivity</th>\n",
       "      <th>specificity</th>\n",
       "    </tr>\n",
       "  </thead>\n",
       "  <tbody>\n",
       "    <tr>\n",
       "      <th>adaboost</th>\n",
       "      <td>0.868</td>\n",
       "      <td>0.132</td>\n",
       "      <td>0.916</td>\n",
       "      <td>0.945</td>\n",
       "      <td>0.889</td>\n",
       "      <td>0.889</td>\n",
       "      <td>0.78</td>\n",
       "    </tr>\n",
       "  </tbody>\n",
       "</table>\n",
       "</div>"
      ],
      "text/plain": [
       "          accuracy  error_rate  f_measure  precision  recall  sensitivity  \\\n",
       "adaboost     0.868       0.132      0.916      0.945   0.889        0.889   \n",
       "\n",
       "          specificity  \n",
       "adaboost         0.78  "
      ]
     },
     "metadata": {},
     "output_type": "display_data"
    }
   ],
   "source": [
    "printmd('Model Evaulation ')\n",
    "ovl_ada = round(pd.DataFrame([adaEvaluated], index = ['adaboost']),4)\n",
    "display(ovl_ada)"
   ]
  },
  {
   "cell_type": "markdown",
   "metadata": {},
   "source": [
    "### 4.1.4 K Nearest Neighbour:\n",
    "An unsupervised approach, knn  is a non-parametric method used for classification and regression\n",
    "\n",
    "For the K nearest neighbours classifier, a grid search is employed to find the optimum value of k. For every odd number ranging from 1 to 50.\n",
    "\n",
    "[The below grid search takes time to execute. The optimum value calculated in first iteration was \"17\" ]"
   ]
  },
  {
   "cell_type": "code",
   "execution_count": 311,
   "metadata": {},
   "outputs": [
    {
     "name": "stdout",
     "output_type": "stream",
     "text": [
      "1\n",
      "0.799\n",
      "3\n",
      "0.824\n",
      "5\n",
      "0.831\n",
      "7\n",
      "0.838\n",
      "9\n",
      "0.841\n",
      "11\n",
      "0.842\n",
      "13\n",
      "0.843\n",
      "15\n",
      "0.845\n",
      "17\n",
      "0.846\n",
      "19\n",
      "0.846\n",
      "21\n",
      "0.844\n",
      "23\n",
      "0.844\n",
      "25\n",
      "0.843\n",
      "27\n",
      "0.845\n",
      "29\n",
      "0.844\n",
      "31\n",
      "0.844\n",
      "33\n",
      "0.843\n",
      "35\n",
      "0.843\n",
      "37\n",
      "0.843\n",
      "39\n",
      "0.843\n",
      "41\n",
      "0.844\n",
      "43\n",
      "0.845\n",
      "45\n",
      "0.844\n",
      "47\n",
      "0.844\n",
      "49\n",
      "0.844\n"
     ]
    }
   ],
   "source": [
    "from sklearn.neighbors import KNeighborsClassifier\n",
    "knn_outs = l = [None] * 50\n",
    "for i in range(1,50,2):\n",
    "    knn = KNeighborsClassifier(n_neighbors=i)\n",
    "    knn.fit(X_train, y_train) \n",
    "    knn_pred = knn.predict(X_test)\n",
    "    knn_confusionData=confusion_matrix(y_test, knn_pred)\n",
    "    knnevaluated =ConfsnMtxEval(knn_confusionData)\n",
    "    print(i)\n",
    "    print(knnevaluated['accuracy'])\n",
    "    knn_outs[i]=knnevaluated['accuracy'] "
   ]
  },
  {
   "cell_type": "code",
   "execution_count": 312,
   "metadata": {},
   "outputs": [
    {
     "data": {
      "image/png": "[encoded data removed]",
      "text/plain": [
       "<Figure size 432x288 with 1 Axes>"
      ]
     },
     "metadata": {
      "needs_background": "light"
     },
     "output_type": "display_data"
    }
   ],
   "source": [
    "#listcomprehension\n",
    "knn_Acc=[knn_outs[i] for i in range(len(knn_outs)) if i % 2 == 1]\n",
    "knn_key=[i for i in range(len(knn_outs)) if i % 2 == 1]\n",
    "#accuracy plot\n",
    "sns.distplot(knn_Acc);"
   ]
  },
  {
   "cell_type": "code",
   "execution_count": 314,
   "metadata": {},
   "outputs": [
    {
     "data": {
      "text/plain": [
       "key      17.000\n",
       "value     0.846\n",
       "Name: 8, dtype: float64"
      ]
     },
     "execution_count": 314,
     "metadata": {},
     "output_type": "execute_result"
    }
   ],
   "source": [
    "data_tuples = list(zip(knn_key,knn_Acc))\n",
    "knnAccuracy=pd.DataFrame(data_tuples,columns=['key','value'])\n",
    "\n",
    "#Max accuracy @ k=17 = .846\n",
    "knnAccuracy.loc[knnAccuracy['value'].idxmax()]\n",
    "#knnAccuracy.groupby(['key'])['value'].max()"
   ]
  },
  {
   "cell_type": "code",
   "execution_count": 315,
   "metadata": {},
   "outputs": [],
   "source": [
    "#i=17\n",
    "#develop a model based on this optimum value of k as suggested by grid search\n",
    "knn = KNeighborsClassifier(n_neighbors=i)\n",
    "knn.fit(X_train, y_train) \n",
    "knn_pred = knn.predict(X_test)\n",
    "knn_confusionData=confusion_matrix(y_test, knn_pred)\n",
    "knnevaluated =ConfsnMtxEval(knn_confusionData)"
   ]
  },
  {
   "cell_type": "code",
   "execution_count": 317,
   "metadata": {},
   "outputs": [
    {
     "name": "stdout",
     "output_type": "stream",
     "text": [
      "{'accuracy': 0.844, 'precision': 0.924, 'recall': 0.877, 'f_measure': 0.9, 'sensitivity': 0.877, 'specificity': 0.709, 'error_rate': 0.156}\n",
      "KNN Accuracy:  0.844\n"
     ]
    }
   ],
   "source": [
    "#model evaluation results\n",
    "print(knnevaluated)\n",
    "print('KNN Accuracy: ',(knnevaluated['accuracy']))"
   ]
  },
  {
   "cell_type": "markdown",
   "metadata": {},
   "source": [
    "### 4.1.7. Artificial Neural Network\n",
    "For the ANN classifier, I used 2 activation functions, the solver for weight optimization, regularization term and learning schedule for weight updates. The following values of the parameters attained the best accuracy during classification. Other parameters were neither applicable to the 'adam' solver nor did it improve the performance of the model. Results in the table below.\n",
    "\n",
    "*\t**Activation:** Logistic Marginally outperformed 'relu'\n",
    "*   **Solver:** Used the default \"Adam\" (Works well on relatively large datasets with thousands of training samples or more)\n",
    "               - 'adam' refers to a stochastic gradient-based optimizer. \n",
    "*   **Alpha:** default 0.0001 (Best amongst 1, 1e-1, 1e-2, 1e-3, 1e-4 and 1e-5),I also tried different values but found best result for default               values\n",
    "*   **Learning Rate:**  'invscaling' (Gradually decreases the learning rate at each time step 't' using an inverse scaling exponent of 'power_t'.)\n"
   ]
  },
  {
   "cell_type": "code",
   "execution_count": 195,
   "metadata": {},
   "outputs": [],
   "source": [
    "# Tan H\n",
    "ann_tanh = MLPClassifier(activation = 'tanh', solver='lbfgs', alpha=1e-4, hidden_layer_sizes=(10, 2), random_state=1, warm_start=True)\n",
    "ann_tanh.fit(X_train, y_train)                         \n",
    "ann_tanh_pred = ann_tanh.predict(X_test)\n",
    "ANN_TanH=confusion_matrix(y_test, ann_tanh_pred)\n",
    "ann_tanhevaluated =ConfsnMtxEval(ANN_TanH)\n",
    "\n",
    "# Relu\n",
    "ann_relu = MLPClassifier(activation = 'relu', solver='adam', alpha=1e-4, \n",
    "                    hidden_layer_sizes=(5, 2), random_state=1,\n",
    "                    learning_rate  = 'invscaling',\n",
    "                    warm_start = True)\n",
    "ann_relu.fit(X_train, y_train)                         \n",
    "ann_relu_pred = ann_relu.predict(X_test)\n",
    "ANN_relu=confusion_matrix(y_test, ann_relu_pred)\n",
    "ann_reluevaluated =ConfsnMtxEval(ANN_relu)\n",
    "\n",
    "# sigmoid\n",
    "ann_log = MLPClassifier(activation = 'logistic', solver='adam', \n",
    "                    alpha=1e-4, hidden_layer_sizes=(5, 2),\n",
    "                    learning_rate  = 'invscaling', \n",
    "                    random_state=1, warm_start = True)\n",
    "ann_log.fit(X_train, y_train)                        \n",
    "ann_log_pred = ann_log.predict(X_test)\n",
    "ANN_log=confusion_matrix(y_test, ann_log_pred)\n",
    "ann_Logevaluated =ConfsnMtxEval(ANN_log)\n",
    "\n",
    "# Identity\n",
    "ann_identity = MLPClassifier(activation = 'identity', solver='adam', \n",
    "                             alpha=1e-4, hidden_layer_sizes=(5, 2), \n",
    "                             random_state=1, warm_start = True)\n",
    "ann_identity.fit(X_train, y_train)                         \n",
    "ann_identity_pred = ann_identity.predict(X_test)\n",
    "ANN_id=confusion_matrix(y_test, ann_identity_pred)\n",
    "ann_idevaluated =ConfsnMtxEval(ANN_id)\n"
   ]
  },
  {
   "cell_type": "code",
   "execution_count": 202,
   "metadata": {},
   "outputs": [
    {
     "data": {
      "text/plain": [
       "{'accuracy': 0.851,\n",
       " 'precision': 0.927,\n",
       " 'recall': 0.883,\n",
       " 'f_measure': 0.905,\n",
       " 'sensitivity': 0.883,\n",
       " 'specificity': 0.724,\n",
       " 'error_rate': 0.149}"
      ]
     },
     "execution_count": 202,
     "metadata": {},
     "output_type": "execute_result"
    }
   ],
   "source": [
    "ann_tanhevaluated"
   ]
  },
  {
   "cell_type": "code",
   "execution_count": 197,
   "metadata": {},
   "outputs": [
    {
     "data": {
      "text/plain": [
       "{'accuracy': 0.85,\n",
       " 'precision': 0.922,\n",
       " 'recall': 0.885,\n",
       " 'f_measure': 0.903,\n",
       " 'sensitivity': 0.885,\n",
       " 'specificity': 0.715,\n",
       " 'error_rate': 0.15}"
      ]
     },
     "execution_count": 197,
     "metadata": {},
     "output_type": "execute_result"
    }
   ],
   "source": [
    "ann_reluevaluated"
   ]
  },
  {
   "cell_type": "code",
   "execution_count": 198,
   "metadata": {},
   "outputs": [
    {
     "data": {
      "text/plain": [
       "{'accuracy': 0.849,\n",
       " 'precision': 0.921,\n",
       " 'recall': 0.885,\n",
       " 'f_measure': 0.903,\n",
       " 'sensitivity': 0.885,\n",
       " 'specificity': 0.712,\n",
       " 'error_rate': 0.151}"
      ]
     },
     "execution_count": 198,
     "metadata": {},
     "output_type": "execute_result"
    }
   ],
   "source": [
    "ann_Logevaluated"
   ]
  },
  {
   "cell_type": "code",
   "execution_count": 199,
   "metadata": {},
   "outputs": [
    {
     "data": {
      "text/plain": [
       "{'accuracy': 0.848,\n",
       " 'precision': 0.926,\n",
       " 'recall': 0.881,\n",
       " 'f_measure': 0.903,\n",
       " 'sensitivity': 0.881,\n",
       " 'specificity': 0.719,\n",
       " 'error_rate': 0.152}"
      ]
     },
     "execution_count": 199,
     "metadata": {},
     "output_type": "execute_result"
    }
   ],
   "source": [
    "ann_idevaluated"
   ]
  },
  {
   "cell_type": "code",
   "execution_count": 318,
   "metadata": {},
   "outputs": [
    {
     "data": {
      "text/markdown": [
       "Model Evaulation "
      ],
      "text/plain": [
       "<IPython.core.display.Markdown object>"
      ]
     },
     "metadata": {},
     "output_type": "display_data"
    },
    {
     "data": {
      "text/html": [
       "<div>\n",
       "<style scoped>\n",
       "    .dataframe tbody tr th:only-of-type {\n",
       "        vertical-align: middle;\n",
       "    }\n",
       "\n",
       "    .dataframe tbody tr th {\n",
       "        vertical-align: top;\n",
       "    }\n",
       "\n",
       "    .dataframe thead th {\n",
       "        text-align: right;\n",
       "    }\n",
       "</style>\n",
       "<table border=\"1\" class=\"dataframe\">\n",
       "  <thead>\n",
       "    <tr style=\"text-align: right;\">\n",
       "      <th></th>\n",
       "      <th>accuracy</th>\n",
       "      <th>error_rate</th>\n",
       "      <th>f_measure</th>\n",
       "      <th>precision</th>\n",
       "      <th>recall</th>\n",
       "      <th>sensitivity</th>\n",
       "      <th>specificity</th>\n",
       "    </tr>\n",
       "  </thead>\n",
       "  <tbody>\n",
       "    <tr>\n",
       "      <th>ann_tanh</th>\n",
       "      <td>0.851</td>\n",
       "      <td>0.149</td>\n",
       "      <td>0.905</td>\n",
       "      <td>0.927</td>\n",
       "      <td>0.883</td>\n",
       "      <td>0.883</td>\n",
       "      <td>0.724</td>\n",
       "    </tr>\n",
       "    <tr>\n",
       "      <th>ann_relu</th>\n",
       "      <td>0.850</td>\n",
       "      <td>0.150</td>\n",
       "      <td>0.903</td>\n",
       "      <td>0.922</td>\n",
       "      <td>0.885</td>\n",
       "      <td>0.885</td>\n",
       "      <td>0.715</td>\n",
       "    </tr>\n",
       "    <tr>\n",
       "      <th>ann_Log</th>\n",
       "      <td>0.849</td>\n",
       "      <td>0.151</td>\n",
       "      <td>0.903</td>\n",
       "      <td>0.921</td>\n",
       "      <td>0.885</td>\n",
       "      <td>0.885</td>\n",
       "      <td>0.712</td>\n",
       "    </tr>\n",
       "    <tr>\n",
       "      <th>ann_id</th>\n",
       "      <td>0.848</td>\n",
       "      <td>0.152</td>\n",
       "      <td>0.903</td>\n",
       "      <td>0.926</td>\n",
       "      <td>0.881</td>\n",
       "      <td>0.881</td>\n",
       "      <td>0.719</td>\n",
       "    </tr>\n",
       "  </tbody>\n",
       "</table>\n",
       "</div>"
      ],
      "text/plain": [
       "          accuracy  error_rate  f_measure  precision  recall  sensitivity  \\\n",
       "ann_tanh     0.851       0.149      0.905      0.927   0.883        0.883   \n",
       "ann_relu     0.850       0.150      0.903      0.922   0.885        0.885   \n",
       "ann_Log      0.849       0.151      0.903      0.921   0.885        0.885   \n",
       "ann_id       0.848       0.152      0.903      0.926   0.881        0.881   \n",
       "\n",
       "          specificity  \n",
       "ann_tanh        0.724  \n",
       "ann_relu        0.715  \n",
       "ann_Log         0.712  \n",
       "ann_id          0.719  "
      ]
     },
     "execution_count": 318,
     "metadata": {},
     "output_type": "execute_result"
    }
   ],
   "source": [
    "printmd('Model Evaulation ')\n",
    "ovl_ada = round(pd.DataFrame([ann_tanhevaluated,ann_reluevaluated,ann_Logevaluated,ann_idevaluated], \n",
    "                             index = ['ann_tanh','ann_relu','ann_Log','ann_id']),4)\n",
    "ovl_ada.sort_values(by=['accuracy'],ascending=False)"
   ]
  },
  {
   "cell_type": "markdown",
   "metadata": {},
   "source": [
    "## 5.0 Model Comparision"
   ]
  },
  {
   "cell_type": "code",
   "execution_count": 319,
   "metadata": {},
   "outputs": [
    {
     "data": {
      "text/html": [
       "<div>\n",
       "<style scoped>\n",
       "    .dataframe tbody tr th:only-of-type {\n",
       "        vertical-align: middle;\n",
       "    }\n",
       "\n",
       "    .dataframe tbody tr th {\n",
       "        vertical-align: top;\n",
       "    }\n",
       "\n",
       "    .dataframe thead th {\n",
       "        text-align: right;\n",
       "    }\n",
       "</style>\n",
       "<table border=\"1\" class=\"dataframe\">\n",
       "  <thead>\n",
       "    <tr style=\"text-align: right;\">\n",
       "      <th></th>\n",
       "      <th>accuracy</th>\n",
       "      <th>error_rate</th>\n",
       "      <th>f_measure</th>\n",
       "      <th>precision</th>\n",
       "      <th>recall</th>\n",
       "      <th>sensitivity</th>\n",
       "      <th>specificity</th>\n",
       "    </tr>\n",
       "  </thead>\n",
       "  <tbody>\n",
       "    <tr>\n",
       "      <th>adaboost</th>\n",
       "      <td>0.868</td>\n",
       "      <td>0.132</td>\n",
       "      <td>0.916</td>\n",
       "      <td>0.945</td>\n",
       "      <td>0.889</td>\n",
       "      <td>0.889</td>\n",
       "      <td>0.780</td>\n",
       "    </tr>\n",
       "    <tr>\n",
       "      <th>Dec Trees</th>\n",
       "      <td>0.858</td>\n",
       "      <td>0.142</td>\n",
       "      <td>0.911</td>\n",
       "      <td>0.955</td>\n",
       "      <td>0.871</td>\n",
       "      <td>0.871</td>\n",
       "      <td>0.792</td>\n",
       "    </tr>\n",
       "    <tr>\n",
       "      <th>Bagging</th>\n",
       "      <td>0.856</td>\n",
       "      <td>0.144</td>\n",
       "      <td>0.910</td>\n",
       "      <td>0.954</td>\n",
       "      <td>0.870</td>\n",
       "      <td>0.870</td>\n",
       "      <td>0.788</td>\n",
       "    </tr>\n",
       "    <tr>\n",
       "      <th>RandomFrst</th>\n",
       "      <td>0.853</td>\n",
       "      <td>0.147</td>\n",
       "      <td>0.908</td>\n",
       "      <td>0.955</td>\n",
       "      <td>0.865</td>\n",
       "      <td>0.865</td>\n",
       "      <td>0.786</td>\n",
       "    </tr>\n",
       "    <tr>\n",
       "      <th>ann_tanh</th>\n",
       "      <td>0.851</td>\n",
       "      <td>0.149</td>\n",
       "      <td>0.905</td>\n",
       "      <td>0.927</td>\n",
       "      <td>0.883</td>\n",
       "      <td>0.883</td>\n",
       "      <td>0.724</td>\n",
       "    </tr>\n",
       "    <tr>\n",
       "      <th>ann_relu</th>\n",
       "      <td>0.850</td>\n",
       "      <td>0.150</td>\n",
       "      <td>0.903</td>\n",
       "      <td>0.922</td>\n",
       "      <td>0.885</td>\n",
       "      <td>0.885</td>\n",
       "      <td>0.715</td>\n",
       "    </tr>\n",
       "    <tr>\n",
       "      <th>ann_Log</th>\n",
       "      <td>0.849</td>\n",
       "      <td>0.151</td>\n",
       "      <td>0.903</td>\n",
       "      <td>0.921</td>\n",
       "      <td>0.885</td>\n",
       "      <td>0.885</td>\n",
       "      <td>0.712</td>\n",
       "    </tr>\n",
       "    <tr>\n",
       "      <th>Logistic</th>\n",
       "      <td>0.848</td>\n",
       "      <td>0.152</td>\n",
       "      <td>0.903</td>\n",
       "      <td>0.928</td>\n",
       "      <td>0.879</td>\n",
       "      <td>0.879</td>\n",
       "      <td>0.722</td>\n",
       "    </tr>\n",
       "    <tr>\n",
       "      <th>ann_id</th>\n",
       "      <td>0.848</td>\n",
       "      <td>0.152</td>\n",
       "      <td>0.903</td>\n",
       "      <td>0.926</td>\n",
       "      <td>0.881</td>\n",
       "      <td>0.881</td>\n",
       "      <td>0.719</td>\n",
       "    </tr>\n",
       "    <tr>\n",
       "      <th>knn</th>\n",
       "      <td>0.844</td>\n",
       "      <td>0.156</td>\n",
       "      <td>0.900</td>\n",
       "      <td>0.924</td>\n",
       "      <td>0.877</td>\n",
       "      <td>0.877</td>\n",
       "      <td>0.709</td>\n",
       "    </tr>\n",
       "  </tbody>\n",
       "</table>\n",
       "</div>"
      ],
      "text/plain": [
       "            accuracy  error_rate  f_measure  precision  recall  sensitivity  \\\n",
       "adaboost       0.868       0.132      0.916      0.945   0.889        0.889   \n",
       "Dec Trees      0.858       0.142      0.911      0.955   0.871        0.871   \n",
       "Bagging        0.856       0.144      0.910      0.954   0.870        0.870   \n",
       "RandomFrst     0.853       0.147      0.908      0.955   0.865        0.865   \n",
       "ann_tanh       0.851       0.149      0.905      0.927   0.883        0.883   \n",
       "ann_relu       0.850       0.150      0.903      0.922   0.885        0.885   \n",
       "ann_Log        0.849       0.151      0.903      0.921   0.885        0.885   \n",
       "Logistic       0.848       0.152      0.903      0.928   0.879        0.879   \n",
       "ann_id         0.848       0.152      0.903      0.926   0.881        0.881   \n",
       "knn            0.844       0.156      0.900      0.924   0.877        0.877   \n",
       "\n",
       "            specificity  \n",
       "adaboost          0.780  \n",
       "Dec Trees         0.792  \n",
       "Bagging           0.788  \n",
       "RandomFrst        0.786  \n",
       "ann_tanh          0.724  \n",
       "ann_relu          0.715  \n",
       "ann_Log           0.712  \n",
       "Logistic          0.722  \n",
       "ann_id            0.719  \n",
       "knn               0.709  "
      ]
     },
     "execution_count": 319,
     "metadata": {},
     "output_type": "execute_result"
    }
   ],
   "source": [
    "ModelComparision = round(pd.DataFrame([LogEvaluated, dtEvaluated,bgEvaluated, rfEvaluated,adaEvaluated,knnevaluated, \n",
    "                                      ann_tanhevaluated,ann_reluevaluated,ann_Logevaluated,ann_idevaluated],\n",
    "                                      index = ['Logistic','Dec Trees','Bagging','RandomFrst','adaboost','knn',\n",
    "                                              'ann_tanh','ann_relu','ann_Log','ann_id']),4)\n",
    "\n",
    "ModelComparision.sort_values(by=['accuracy'],ascending=False)"
   ]
  },
  {
   "cell_type": "markdown",
   "metadata": {},
   "source": [
    "**Adaboost in this outperforms all models including neural nets**\n",
    "\n",
    "Lets divide these criterians into positive criterians: that are **the more the better**\n",
    "and negative criterians(such as, Miss classification rate) that are **the less the better**\n"
   ]
  },
  {
   "cell_type": "code",
   "execution_count": 320,
   "metadata": {},
   "outputs": [
    {
     "data": {
      "text/markdown": [
       "**The more the better criterians:** 'accuracy','precision','f_measure'        Below graph compares these 3 criterians, we can see that adaboost is better in accuracy         but percision is higher for Randomforest . Neural nets do not perform better in any of these criterians"
      ],
      "text/plain": [
       "<IPython.core.display.Markdown object>"
      ]
     },
     "metadata": {},
     "output_type": "display_data"
    },
    {
     "data": {
      "image/png": "[encoded data removed]",
      "text/plain": [
       "<Figure size 1080x360 with 1 Axes>"
      ]
     },
     "metadata": {
      "needs_background": "light"
     },
     "output_type": "display_data"
    }
   ],
   "source": [
    "positive=ModelComparision[['accuracy','precision','f_measure']]\n",
    "\n",
    "fig = plt.figure()\n",
    "# Divide the figure into a 2x1 grid, and give me the first section\n",
    "ax1 = fig.add_subplot(111)\n",
    "positive.plot(kind='bar',rot=0,figsize = (15,5),ax=ax1);\n",
    "ax1.set_ylabel('nice')\n",
    "plt.ylim([.84, 1])\n",
    "\n",
    "printmd('**The more the better criterians:** \\'accuracy\\',\\'precision\\',\\'f_measure\\'\\\n",
    "        Below graph compares these 3 criterians, we can see that adaboost is better in accuracy \\\n",
    "        but percision is higher for Randomforest . Neural nets do not perform better in any of these criterians')\n"
   ]
  },
  {
   "cell_type": "code",
   "execution_count": 321,
   "metadata": {},
   "outputs": [
    {
     "data": {
      "text/markdown": [
       "**The more the better criterians:** 'sensitivity','specificity'        Below graph compares these 2 criterians, we can see that adaboost is highest sensitivity , Neural nets take the second position        .Random forest have better specificity"
      ],
      "text/plain": [
       "<IPython.core.display.Markdown object>"
      ]
     },
     "metadata": {},
     "output_type": "display_data"
    },
    {
     "data": {
      "image/png": "[encoded data removed]",
      "text/plain": [
       "<Figure size 1080x360 with 1 Axes>"
      ]
     },
     "metadata": {
      "needs_background": "light"
     },
     "output_type": "display_data"
    }
   ],
   "source": [
    "negative=ModelComparision[['sensitivity','specificity']]\n",
    "\n",
    "fig = plt.figure()\n",
    "# Divide the figure into a 2x1 grid, and give me the first section\n",
    "ax1 = fig.add_subplot(111)\n",
    "negative.plot(kind='bar',rot=0,figsize = (15,5),ax=ax1);\n",
    "ax1.set_ylabel('nice')\n",
    "plt.ylim([.70, .90])\n",
    "\n",
    "printmd('**The more the better criterians:** \\'sensitivity\\',\\'specificity\\'\\\n",
    "        Below graph compares these 2 criterians, we can see that adaboost is highest sensitivity , Neural nets take the second position\\\n",
    "        .Random forest have better specificity')\n"
   ]
  },
  {
   "cell_type": "code",
   "execution_count": 322,
   "metadata": {},
   "outputs": [
    {
     "data": {
      "text/markdown": [
       "**The less the better criterians ** 'Missclassification Error Rate: '        Below graph compares MCR, we can see that adaboost has least MCR and outperforms all other models"
      ],
      "text/plain": [
       "<IPython.core.display.Markdown object>"
      ]
     },
     "metadata": {},
     "output_type": "display_data"
    },
    {
     "data": {
      "image/png": "[encoded data removed]",
      "text/plain": [
       "<Figure size 2160x360 with 1 Axes>"
      ]
     },
     "metadata": {
      "needs_background": "light"
     },
     "output_type": "display_data"
    }
   ],
   "source": [
    "fig = plt.figure()\n",
    "\n",
    "# Divide the figure into a 2x1 grid, and give me the first section\n",
    "ax1 = fig.add_subplot(121)\n",
    "\n",
    "\n",
    "ModelComparision.plot(kind='bar',y='error_rate', rot=0,figsize = (30,5),ax=ax1);\n",
    "ax1.set_ylabel('nice')\n",
    "plt.ylim([.17, .10])\n",
    "\n",
    "printmd('**The less the better criterians ** \\'Missclassification Error Rate: \\'\\\n",
    "        Below graph compares MCR, we can see that adaboost has least MCR and outperforms all other models')"
   ]
  },
  {
   "cell_type": "markdown",
   "metadata": {},
   "source": [
    "### 5.0.1 ROC Curves\n",
    "\n",
    "I am only plotting ANN_Tanh along with other models, as it outperforms all other models"
   ]
  },
  {
   "cell_type": "code",
   "execution_count": 325,
   "metadata": {},
   "outputs": [
    {
     "data": {
      "image/png": "[encoded data removed]",
      "text/plain": [
       "<Figure size 432x288 with 1 Axes>"
      ]
     },
     "metadata": {
      "needs_background": "light"
     },
     "output_type": "display_data"
    }
   ],
   "source": [
    "color = ['tab:blue', 'tab:orange', 'tab:green', 'tab:olive', 'tab:red', 'tab:cyan', 'tab:pink', 'tab:gray', 'tab:olive']\n",
    "lw = 2  \n",
    "classifiers=[logmodel,dt_gini,bagg,rforest,adaboost,knn,ann_tanh]\n",
    "\n",
    "fpr, tpr, thres = metrics.roc_curve(y_test.ravel(),classifiers[0].predict_proba(X_test)[:,1])                 \n",
    "plt.plot(fpr, tpr, color=color[0],lw=lw, label='LOG')\n",
    "\n",
    "fpr, tpr, thres = metrics.roc_curve(y_test.ravel(),classifiers[1].predict_proba(X_test)[:,1])\n",
    "plt.plot(fpr, tpr, color=color[1],lw=lw, label='DT')\n",
    "\n",
    "fpr, tpr, thres = metrics.roc_curve(y_test.ravel(),classifiers[2].predict_proba(X_test)[:,1])\n",
    "plt.plot(fpr, tpr, color=color[2],lw=lw, label='randomfrst')\n",
    "\n",
    "fpr, tpr, thres = metrics.roc_curve(y_test.ravel(),classifiers[3].predict_proba(X_test)[:,1])\n",
    "plt.plot(fpr, tpr, color=color[3],lw=lw, label='Bagg')\n",
    "\n",
    "fpr, tpr, thres = metrics.roc_curve(y_test.ravel(),classifiers[4].predict_proba(X_test)[:,1])\n",
    "plt.plot(fpr, tpr, color=color[4],lw=lw, label='Ada')\n",
    "\n",
    "fpr, tpr, thres = metrics.roc_curve(y_test.ravel(),classifiers[5].predict_proba(X_test)[:,1])\n",
    "plt.plot(fpr, tpr, color=color[5],lw=lw, label='knn')\n",
    "\n",
    "fpr, tpr, thres = metrics.roc_curve(y_test.ravel(),classifiers[6].predict_proba(X_test)[:,1])\n",
    "plt.plot(fpr, tpr, color=color[6],lw=lw, label='Ann_tanH')\n",
    "\n",
    "plt.title('Receiver Operating Characteristic');                       \n",
    "plt.plot([0, 1], [0, 1], color='navy', lw=lw, linestyle='--')\n",
    "plt.xlim([0.0, 1.0])\n",
    "plt.ylim([0.0, 1.0])\n",
    "plt.xlabel('False Positive Rate')\n",
    "plt.ylabel('True Positive Rate')\n",
    "plt.title('Receiver operating characteristic (ROC)')\n",
    "plt.legend(loc=\"lower right\")\n",
    "plt.show()"
   ]
  },
  {
   "cell_type": "markdown",
   "metadata": {},
   "source": [
    "**Roc curve** \n",
    "\n",
    "**Bigger the better Criterians of Classification :** We can clearly see **Red** Adaboost curve that is highest of all other curves"
   ]
  },
  {
   "cell_type": "markdown",
   "metadata": {},
   "source": [
    "**Conclusion:**\n",
    "\n",
    "Combing the performance statistics of all the model developed, we see that Adaboost gives us the \n",
    "*highest Accuracy\n",
    "*highest Area under ROC curve \n",
    "*highest Sensitivity\n",
    "*highest F-measure\n",
    "*lowest Miss classification rate \n",
    "Although precision is comparatively less than Decision trees & RF \n",
    "\n",
    "The advantage of using Adaboost over other models \n",
    "\n",
    "*Ensemble methods, including Adaboost are more robust than single estimators, have improved generalizability.* \n",
    "\n",
    "*Simple models can be combined to build a complex model, which is computationally fast & more accurate*\n",
    "\n",
    "However, If we have a biased underlying classifier, it will lead to a biased boosted model. Simply stated Adaboost is sensitive to noisy data and outliers."
   ]
  }
 ],
 "metadata": {
  "kernelspec": {
   "display_name": "Python 3",
   "language": "python",
   "name": "python3"
  },
  "language_info": {
   "codemirror_mode": {
    "name": "ipython",
    "version": 3
   },
   "file_extension": ".py",
   "mimetype": "text/x-python",
   "name": "python",
   "nbconvert_exporter": "python",
   "pygments_lexer": "ipython3",
   "version": "3.7.3"
  }
 },
 "nbformat": 4,
 "nbformat_minor": 4
}
