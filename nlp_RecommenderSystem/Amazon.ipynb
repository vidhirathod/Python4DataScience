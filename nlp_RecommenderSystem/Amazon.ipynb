{
 "cells": [
  {
   "cell_type": "code",
   "execution_count": 4,
   "metadata": {},
   "outputs": [],
   "source": [
    "import numpy as np\n",
    "import pandas as pd\n",
    "from textblob import TextBlob\n",
    "from bs4 import BeautifulSoup\n",
    "from wordcloud import WordCloud,STOPWORDS\n",
    "from sklearn.metrics import *\n",
    "import re\n",
    "from sklearn.feature_extraction.text import TfidfTransformer, TfidfVectorizer\n",
    "from sklearn.dummy import DummyClassifier\n",
    "from sklearn.model_selection import train_test_split\n",
    "from sklearn.linear_model import LogisticRegression"
   ]
  },
  {
   "cell_type": "code",
   "execution_count": 56,
   "metadata": {},
   "outputs": [],
   "source": [
    "import warnings\n",
    "warnings.filterwarnings(\"ignore\", category=FutureWarning)\n",
    "import matplotlib.pyplot as plt\n",
    "import seaborn as sns\n",
    "%matplotlib inline\n"
   ]
  },
  {
   "cell_type": "code",
   "execution_count": 2,
   "metadata": {},
   "outputs": [
    {
     "name": "stdout",
     "output_type": "stream",
     "text": [
      "Requirement already satisfied: wordcloud in c:\\users\\vidhi\\appdata\\local\\continuum\\anaconda3\\lib\\site-packages (1.7.0)\n",
      "Requirement already satisfied: matplotlib in c:\\users\\vidhi\\appdata\\local\\continuum\\anaconda3\\lib\\site-packages (from wordcloud) (3.2.1)\n",
      "Requirement already satisfied: pillow in c:\\users\\vidhi\\appdata\\local\\continuum\\anaconda3\\lib\\site-packages (from wordcloud) (6.1.0)\n",
      "Requirement already satisfied: numpy>=1.6.1 in c:\\users\\vidhi\\appdata\\local\\continuum\\anaconda3\\lib\\site-packages (from wordcloud) (1.16.4)\n",
      "Requirement already satisfied: python-dateutil>=2.1 in c:\\users\\vidhi\\appdata\\local\\continuum\\anaconda3\\lib\\site-packages (from matplotlib->wordcloud) (2.8.0)\n",
      "Requirement already satisfied: kiwisolver>=1.0.1 in c:\\users\\vidhi\\appdata\\local\\continuum\\anaconda3\\lib\\site-packages (from matplotlib->wordcloud) (1.1.0)\n",
      "Requirement already satisfied: pyparsing!=2.0.4,!=2.1.2,!=2.1.6,>=2.0.1 in c:\\users\\vidhi\\appdata\\local\\continuum\\anaconda3\\lib\\site-packages (from matplotlib->wordcloud) (2.4.0)\n",
      "Requirement already satisfied: cycler>=0.10 in c:\\users\\vidhi\\appdata\\local\\continuum\\anaconda3\\lib\\site-packages (from matplotlib->wordcloud) (0.10.0)\n",
      "Requirement already satisfied: six>=1.5 in c:\\users\\vidhi\\appdata\\local\\continuum\\anaconda3\\lib\\site-packages (from python-dateutil>=2.1->matplotlib->wordcloud) (1.12.0)\n",
      "Requirement already satisfied: setuptools in c:\\users\\vidhi\\appdata\\local\\continuum\\anaconda3\\lib\\site-packages (from kiwisolver>=1.0.1->matplotlib->wordcloud) (41.0.1)\n",
      "Note: you may need to restart the kernel to use updated packages.\n"
     ]
    }
   ],
   "source": [
    "pip install wordcloud \n"
   ]
  },
  {
   "cell_type": "markdown",
   "metadata": {},
   "source": [
    "### Data loading function"
   ]
  },
  {
   "cell_type": "code",
   "execution_count": 5,
   "metadata": {},
   "outputs": [],
   "source": [
    "import gzip\n",
    "import pandas as pd\n",
    "\n",
    "def parse(path):\n",
    "    g = gzip.open(path, 'rb')\n",
    "    for l in g:\n",
    "        yield eval(l)\n",
    "\n",
    "def getDF(path):\n",
    "    i = 0\n",
    "    df = {}\n",
    "    for d in parse(path):\n",
    "        df[i] = d\n",
    "        i += 1\n",
    "    return pd.DataFrame.from_dict(df, orient='index')\n"
   ]
  },
  {
   "cell_type": "code",
   "execution_count": 6,
   "metadata": {},
   "outputs": [],
   "source": [
    "df = getDF('reviews_Home_and_Kitchen_5.json.gz')"
   ]
  },
  {
   "cell_type": "markdown",
   "metadata": {},
   "source": [
    "### Snapshot of Data"
   ]
  },
  {
   "cell_type": "code",
   "execution_count": 5,
   "metadata": {},
   "outputs": [
    {
     "data": {
      "text/html": [
       "<div>\n",
       "<style scoped>\n",
       "    .dataframe tbody tr th:only-of-type {\n",
       "        vertical-align: middle;\n",
       "    }\n",
       "\n",
       "    .dataframe tbody tr th {\n",
       "        vertical-align: top;\n",
       "    }\n",
       "\n",
       "    .dataframe thead th {\n",
       "        text-align: right;\n",
       "    }\n",
       "</style>\n",
       "<table border=\"1\" class=\"dataframe\">\n",
       "  <thead>\n",
       "    <tr style=\"text-align: right;\">\n",
       "      <th></th>\n",
       "      <th>reviewerID</th>\n",
       "      <th>asin</th>\n",
       "      <th>reviewerName</th>\n",
       "      <th>helpful</th>\n",
       "      <th>reviewText</th>\n",
       "      <th>overall</th>\n",
       "      <th>summary</th>\n",
       "      <th>unixReviewTime</th>\n",
       "      <th>reviewTime</th>\n",
       "    </tr>\n",
       "  </thead>\n",
       "  <tbody>\n",
       "    <tr>\n",
       "      <th>0</th>\n",
       "      <td>APYOBQE6M18AA</td>\n",
       "      <td>0615391206</td>\n",
       "      <td>Martin Schwartz</td>\n",
       "      <td>[0, 0]</td>\n",
       "      <td>My daughter wanted this book and the price on ...</td>\n",
       "      <td>5.0</td>\n",
       "      <td>Best Price</td>\n",
       "      <td>1382140800</td>\n",
       "      <td>10 19, 2013</td>\n",
       "    </tr>\n",
       "    <tr>\n",
       "      <th>1</th>\n",
       "      <td>A1JVQTAGHYOL7F</td>\n",
       "      <td>0615391206</td>\n",
       "      <td>Michelle Dinh</td>\n",
       "      <td>[0, 0]</td>\n",
       "      <td>I bought this zoku quick pop for my daughterr ...</td>\n",
       "      <td>5.0</td>\n",
       "      <td>zoku</td>\n",
       "      <td>1403049600</td>\n",
       "      <td>06 18, 2014</td>\n",
       "    </tr>\n",
       "    <tr>\n",
       "      <th>2</th>\n",
       "      <td>A3UPYGJKZ0XTU4</td>\n",
       "      <td>0615391206</td>\n",
       "      <td>mirasreviews</td>\n",
       "      <td>[26, 27]</td>\n",
       "      <td>There is no shortage of pop recipes available ...</td>\n",
       "      <td>4.0</td>\n",
       "      <td>Excels at Sweet Dessert Pops, but Falls Short ...</td>\n",
       "      <td>1367712000</td>\n",
       "      <td>05 5, 2013</td>\n",
       "    </tr>\n",
       "    <tr>\n",
       "      <th>3</th>\n",
       "      <td>A2MHCTX43MIMDZ</td>\n",
       "      <td>0615391206</td>\n",
       "      <td>M. Johnson \"Tea Lover\"</td>\n",
       "      <td>[14, 18]</td>\n",
       "      <td>This book is a must have if you get a Zoku (wh...</td>\n",
       "      <td>5.0</td>\n",
       "      <td>Creative Combos</td>\n",
       "      <td>1312416000</td>\n",
       "      <td>08 4, 2011</td>\n",
       "    </tr>\n",
       "    <tr>\n",
       "      <th>4</th>\n",
       "      <td>AHAI85T5C2DH3</td>\n",
       "      <td>0615391206</td>\n",
       "      <td>PugLover</td>\n",
       "      <td>[0, 0]</td>\n",
       "      <td>This cookbook is great.  I have really enjoyed...</td>\n",
       "      <td>4.0</td>\n",
       "      <td>A must own if you own the Zoku maker...</td>\n",
       "      <td>1402099200</td>\n",
       "      <td>06 7, 2014</td>\n",
       "    </tr>\n",
       "  </tbody>\n",
       "</table>\n",
       "</div>"
      ],
      "text/plain": [
       "       reviewerID        asin            reviewerName   helpful  \\\n",
       "0   APYOBQE6M18AA  0615391206         Martin Schwartz    [0, 0]   \n",
       "1  A1JVQTAGHYOL7F  0615391206           Michelle Dinh    [0, 0]   \n",
       "2  A3UPYGJKZ0XTU4  0615391206            mirasreviews  [26, 27]   \n",
       "3  A2MHCTX43MIMDZ  0615391206  M. Johnson \"Tea Lover\"  [14, 18]   \n",
       "4   AHAI85T5C2DH3  0615391206                PugLover    [0, 0]   \n",
       "\n",
       "                                          reviewText  overall  \\\n",
       "0  My daughter wanted this book and the price on ...      5.0   \n",
       "1  I bought this zoku quick pop for my daughterr ...      5.0   \n",
       "2  There is no shortage of pop recipes available ...      4.0   \n",
       "3  This book is a must have if you get a Zoku (wh...      5.0   \n",
       "4  This cookbook is great.  I have really enjoyed...      4.0   \n",
       "\n",
       "                                             summary  unixReviewTime  \\\n",
       "0                                         Best Price      1382140800   \n",
       "1                                               zoku      1403049600   \n",
       "2  Excels at Sweet Dessert Pops, but Falls Short ...      1367712000   \n",
       "3                                    Creative Combos      1312416000   \n",
       "4            A must own if you own the Zoku maker...      1402099200   \n",
       "\n",
       "    reviewTime  \n",
       "0  10 19, 2013  \n",
       "1  06 18, 2014  \n",
       "2   05 5, 2013  \n",
       "3   08 4, 2011  \n",
       "4   06 7, 2014  "
      ]
     },
     "execution_count": 5,
     "metadata": {},
     "output_type": "execute_result"
    }
   ],
   "source": [
    "df.head(5)"
   ]
  },
  {
   "cell_type": "markdown",
   "metadata": {},
   "source": [
    "### Shape of the data"
   ]
  },
  {
   "cell_type": "code",
   "execution_count": 6,
   "metadata": {},
   "outputs": [
    {
     "data": {
      "text/plain": [
       "(551682, 9)"
      ]
     },
     "execution_count": 6,
     "metadata": {},
     "output_type": "execute_result"
    }
   ],
   "source": [
    "df.shape"
   ]
  },
  {
   "cell_type": "markdown",
   "metadata": {},
   "source": [
    "### Missing Values"
   ]
  },
  {
   "cell_type": "code",
   "execution_count": 7,
   "metadata": {},
   "outputs": [
    {
     "data": {
      "text/plain": [
       "reviewerID           0\n",
       "asin                 0\n",
       "reviewerName      4953\n",
       "helpful              0\n",
       "reviewText           0\n",
       "overall              0\n",
       "summary              0\n",
       "unixReviewTime       0\n",
       "reviewTime           0\n",
       "dtype: int64"
      ]
     },
     "execution_count": 7,
     "metadata": {},
     "output_type": "execute_result"
    }
   ],
   "source": [
    "df.isna().sum()"
   ]
  },
  {
   "cell_type": "markdown",
   "metadata": {},
   "source": [
    "There are no any missing values in any variable except that in reviewerName variable. We do not need reviewerName variable in our analysis. So, We will continue using all data for our further analysis.\n",
    "\n",
    "Trying to understand the customer sentiment in multiple directions. I would like to start with Logistic Regression and will see how it works.\n",
    "\n",
    "Feature extraction/Feature engineering. In this process let's see how we can use 'helpful' variable to understand customer preferences."
   ]
  },
  {
   "cell_type": "code",
   "execution_count": 8,
   "metadata": {},
   "outputs": [
    {
     "data": {
      "text/html": [
       "<div>\n",
       "<style scoped>\n",
       "    .dataframe tbody tr th:only-of-type {\n",
       "        vertical-align: middle;\n",
       "    }\n",
       "\n",
       "    .dataframe tbody tr th {\n",
       "        vertical-align: top;\n",
       "    }\n",
       "\n",
       "    .dataframe thead th {\n",
       "        text-align: right;\n",
       "    }\n",
       "</style>\n",
       "<table border=\"1\" class=\"dataframe\">\n",
       "  <thead>\n",
       "    <tr style=\"text-align: right;\">\n",
       "      <th></th>\n",
       "      <th>reviewerID</th>\n",
       "      <th>asin</th>\n",
       "      <th>reviewerName</th>\n",
       "      <th>helpful</th>\n",
       "      <th>reviewText</th>\n",
       "      <th>summary</th>\n",
       "      <th>unixReviewTime</th>\n",
       "      <th>reviewTime</th>\n",
       "    </tr>\n",
       "    <tr>\n",
       "      <th>overall</th>\n",
       "      <th></th>\n",
       "      <th></th>\n",
       "      <th></th>\n",
       "      <th></th>\n",
       "      <th></th>\n",
       "      <th></th>\n",
       "      <th></th>\n",
       "      <th></th>\n",
       "    </tr>\n",
       "  </thead>\n",
       "  <tbody>\n",
       "    <tr>\n",
       "      <th>1.0</th>\n",
       "      <td>27106</td>\n",
       "      <td>27106</td>\n",
       "      <td>26852</td>\n",
       "      <td>27106</td>\n",
       "      <td>27106</td>\n",
       "      <td>27106</td>\n",
       "      <td>27106</td>\n",
       "      <td>27106</td>\n",
       "    </tr>\n",
       "    <tr>\n",
       "      <th>2.0</th>\n",
       "      <td>24313</td>\n",
       "      <td>24313</td>\n",
       "      <td>24079</td>\n",
       "      <td>24313</td>\n",
       "      <td>24313</td>\n",
       "      <td>24313</td>\n",
       "      <td>24313</td>\n",
       "      <td>24313</td>\n",
       "    </tr>\n",
       "    <tr>\n",
       "      <th>3.0</th>\n",
       "      <td>45059</td>\n",
       "      <td>45059</td>\n",
       "      <td>44607</td>\n",
       "      <td>45059</td>\n",
       "      <td>45059</td>\n",
       "      <td>45059</td>\n",
       "      <td>45059</td>\n",
       "      <td>45059</td>\n",
       "    </tr>\n",
       "    <tr>\n",
       "      <th>4.0</th>\n",
       "      <td>105508</td>\n",
       "      <td>105508</td>\n",
       "      <td>104586</td>\n",
       "      <td>105508</td>\n",
       "      <td>105508</td>\n",
       "      <td>105508</td>\n",
       "      <td>105508</td>\n",
       "      <td>105508</td>\n",
       "    </tr>\n",
       "    <tr>\n",
       "      <th>5.0</th>\n",
       "      <td>349696</td>\n",
       "      <td>349696</td>\n",
       "      <td>346605</td>\n",
       "      <td>349696</td>\n",
       "      <td>349696</td>\n",
       "      <td>349696</td>\n",
       "      <td>349696</td>\n",
       "      <td>349696</td>\n",
       "    </tr>\n",
       "  </tbody>\n",
       "</table>\n",
       "</div>"
      ],
      "text/plain": [
       "         reviewerID    asin  reviewerName  helpful  reviewText  summary  \\\n",
       "overall                                                                   \n",
       "1.0           27106   27106         26852    27106       27106    27106   \n",
       "2.0           24313   24313         24079    24313       24313    24313   \n",
       "3.0           45059   45059         44607    45059       45059    45059   \n",
       "4.0          105508  105508        104586   105508      105508   105508   \n",
       "5.0          349696  349696        346605   349696      349696   349696   \n",
       "\n",
       "         unixReviewTime  reviewTime  \n",
       "overall                              \n",
       "1.0               27106       27106  \n",
       "2.0               24313       24313  \n",
       "3.0               45059       45059  \n",
       "4.0              105508      105508  \n",
       "5.0              349696      349696  "
      ]
     },
     "execution_count": 8,
     "metadata": {},
     "output_type": "execute_result"
    }
   ],
   "source": [
    "df.groupby('overall').count()"
   ]
  },
  {
   "cell_type": "markdown",
   "metadata": {},
   "source": [
    "We can see that there are more positively rated reviews, ie. reviews where customer rated the product/servise as 4 or 5\n",
    "This indicates 2 things \n",
    "* Costomers are mostly happy/positive \n",
    "*  The distribution is skewed\n",
    "\n",
    "Lets do some data preprocessing first"
   ]
  },
  {
   "cell_type": "markdown",
   "metadata": {},
   "source": [
    "### Data preprocessing"
   ]
  },
  {
   "cell_type": "markdown",
   "metadata": {},
   "source": [
    "#### \"helpful\" Column"
   ]
  },
  {
   "cell_type": "code",
   "execution_count": 7,
   "metadata": {},
   "outputs": [
    {
     "data": {
      "text/html": [
       "<div>\n",
       "<style scoped>\n",
       "    .dataframe tbody tr th:only-of-type {\n",
       "        vertical-align: middle;\n",
       "    }\n",
       "\n",
       "    .dataframe tbody tr th {\n",
       "        vertical-align: top;\n",
       "    }\n",
       "\n",
       "    .dataframe thead th {\n",
       "        text-align: right;\n",
       "    }\n",
       "</style>\n",
       "<table border=\"1\" class=\"dataframe\">\n",
       "  <thead>\n",
       "    <tr style=\"text-align: right;\">\n",
       "      <th></th>\n",
       "      <th>reviewerID</th>\n",
       "      <th>asin</th>\n",
       "      <th>reviewerName</th>\n",
       "      <th>helpful</th>\n",
       "      <th>reviewText</th>\n",
       "      <th>overall</th>\n",
       "      <th>summary</th>\n",
       "      <th>unixReviewTime</th>\n",
       "      <th>reviewTime</th>\n",
       "      <th>helpfulfirstelement</th>\n",
       "      <th>helpfulsecondelement</th>\n",
       "    </tr>\n",
       "  </thead>\n",
       "  <tbody>\n",
       "    <tr>\n",
       "      <th>0</th>\n",
       "      <td>APYOBQE6M18AA</td>\n",
       "      <td>0615391206</td>\n",
       "      <td>Martin Schwartz</td>\n",
       "      <td>[0, 0]</td>\n",
       "      <td>My daughter wanted this book and the price on ...</td>\n",
       "      <td>5.0</td>\n",
       "      <td>Best Price</td>\n",
       "      <td>1382140800</td>\n",
       "      <td>10 19, 2013</td>\n",
       "      <td>0</td>\n",
       "      <td>0</td>\n",
       "    </tr>\n",
       "    <tr>\n",
       "      <th>1</th>\n",
       "      <td>A1JVQTAGHYOL7F</td>\n",
       "      <td>0615391206</td>\n",
       "      <td>Michelle Dinh</td>\n",
       "      <td>[0, 0]</td>\n",
       "      <td>I bought this zoku quick pop for my daughterr ...</td>\n",
       "      <td>5.0</td>\n",
       "      <td>zoku</td>\n",
       "      <td>1403049600</td>\n",
       "      <td>06 18, 2014</td>\n",
       "      <td>0</td>\n",
       "      <td>0</td>\n",
       "    </tr>\n",
       "    <tr>\n",
       "      <th>2</th>\n",
       "      <td>A3UPYGJKZ0XTU4</td>\n",
       "      <td>0615391206</td>\n",
       "      <td>mirasreviews</td>\n",
       "      <td>[26, 27]</td>\n",
       "      <td>There is no shortage of pop recipes available ...</td>\n",
       "      <td>4.0</td>\n",
       "      <td>Excels at Sweet Dessert Pops, but Falls Short ...</td>\n",
       "      <td>1367712000</td>\n",
       "      <td>05 5, 2013</td>\n",
       "      <td>26</td>\n",
       "      <td>27</td>\n",
       "    </tr>\n",
       "    <tr>\n",
       "      <th>3</th>\n",
       "      <td>A2MHCTX43MIMDZ</td>\n",
       "      <td>0615391206</td>\n",
       "      <td>M. Johnson \"Tea Lover\"</td>\n",
       "      <td>[14, 18]</td>\n",
       "      <td>This book is a must have if you get a Zoku (wh...</td>\n",
       "      <td>5.0</td>\n",
       "      <td>Creative Combos</td>\n",
       "      <td>1312416000</td>\n",
       "      <td>08 4, 2011</td>\n",
       "      <td>14</td>\n",
       "      <td>18</td>\n",
       "    </tr>\n",
       "    <tr>\n",
       "      <th>4</th>\n",
       "      <td>AHAI85T5C2DH3</td>\n",
       "      <td>0615391206</td>\n",
       "      <td>PugLover</td>\n",
       "      <td>[0, 0]</td>\n",
       "      <td>This cookbook is great.  I have really enjoyed...</td>\n",
       "      <td>4.0</td>\n",
       "      <td>A must own if you own the Zoku maker...</td>\n",
       "      <td>1402099200</td>\n",
       "      <td>06 7, 2014</td>\n",
       "      <td>0</td>\n",
       "      <td>0</td>\n",
       "    </tr>\n",
       "  </tbody>\n",
       "</table>\n",
       "</div>"
      ],
      "text/plain": [
       "       reviewerID        asin            reviewerName   helpful  \\\n",
       "0   APYOBQE6M18AA  0615391206         Martin Schwartz    [0, 0]   \n",
       "1  A1JVQTAGHYOL7F  0615391206           Michelle Dinh    [0, 0]   \n",
       "2  A3UPYGJKZ0XTU4  0615391206            mirasreviews  [26, 27]   \n",
       "3  A2MHCTX43MIMDZ  0615391206  M. Johnson \"Tea Lover\"  [14, 18]   \n",
       "4   AHAI85T5C2DH3  0615391206                PugLover    [0, 0]   \n",
       "\n",
       "                                          reviewText  overall  \\\n",
       "0  My daughter wanted this book and the price on ...      5.0   \n",
       "1  I bought this zoku quick pop for my daughterr ...      5.0   \n",
       "2  There is no shortage of pop recipes available ...      4.0   \n",
       "3  This book is a must have if you get a Zoku (wh...      5.0   \n",
       "4  This cookbook is great.  I have really enjoyed...      4.0   \n",
       "\n",
       "                                             summary  unixReviewTime  \\\n",
       "0                                         Best Price      1382140800   \n",
       "1                                               zoku      1403049600   \n",
       "2  Excels at Sweet Dessert Pops, but Falls Short ...      1367712000   \n",
       "3                                    Creative Combos      1312416000   \n",
       "4            A must own if you own the Zoku maker...      1402099200   \n",
       "\n",
       "    reviewTime  helpfulfirstelement  helpfulsecondelement  \n",
       "0  10 19, 2013                    0                     0  \n",
       "1  06 18, 2014                    0                     0  \n",
       "2   05 5, 2013                   26                    27  \n",
       "3   08 4, 2011                   14                    18  \n",
       "4   06 7, 2014                    0                     0  "
      ]
     },
     "execution_count": 7,
     "metadata": {},
     "output_type": "execute_result"
    }
   ],
   "source": [
    "# Make new two columns out of 'helpful' column\n",
    "df[['helpfulfirstelement', 'helpfulsecondelement']] = pd.DataFrame(df.helpful.values.tolist(), index = df.index)\n",
    "df.head(5)"
   ]
  },
  {
   "cell_type": "markdown",
   "metadata": {},
   "source": [
    "### Remove any duplicates\n",
    "check for any duplicate rows by performing a group by and sort function of dataframe"
   ]
  },
  {
   "cell_type": "code",
   "execution_count": 8,
   "metadata": {},
   "outputs": [
    {
     "name": "stdout",
     "output_type": "stream",
     "text": [
      "66519\n",
      "28237\n",
      "4805\n"
     ]
    }
   ],
   "source": [
    "#unique reviewers\n",
    "print(len(df['reviewerID'].unique()))\n",
    "\n",
    "#unique asin\n",
    "#Note: Amazon Standard Identification Number: Each product sold on Amazon.com is given a unique ASIN\n",
    "print(len(df['asin'].unique()))\n",
    "\n",
    "#unique reviws time\n",
    "print(len(df['unixReviewTime'].unique()))"
   ]
  },
  {
   "cell_type": "markdown",
   "metadata": {},
   "source": [
    "We see that total of 66,519 customers gave reviews for 28,237 items and 4805 unique timestamps\n",
    "Group by asin number to check the number of reviewrs for each product(total 28,237 products)"
   ]
  },
  {
   "cell_type": "code",
   "execution_count": 9,
   "metadata": {},
   "outputs": [
    {
     "data": {
      "text/html": [
       "<div>\n",
       "<style scoped>\n",
       "    .dataframe tbody tr th:only-of-type {\n",
       "        vertical-align: middle;\n",
       "    }\n",
       "\n",
       "    .dataframe tbody tr th {\n",
       "        vertical-align: top;\n",
       "    }\n",
       "\n",
       "    .dataframe thead tr th {\n",
       "        text-align: left;\n",
       "    }\n",
       "\n",
       "    .dataframe thead tr:last-of-type th {\n",
       "        text-align: right;\n",
       "    }\n",
       "</style>\n",
       "<table border=\"1\" class=\"dataframe\">\n",
       "  <thead>\n",
       "    <tr>\n",
       "      <th></th>\n",
       "      <th>reviewerID</th>\n",
       "    </tr>\n",
       "    <tr>\n",
       "      <th></th>\n",
       "      <th>count</th>\n",
       "    </tr>\n",
       "    <tr>\n",
       "      <th>asin</th>\n",
       "      <th></th>\n",
       "    </tr>\n",
       "  </thead>\n",
       "  <tbody>\n",
       "    <tr>\n",
       "      <th>0615391206</th>\n",
       "      <td>11</td>\n",
       "    </tr>\n",
       "    <tr>\n",
       "      <th>0689027818</th>\n",
       "      <td>5</td>\n",
       "    </tr>\n",
       "    <tr>\n",
       "      <th>0912696591</th>\n",
       "      <td>93</td>\n",
       "    </tr>\n",
       "    <tr>\n",
       "      <th>1223070743</th>\n",
       "      <td>8</td>\n",
       "    </tr>\n",
       "    <tr>\n",
       "      <th>1567120709</th>\n",
       "      <td>16</td>\n",
       "    </tr>\n",
       "    <tr>\n",
       "      <th>1891747401</th>\n",
       "      <td>15</td>\n",
       "    </tr>\n",
       "    <tr>\n",
       "      <th>1983475912</th>\n",
       "      <td>6</td>\n",
       "    </tr>\n",
       "    <tr>\n",
       "      <th>2042037265</th>\n",
       "      <td>6</td>\n",
       "    </tr>\n",
       "    <tr>\n",
       "      <th>7213035835</th>\n",
       "      <td>7</td>\n",
       "    </tr>\n",
       "    <tr>\n",
       "      <th>7502151168</th>\n",
       "      <td>10</td>\n",
       "    </tr>\n",
       "    <tr>\n",
       "      <th>7535549756</th>\n",
       "      <td>5</td>\n",
       "    </tr>\n",
       "    <tr>\n",
       "      <th>7802215811</th>\n",
       "      <td>8</td>\n",
       "    </tr>\n",
       "    <tr>\n",
       "      <th>9177124405</th>\n",
       "      <td>6</td>\n",
       "    </tr>\n",
       "    <tr>\n",
       "      <th>9178894395</th>\n",
       "      <td>19</td>\n",
       "    </tr>\n",
       "    <tr>\n",
       "      <th>B00000DMDJ</th>\n",
       "      <td>10</td>\n",
       "    </tr>\n",
       "    <tr>\n",
       "      <th>B00000JGRP</th>\n",
       "      <td>77</td>\n",
       "    </tr>\n",
       "    <tr>\n",
       "      <th>B00000JGRQ</th>\n",
       "      <td>31</td>\n",
       "    </tr>\n",
       "    <tr>\n",
       "      <th>B00000JGRS</th>\n",
       "      <td>13</td>\n",
       "    </tr>\n",
       "    <tr>\n",
       "      <th>B00000JGRT</th>\n",
       "      <td>211</td>\n",
       "    </tr>\n",
       "    <tr>\n",
       "      <th>B0000223YC</th>\n",
       "      <td>5</td>\n",
       "    </tr>\n",
       "    <tr>\n",
       "      <th>B00002255K</th>\n",
       "      <td>6</td>\n",
       "    </tr>\n",
       "    <tr>\n",
       "      <th>B00002N5FO</th>\n",
       "      <td>21</td>\n",
       "    </tr>\n",
       "    <tr>\n",
       "      <th>B00002N5Z9</th>\n",
       "      <td>51</td>\n",
       "    </tr>\n",
       "    <tr>\n",
       "      <th>B00002N5ZB</th>\n",
       "      <td>38</td>\n",
       "    </tr>\n",
       "    <tr>\n",
       "      <th>B00002N5ZP</th>\n",
       "      <td>6</td>\n",
       "    </tr>\n",
       "    <tr>\n",
       "      <th>B00002N5ZQ</th>\n",
       "      <td>11</td>\n",
       "    </tr>\n",
       "    <tr>\n",
       "      <th>B00002N601</th>\n",
       "      <td>24</td>\n",
       "    </tr>\n",
       "    <tr>\n",
       "      <th>B00002N602</th>\n",
       "      <td>206</td>\n",
       "    </tr>\n",
       "    <tr>\n",
       "      <th>B00002N62X</th>\n",
       "      <td>13</td>\n",
       "    </tr>\n",
       "    <tr>\n",
       "      <th>B00002N630</th>\n",
       "      <td>11</td>\n",
       "    </tr>\n",
       "    <tr>\n",
       "      <th>...</th>\n",
       "      <td>...</td>\n",
       "    </tr>\n",
       "    <tr>\n",
       "      <th>B00KMXNJPI</th>\n",
       "      <td>51</td>\n",
       "    </tr>\n",
       "    <tr>\n",
       "      <th>B00KNPVL8W</th>\n",
       "      <td>16</td>\n",
       "    </tr>\n",
       "    <tr>\n",
       "      <th>B00KO0S0U8</th>\n",
       "      <td>8</td>\n",
       "    </tr>\n",
       "    <tr>\n",
       "      <th>B00KO3E9A0</th>\n",
       "      <td>8</td>\n",
       "    </tr>\n",
       "    <tr>\n",
       "      <th>B00KO8ZDXM</th>\n",
       "      <td>46</td>\n",
       "    </tr>\n",
       "    <tr>\n",
       "      <th>B00KQCJ0CG</th>\n",
       "      <td>14</td>\n",
       "    </tr>\n",
       "    <tr>\n",
       "      <th>B00KQJ42CW</th>\n",
       "      <td>61</td>\n",
       "    </tr>\n",
       "    <tr>\n",
       "      <th>B00KQXDIG4</th>\n",
       "      <td>31</td>\n",
       "    </tr>\n",
       "    <tr>\n",
       "      <th>B00KR5UJN6</th>\n",
       "      <td>12</td>\n",
       "    </tr>\n",
       "    <tr>\n",
       "      <th>B00KSRQN0Q</th>\n",
       "      <td>48</td>\n",
       "    </tr>\n",
       "    <tr>\n",
       "      <th>B00KSRSZC0</th>\n",
       "      <td>51</td>\n",
       "    </tr>\n",
       "    <tr>\n",
       "      <th>B00KSRV3UQ</th>\n",
       "      <td>45</td>\n",
       "    </tr>\n",
       "    <tr>\n",
       "      <th>B00KSRXUC0</th>\n",
       "      <td>37</td>\n",
       "    </tr>\n",
       "    <tr>\n",
       "      <th>B00KTV6DY2</th>\n",
       "      <td>5</td>\n",
       "    </tr>\n",
       "    <tr>\n",
       "      <th>B00KVISWLU</th>\n",
       "      <td>7</td>\n",
       "    </tr>\n",
       "    <tr>\n",
       "      <th>B00KVLPUB2</th>\n",
       "      <td>5</td>\n",
       "    </tr>\n",
       "    <tr>\n",
       "      <th>B00KW1ZDCM</th>\n",
       "      <td>41</td>\n",
       "    </tr>\n",
       "    <tr>\n",
       "      <th>B00KWI2IQ4</th>\n",
       "      <td>7</td>\n",
       "    </tr>\n",
       "    <tr>\n",
       "      <th>B00KWKONAG</th>\n",
       "      <td>7</td>\n",
       "    </tr>\n",
       "    <tr>\n",
       "      <th>B00KWKQ2MS</th>\n",
       "      <td>15</td>\n",
       "    </tr>\n",
       "    <tr>\n",
       "      <th>B00KY3EZAE</th>\n",
       "      <td>6</td>\n",
       "    </tr>\n",
       "    <tr>\n",
       "      <th>B00KY4Z1I8</th>\n",
       "      <td>9</td>\n",
       "    </tr>\n",
       "    <tr>\n",
       "      <th>B00L5NO3I6</th>\n",
       "      <td>5</td>\n",
       "    </tr>\n",
       "    <tr>\n",
       "      <th>B00L8FDIZU</th>\n",
       "      <td>12</td>\n",
       "    </tr>\n",
       "    <tr>\n",
       "      <th>B00L8FQZ3M</th>\n",
       "      <td>16</td>\n",
       "    </tr>\n",
       "    <tr>\n",
       "      <th>B00L8HA5L8</th>\n",
       "      <td>14</td>\n",
       "    </tr>\n",
       "    <tr>\n",
       "      <th>B00L9KOZBK</th>\n",
       "      <td>6</td>\n",
       "    </tr>\n",
       "    <tr>\n",
       "      <th>B00LAI4UYS</th>\n",
       "      <td>5</td>\n",
       "    </tr>\n",
       "    <tr>\n",
       "      <th>B00LB18EKK</th>\n",
       "      <td>19</td>\n",
       "    </tr>\n",
       "    <tr>\n",
       "      <th>B00LBFUU12</th>\n",
       "      <td>9</td>\n",
       "    </tr>\n",
       "  </tbody>\n",
       "</table>\n",
       "<p>28237 rows × 1 columns</p>\n",
       "</div>"
      ],
      "text/plain": [
       "           reviewerID\n",
       "                count\n",
       "asin                 \n",
       "0615391206         11\n",
       "0689027818          5\n",
       "0912696591         93\n",
       "1223070743          8\n",
       "1567120709         16\n",
       "1891747401         15\n",
       "1983475912          6\n",
       "2042037265          6\n",
       "7213035835          7\n",
       "7502151168         10\n",
       "7535549756          5\n",
       "7802215811          8\n",
       "9177124405          6\n",
       "9178894395         19\n",
       "B00000DMDJ         10\n",
       "B00000JGRP         77\n",
       "B00000JGRQ         31\n",
       "B00000JGRS         13\n",
       "B00000JGRT        211\n",
       "B0000223YC          5\n",
       "B00002255K          6\n",
       "B00002N5FO         21\n",
       "B00002N5Z9         51\n",
       "B00002N5ZB         38\n",
       "B00002N5ZP          6\n",
       "B00002N5ZQ         11\n",
       "B00002N601         24\n",
       "B00002N602        206\n",
       "B00002N62X         13\n",
       "B00002N630         11\n",
       "...               ...\n",
       "B00KMXNJPI         51\n",
       "B00KNPVL8W         16\n",
       "B00KO0S0U8          8\n",
       "B00KO3E9A0          8\n",
       "B00KO8ZDXM         46\n",
       "B00KQCJ0CG         14\n",
       "B00KQJ42CW         61\n",
       "B00KQXDIG4         31\n",
       "B00KR5UJN6         12\n",
       "B00KSRQN0Q         48\n",
       "B00KSRSZC0         51\n",
       "B00KSRV3UQ         45\n",
       "B00KSRXUC0         37\n",
       "B00KTV6DY2          5\n",
       "B00KVISWLU          7\n",
       "B00KVLPUB2          5\n",
       "B00KW1ZDCM         41\n",
       "B00KWI2IQ4          7\n",
       "B00KWKONAG          7\n",
       "B00KWKQ2MS         15\n",
       "B00KY3EZAE          6\n",
       "B00KY4Z1I8          9\n",
       "B00L5NO3I6          5\n",
       "B00L8FDIZU         12\n",
       "B00L8FQZ3M         16\n",
       "B00L8HA5L8         14\n",
       "B00L9KOZBK          6\n",
       "B00LAI4UYS          5\n",
       "B00LB18EKK         19\n",
       "B00LBFUU12          9\n",
       "\n",
       "[28237 rows x 1 columns]"
      ]
     },
     "execution_count": 9,
     "metadata": {},
     "output_type": "execute_result"
    }
   ],
   "source": [
    "#group by analysis\n",
    "gdf=df.groupby('asin').agg({'reviewerID':['count']}).sort_values(by=['asin'])\n",
    "gdf"
   ]
  },
  {
   "cell_type": "code",
   "execution_count": 14,
   "metadata": {},
   "outputs": [],
   "source": [
    "#gdf.loc[gdf['asin']=='B00004S7YF']"
   ]
  },
  {
   "cell_type": "code",
   "execution_count": 10,
   "metadata": {},
   "outputs": [],
   "source": [
    "#sort analysis\n",
    "sdf=df.sort_values(by=['reviewerID','asin','unixReviewTime'])"
   ]
  },
  {
   "cell_type": "code",
   "execution_count": 11,
   "metadata": {},
   "outputs": [
    {
     "data": {
      "text/html": [
       "<div>\n",
       "<style scoped>\n",
       "    .dataframe tbody tr th:only-of-type {\n",
       "        vertical-align: middle;\n",
       "    }\n",
       "\n",
       "    .dataframe tbody tr th {\n",
       "        vertical-align: top;\n",
       "    }\n",
       "\n",
       "    .dataframe thead th {\n",
       "        text-align: right;\n",
       "    }\n",
       "</style>\n",
       "<table border=\"1\" class=\"dataframe\">\n",
       "  <thead>\n",
       "    <tr style=\"text-align: right;\">\n",
       "      <th></th>\n",
       "      <th>reviewerID</th>\n",
       "      <th>asin</th>\n",
       "      <th>reviewerName</th>\n",
       "      <th>helpful</th>\n",
       "      <th>reviewText</th>\n",
       "      <th>overall</th>\n",
       "      <th>summary</th>\n",
       "      <th>unixReviewTime</th>\n",
       "      <th>reviewTime</th>\n",
       "      <th>helpfulfirstelement</th>\n",
       "      <th>helpfulsecondelement</th>\n",
       "    </tr>\n",
       "  </thead>\n",
       "  <tbody>\n",
       "    <tr>\n",
       "      <th>11656</th>\n",
       "      <td>A3ICQSEUGFRAKM</td>\n",
       "      <td>B00004S7YF</td>\n",
       "      <td>Rebecca A. Sexton</td>\n",
       "      <td>[9, 13]</td>\n",
       "      <td>This set has 29 tips, a flower nail and one co...</td>\n",
       "      <td>5.0</td>\n",
       "      <td>Wilton Supreme Cake Decorating Set</td>\n",
       "      <td>1152662400</td>\n",
       "      <td>07 12, 2006</td>\n",
       "      <td>9</td>\n",
       "      <td>13</td>\n",
       "    </tr>\n",
       "    <tr>\n",
       "      <th>11661</th>\n",
       "      <td>A3KY2CMX2SZQ94</td>\n",
       "      <td>B00004S7YF</td>\n",
       "      <td>T. Horak</td>\n",
       "      <td>[5, 6]</td>\n",
       "      <td>This is a good starter set if you are just get...</td>\n",
       "      <td>4.0</td>\n",
       "      <td>Nice starter set</td>\n",
       "      <td>1174521600</td>\n",
       "      <td>03 22, 2007</td>\n",
       "      <td>5</td>\n",
       "      <td>6</td>\n",
       "    </tr>\n",
       "    <tr>\n",
       "      <th>11652</th>\n",
       "      <td>A38F2FD9K0C78V</td>\n",
       "      <td>B00004S7YF</td>\n",
       "      <td>Nirmala Mohabir</td>\n",
       "      <td>[19, 21]</td>\n",
       "      <td>I love this set- it's perfect for beginners wh...</td>\n",
       "      <td>5.0</td>\n",
       "      <td>Great deal on this purchase</td>\n",
       "      <td>1203897600</td>\n",
       "      <td>02 25, 2008</td>\n",
       "      <td>19</td>\n",
       "      <td>21</td>\n",
       "    </tr>\n",
       "    <tr>\n",
       "      <th>11646</th>\n",
       "      <td>AJB4VS9J7HKID</td>\n",
       "      <td>B00004S7YF</td>\n",
       "      <td>Donna Snyder</td>\n",
       "      <td>[2, 3]</td>\n",
       "      <td>I needed a new kit that had all the parts! Thi...</td>\n",
       "      <td>5.0</td>\n",
       "      <td>Wilton cake decorating kit</td>\n",
       "      <td>1230681600</td>\n",
       "      <td>12 31, 2008</td>\n",
       "      <td>2</td>\n",
       "      <td>3</td>\n",
       "    </tr>\n",
       "    <tr>\n",
       "      <th>11657</th>\n",
       "      <td>ANBIG4SVNUAZC</td>\n",
       "      <td>B00004S7YF</td>\n",
       "      <td>R. Murphy</td>\n",
       "      <td>[11, 13]</td>\n",
       "      <td>I purchased this set since it seemed the best ...</td>\n",
       "      <td>4.0</td>\n",
       "      <td>Lots of tips, very pale colors</td>\n",
       "      <td>1290297600</td>\n",
       "      <td>11 21, 2010</td>\n",
       "      <td>11</td>\n",
       "      <td>13</td>\n",
       "    </tr>\n",
       "    <tr>\n",
       "      <th>11651</th>\n",
       "      <td>A2ZM09SXQD77H0</td>\n",
       "      <td>B00004S7YF</td>\n",
       "      <td>N. Black</td>\n",
       "      <td>[2, 2]</td>\n",
       "      <td>I bought this, practiced with regular supermar...</td>\n",
       "      <td>5.0</td>\n",
       "      <td>Easy peasy.</td>\n",
       "      <td>1297987200</td>\n",
       "      <td>02 18, 2011</td>\n",
       "      <td>2</td>\n",
       "      <td>2</td>\n",
       "    </tr>\n",
       "    <tr>\n",
       "      <th>11653</th>\n",
       "      <td>AAY3WZSAPD0VV</td>\n",
       "      <td>B00004S7YF</td>\n",
       "      <td>Pinky</td>\n",
       "      <td>[0, 0]</td>\n",
       "      <td>Ive been decorating cakes for fun for a few ye...</td>\n",
       "      <td>5.0</td>\n",
       "      <td>Inexperienced users will have a lot of fun</td>\n",
       "      <td>1325030400</td>\n",
       "      <td>12 28, 2011</td>\n",
       "      <td>0</td>\n",
       "      <td>0</td>\n",
       "    </tr>\n",
       "    <tr>\n",
       "      <th>11641</th>\n",
       "      <td>A22MKMQ1AYXRGT</td>\n",
       "      <td>B00004S7YF</td>\n",
       "      <td>Avid reader</td>\n",
       "      <td>[1, 1]</td>\n",
       "      <td>This is really a good deal.  This kit includes...</td>\n",
       "      <td>5.0</td>\n",
       "      <td>A great deal!</td>\n",
       "      <td>1331078400</td>\n",
       "      <td>03 7, 2012</td>\n",
       "      <td>1</td>\n",
       "      <td>1</td>\n",
       "    </tr>\n",
       "    <tr>\n",
       "      <th>11645</th>\n",
       "      <td>A25C2M3QF9G7OQ</td>\n",
       "      <td>B00004S7YF</td>\n",
       "      <td>Comdet</td>\n",
       "      <td>[74, 75]</td>\n",
       "      <td>I wanted to get a cake decorating kit for my n...</td>\n",
       "      <td>5.0</td>\n",
       "      <td>Excellent starter set, better value than the W...</td>\n",
       "      <td>1354320000</td>\n",
       "      <td>12 1, 2012</td>\n",
       "      <td>74</td>\n",
       "      <td>75</td>\n",
       "    </tr>\n",
       "    <tr>\n",
       "      <th>11650</th>\n",
       "      <td>AEGB49B843XLF</td>\n",
       "      <td>B00004S7YF</td>\n",
       "      <td>Michelle - Seacoast NH \"Michelle - Seacoast NH\"</td>\n",
       "      <td>[0, 0]</td>\n",
       "      <td>Bought as a gift. It looks quite nice for the ...</td>\n",
       "      <td>4.0</td>\n",
       "      <td>Good beginner set</td>\n",
       "      <td>1355961600</td>\n",
       "      <td>12 20, 2012</td>\n",
       "      <td>0</td>\n",
       "      <td>0</td>\n",
       "    </tr>\n",
       "    <tr>\n",
       "      <th>11660</th>\n",
       "      <td>A1JFQZGI3SM18A</td>\n",
       "      <td>B00004S7YF</td>\n",
       "      <td>Snikta</td>\n",
       "      <td>[0, 0]</td>\n",
       "      <td>I bought this as a gift to somebody and that p...</td>\n",
       "      <td>5.0</td>\n",
       "      <td>Awesome cake decorating kit</td>\n",
       "      <td>1356048000</td>\n",
       "      <td>12 21, 2012</td>\n",
       "      <td>0</td>\n",
       "      <td>0</td>\n",
       "    </tr>\n",
       "    <tr>\n",
       "      <th>11658</th>\n",
       "      <td>A12AD65QAZGCEQ</td>\n",
       "      <td>B00004S7YF</td>\n",
       "      <td>Rosemm</td>\n",
       "      <td>[0, 2]</td>\n",
       "      <td>I have recently decided I wanted to learn how ...</td>\n",
       "      <td>5.0</td>\n",
       "      <td>For the beginning baker to the expert, a must ...</td>\n",
       "      <td>1365206400</td>\n",
       "      <td>04 6, 2013</td>\n",
       "      <td>0</td>\n",
       "      <td>2</td>\n",
       "    </tr>\n",
       "    <tr>\n",
       "      <th>11654</th>\n",
       "      <td>A0002382258OFJJ2UYNTR</td>\n",
       "      <td>B00004S7YF</td>\n",
       "      <td>PreacherGurl</td>\n",
       "      <td>[0, 0]</td>\n",
       "      <td>I bought this to start my new hobby of baking ...</td>\n",
       "      <td>5.0</td>\n",
       "      <td>Funnn.</td>\n",
       "      <td>1366156800</td>\n",
       "      <td>04 17, 2013</td>\n",
       "      <td>0</td>\n",
       "      <td>0</td>\n",
       "    </tr>\n",
       "    <tr>\n",
       "      <th>11642</th>\n",
       "      <td>AXV015ED5DNEG</td>\n",
       "      <td>B00004S7YF</td>\n",
       "      <td>candy Vigil</td>\n",
       "      <td>[0, 0]</td>\n",
       "      <td>Pros - has tips that I have never seen before ...</td>\n",
       "      <td>4.0</td>\n",
       "      <td>nice purchase</td>\n",
       "      <td>1379289600</td>\n",
       "      <td>09 16, 2013</td>\n",
       "      <td>0</td>\n",
       "      <td>0</td>\n",
       "    </tr>\n",
       "    <tr>\n",
       "      <th>11649</th>\n",
       "      <td>A1Q4MNIUESQTBM</td>\n",
       "      <td>B00004S7YF</td>\n",
       "      <td>John Schultz</td>\n",
       "      <td>[0, 0]</td>\n",
       "      <td>This is a $30 set. get it here instead.Wilton ...</td>\n",
       "      <td>5.0</td>\n",
       "      <td>Great set-BUT DO NOT BUY THIS FROM THIS SELLER!</td>\n",
       "      <td>1380067200</td>\n",
       "      <td>09 25, 2013</td>\n",
       "      <td>0</td>\n",
       "      <td>0</td>\n",
       "    </tr>\n",
       "    <tr>\n",
       "      <th>11655</th>\n",
       "      <td>A2IMN33YQ6FVEB</td>\n",
       "      <td>B00004S7YF</td>\n",
       "      <td>Rachel Ong</td>\n",
       "      <td>[0, 1]</td>\n",
       "      <td>Box was flattened when I received it but the i...</td>\n",
       "      <td>2.0</td>\n",
       "      <td>Box flatten, items are okay</td>\n",
       "      <td>1381190400</td>\n",
       "      <td>10 8, 2013</td>\n",
       "      <td>0</td>\n",
       "      <td>1</td>\n",
       "    </tr>\n",
       "    <tr>\n",
       "      <th>11648</th>\n",
       "      <td>A28E5OENBJ1MEP</td>\n",
       "      <td>B00004S7YF</td>\n",
       "      <td>Joan Pohlman</td>\n",
       "      <td>[0, 0]</td>\n",
       "      <td>I bought this as a gift for my granddaughter f...</td>\n",
       "      <td>5.0</td>\n",
       "      <td>Wilton 2104-2546 53 Piece Supreme Cake Decorat...</td>\n",
       "      <td>1389052800</td>\n",
       "      <td>01 7, 2014</td>\n",
       "      <td>0</td>\n",
       "      <td>0</td>\n",
       "    </tr>\n",
       "    <tr>\n",
       "      <th>11640</th>\n",
       "      <td>A3VY83SH0KX5JS</td>\n",
       "      <td>B00004S7YF</td>\n",
       "      <td>A. Boateng</td>\n",
       "      <td>[0, 0]</td>\n",
       "      <td>So I bought this decorating set as a part of a...</td>\n",
       "      <td>5.0</td>\n",
       "      <td>Wonderful gift for a cook.</td>\n",
       "      <td>1389312000</td>\n",
       "      <td>01 10, 2014</td>\n",
       "      <td>0</td>\n",
       "      <td>0</td>\n",
       "    </tr>\n",
       "    <tr>\n",
       "      <th>11643</th>\n",
       "      <td>A1UJHQJZ6GR3Y5</td>\n",
       "      <td>B00004S7YF</td>\n",
       "      <td>Carol A. Kendrick \"Carol\"</td>\n",
       "      <td>[0, 0]</td>\n",
       "      <td>I purchased this set for my niece as a Christm...</td>\n",
       "      <td>5.0</td>\n",
       "      <td>Nice starter set</td>\n",
       "      <td>1391904000</td>\n",
       "      <td>02 9, 2014</td>\n",
       "      <td>0</td>\n",
       "      <td>0</td>\n",
       "    </tr>\n",
       "    <tr>\n",
       "      <th>11659</th>\n",
       "      <td>A1WSFIJRJLA1JL</td>\n",
       "      <td>B00004S7YF</td>\n",
       "      <td>Sandy Spencer \"sandysgingham\"</td>\n",
       "      <td>[0, 0]</td>\n",
       "      <td>It's true. All she wanted for her 18th Birthda...</td>\n",
       "      <td>5.0</td>\n",
       "      <td>A granddaughter's Birthday Gift</td>\n",
       "      <td>1395187200</td>\n",
       "      <td>03 19, 2014</td>\n",
       "      <td>0</td>\n",
       "      <td>0</td>\n",
       "    </tr>\n",
       "    <tr>\n",
       "      <th>11644</th>\n",
       "      <td>A3EJOBNMT20Q6W</td>\n",
       "      <td>B00004S7YF</td>\n",
       "      <td>Cathy</td>\n",
       "      <td>[1, 2]</td>\n",
       "      <td>This has everything you need to get you starte...</td>\n",
       "      <td>5.0</td>\n",
       "      <td>Great Set</td>\n",
       "      <td>1397433600</td>\n",
       "      <td>04 14, 2014</td>\n",
       "      <td>1</td>\n",
       "      <td>2</td>\n",
       "    </tr>\n",
       "    <tr>\n",
       "      <th>11647</th>\n",
       "      <td>A3AW2NL9KBLX0B</td>\n",
       "      <td>B00004S7YF</td>\n",
       "      <td>honest</td>\n",
       "      <td>[0, 0]</td>\n",
       "      <td>I like this...so excited to start my cake deco...</td>\n",
       "      <td>5.0</td>\n",
       "      <td>beginner</td>\n",
       "      <td>1399075200</td>\n",
       "      <td>05 3, 2014</td>\n",
       "      <td>0</td>\n",
       "      <td>0</td>\n",
       "    </tr>\n",
       "  </tbody>\n",
       "</table>\n",
       "</div>"
      ],
      "text/plain": [
       "                  reviewerID        asin  \\\n",
       "11656         A3ICQSEUGFRAKM  B00004S7YF   \n",
       "11661         A3KY2CMX2SZQ94  B00004S7YF   \n",
       "11652         A38F2FD9K0C78V  B00004S7YF   \n",
       "11646          AJB4VS9J7HKID  B00004S7YF   \n",
       "11657          ANBIG4SVNUAZC  B00004S7YF   \n",
       "11651         A2ZM09SXQD77H0  B00004S7YF   \n",
       "11653          AAY3WZSAPD0VV  B00004S7YF   \n",
       "11641         A22MKMQ1AYXRGT  B00004S7YF   \n",
       "11645         A25C2M3QF9G7OQ  B00004S7YF   \n",
       "11650          AEGB49B843XLF  B00004S7YF   \n",
       "11660         A1JFQZGI3SM18A  B00004S7YF   \n",
       "11658         A12AD65QAZGCEQ  B00004S7YF   \n",
       "11654  A0002382258OFJJ2UYNTR  B00004S7YF   \n",
       "11642          AXV015ED5DNEG  B00004S7YF   \n",
       "11649         A1Q4MNIUESQTBM  B00004S7YF   \n",
       "11655         A2IMN33YQ6FVEB  B00004S7YF   \n",
       "11648         A28E5OENBJ1MEP  B00004S7YF   \n",
       "11640         A3VY83SH0KX5JS  B00004S7YF   \n",
       "11643         A1UJHQJZ6GR3Y5  B00004S7YF   \n",
       "11659         A1WSFIJRJLA1JL  B00004S7YF   \n",
       "11644         A3EJOBNMT20Q6W  B00004S7YF   \n",
       "11647         A3AW2NL9KBLX0B  B00004S7YF   \n",
       "\n",
       "                                          reviewerName   helpful  \\\n",
       "11656                                Rebecca A. Sexton   [9, 13]   \n",
       "11661                                         T. Horak    [5, 6]   \n",
       "11652                                  Nirmala Mohabir  [19, 21]   \n",
       "11646                                     Donna Snyder    [2, 3]   \n",
       "11657                                        R. Murphy  [11, 13]   \n",
       "11651                                         N. Black    [2, 2]   \n",
       "11653                                            Pinky    [0, 0]   \n",
       "11641                                      Avid reader    [1, 1]   \n",
       "11645                                           Comdet  [74, 75]   \n",
       "11650  Michelle - Seacoast NH \"Michelle - Seacoast NH\"    [0, 0]   \n",
       "11660                                           Snikta    [0, 0]   \n",
       "11658                                           Rosemm    [0, 2]   \n",
       "11654                                     PreacherGurl    [0, 0]   \n",
       "11642                                      candy Vigil    [0, 0]   \n",
       "11649                                     John Schultz    [0, 0]   \n",
       "11655                                       Rachel Ong    [0, 1]   \n",
       "11648                                     Joan Pohlman    [0, 0]   \n",
       "11640                                       A. Boateng    [0, 0]   \n",
       "11643                        Carol A. Kendrick \"Carol\"    [0, 0]   \n",
       "11659                    Sandy Spencer \"sandysgingham\"    [0, 0]   \n",
       "11644                                            Cathy    [1, 2]   \n",
       "11647                                           honest    [0, 0]   \n",
       "\n",
       "                                              reviewText  overall  \\\n",
       "11656  This set has 29 tips, a flower nail and one co...      5.0   \n",
       "11661  This is a good starter set if you are just get...      4.0   \n",
       "11652  I love this set- it's perfect for beginners wh...      5.0   \n",
       "11646  I needed a new kit that had all the parts! Thi...      5.0   \n",
       "11657  I purchased this set since it seemed the best ...      4.0   \n",
       "11651  I bought this, practiced with regular supermar...      5.0   \n",
       "11653  Ive been decorating cakes for fun for a few ye...      5.0   \n",
       "11641  This is really a good deal.  This kit includes...      5.0   \n",
       "11645  I wanted to get a cake decorating kit for my n...      5.0   \n",
       "11650  Bought as a gift. It looks quite nice for the ...      4.0   \n",
       "11660  I bought this as a gift to somebody and that p...      5.0   \n",
       "11658  I have recently decided I wanted to learn how ...      5.0   \n",
       "11654  I bought this to start my new hobby of baking ...      5.0   \n",
       "11642  Pros - has tips that I have never seen before ...      4.0   \n",
       "11649  This is a $30 set. get it here instead.Wilton ...      5.0   \n",
       "11655  Box was flattened when I received it but the i...      2.0   \n",
       "11648  I bought this as a gift for my granddaughter f...      5.0   \n",
       "11640  So I bought this decorating set as a part of a...      5.0   \n",
       "11643  I purchased this set for my niece as a Christm...      5.0   \n",
       "11659  It's true. All she wanted for her 18th Birthda...      5.0   \n",
       "11644  This has everything you need to get you starte...      5.0   \n",
       "11647  I like this...so excited to start my cake deco...      5.0   \n",
       "\n",
       "                                                 summary  unixReviewTime  \\\n",
       "11656                 Wilton Supreme Cake Decorating Set      1152662400   \n",
       "11661                                   Nice starter set      1174521600   \n",
       "11652                        Great deal on this purchase      1203897600   \n",
       "11646                         Wilton cake decorating kit      1230681600   \n",
       "11657                     Lots of tips, very pale colors      1290297600   \n",
       "11651                                        Easy peasy.      1297987200   \n",
       "11653         Inexperienced users will have a lot of fun      1325030400   \n",
       "11641                                      A great deal!      1331078400   \n",
       "11645  Excellent starter set, better value than the W...      1354320000   \n",
       "11650                                  Good beginner set      1355961600   \n",
       "11660                        Awesome cake decorating kit      1356048000   \n",
       "11658  For the beginning baker to the expert, a must ...      1365206400   \n",
       "11654                                             Funnn.      1366156800   \n",
       "11642                                      nice purchase      1379289600   \n",
       "11649    Great set-BUT DO NOT BUY THIS FROM THIS SELLER!      1380067200   \n",
       "11655                        Box flatten, items are okay      1381190400   \n",
       "11648  Wilton 2104-2546 53 Piece Supreme Cake Decorat...      1389052800   \n",
       "11640                         Wonderful gift for a cook.      1389312000   \n",
       "11643                                   Nice starter set      1391904000   \n",
       "11659                    A granddaughter's Birthday Gift      1395187200   \n",
       "11644                                          Great Set      1397433600   \n",
       "11647                                           beginner      1399075200   \n",
       "\n",
       "        reviewTime  helpfulfirstelement  helpfulsecondelement  \n",
       "11656  07 12, 2006                    9                    13  \n",
       "11661  03 22, 2007                    5                     6  \n",
       "11652  02 25, 2008                   19                    21  \n",
       "11646  12 31, 2008                    2                     3  \n",
       "11657  11 21, 2010                   11                    13  \n",
       "11651  02 18, 2011                    2                     2  \n",
       "11653  12 28, 2011                    0                     0  \n",
       "11641   03 7, 2012                    1                     1  \n",
       "11645   12 1, 2012                   74                    75  \n",
       "11650  12 20, 2012                    0                     0  \n",
       "11660  12 21, 2012                    0                     0  \n",
       "11658   04 6, 2013                    0                     2  \n",
       "11654  04 17, 2013                    0                     0  \n",
       "11642  09 16, 2013                    0                     0  \n",
       "11649  09 25, 2013                    0                     0  \n",
       "11655   10 8, 2013                    0                     1  \n",
       "11648   01 7, 2014                    0                     0  \n",
       "11640  01 10, 2014                    0                     0  \n",
       "11643   02 9, 2014                    0                     0  \n",
       "11659  03 19, 2014                    0                     0  \n",
       "11644  04 14, 2014                    1                     2  \n",
       "11647   05 3, 2014                    0                     0  "
      ]
     },
     "execution_count": 11,
     "metadata": {},
     "output_type": "execute_result"
    }
   ],
   "source": [
    "sdf.loc[sdf['asin']=='B00004S7YF'].sort_values(by=['unixReviewTime'])\n"
   ]
  },
  {
   "cell_type": "markdown",
   "metadata": {},
   "source": [
    "### Remove duplicate rows\n",
    "Rows with same reviewer, asin adn unixtime can be considered as duplicate, hence we need to remove them from our analysis, if they exist\n",
    "But based on below query we can see that it does not exist\n"
   ]
  },
  {
   "cell_type": "code",
   "execution_count": 12,
   "metadata": {},
   "outputs": [
    {
     "data": {
      "text/plain": [
       "(551682, 11)"
      ]
     },
     "execution_count": 12,
     "metadata": {},
     "output_type": "execute_result"
    }
   ],
   "source": [
    "# Remove any duplicates\n",
    "udf = df.drop_duplicates(subset= ['reviewerID', 'asin', 'unixReviewTime'], keep = 'first')\n",
    "udf.shape"
   ]
  },
  {
   "cell_type": "markdown",
   "metadata": {},
   "source": [
    "### Calculate upvote percentage based on helpful percentage "
   ]
  },
  {
   "cell_type": "code",
   "execution_count": 13,
   "metadata": {},
   "outputs": [],
   "source": [
    "# Adding helpful percentage and upvote\n",
    "df['helpfulPercent'] = np.where(df['helpfulsecondelement'] > 0, df['helpfulfirstelement']/df['helpfulsecondelement'], -1)\n",
    "df['upvotePercent'] = pd.cut(df['helpfulPercent'], bins = [-1, 0, 0.2, 0.4, 0.6, 0.8, 1.0], labels = ['Empty', '0-20%', '20-40%', '40-60%', '60-80%', '80-100%'], include_lowest=True)"
   ]
  },
  {
   "cell_type": "code",
   "execution_count": 14,
   "metadata": {},
   "outputs": [
    {
     "data": {
      "text/html": [
       "<div>\n",
       "<style scoped>\n",
       "    .dataframe tbody tr th:only-of-type {\n",
       "        vertical-align: middle;\n",
       "    }\n",
       "\n",
       "    .dataframe tbody tr th {\n",
       "        vertical-align: top;\n",
       "    }\n",
       "\n",
       "    .dataframe thead th {\n",
       "        text-align: right;\n",
       "    }\n",
       "</style>\n",
       "<table border=\"1\" class=\"dataframe\">\n",
       "  <thead>\n",
       "    <tr style=\"text-align: right;\">\n",
       "      <th></th>\n",
       "      <th>overall</th>\n",
       "      <th>upvotePercent</th>\n",
       "      <th>reviews_count</th>\n",
       "    </tr>\n",
       "  </thead>\n",
       "  <tbody>\n",
       "    <tr>\n",
       "      <th>0</th>\n",
       "      <td>1.0</td>\n",
       "      <td>Empty</td>\n",
       "      <td>9306</td>\n",
       "    </tr>\n",
       "    <tr>\n",
       "      <th>1</th>\n",
       "      <td>1.0</td>\n",
       "      <td>0-20%</td>\n",
       "      <td>545</td>\n",
       "    </tr>\n",
       "    <tr>\n",
       "      <th>2</th>\n",
       "      <td>1.0</td>\n",
       "      <td>20-40%</td>\n",
       "      <td>1399</td>\n",
       "    </tr>\n",
       "    <tr>\n",
       "      <th>3</th>\n",
       "      <td>1.0</td>\n",
       "      <td>40-60%</td>\n",
       "      <td>2810</td>\n",
       "    </tr>\n",
       "    <tr>\n",
       "      <th>4</th>\n",
       "      <td>1.0</td>\n",
       "      <td>60-80%</td>\n",
       "      <td>3552</td>\n",
       "    </tr>\n",
       "    <tr>\n",
       "      <th>5</th>\n",
       "      <td>1.0</td>\n",
       "      <td>80-100%</td>\n",
       "      <td>9494</td>\n",
       "    </tr>\n",
       "    <tr>\n",
       "      <th>6</th>\n",
       "      <td>2.0</td>\n",
       "      <td>Empty</td>\n",
       "      <td>11527</td>\n",
       "    </tr>\n",
       "    <tr>\n",
       "      <th>7</th>\n",
       "      <td>2.0</td>\n",
       "      <td>0-20%</td>\n",
       "      <td>244</td>\n",
       "    </tr>\n",
       "    <tr>\n",
       "      <th>8</th>\n",
       "      <td>2.0</td>\n",
       "      <td>20-40%</td>\n",
       "      <td>829</td>\n",
       "    </tr>\n",
       "    <tr>\n",
       "      <th>9</th>\n",
       "      <td>2.0</td>\n",
       "      <td>40-60%</td>\n",
       "      <td>1923</td>\n",
       "    </tr>\n",
       "    <tr>\n",
       "      <th>10</th>\n",
       "      <td>2.0</td>\n",
       "      <td>60-80%</td>\n",
       "      <td>2183</td>\n",
       "    </tr>\n",
       "    <tr>\n",
       "      <th>11</th>\n",
       "      <td>2.0</td>\n",
       "      <td>80-100%</td>\n",
       "      <td>7607</td>\n",
       "    </tr>\n",
       "    <tr>\n",
       "      <th>12</th>\n",
       "      <td>3.0</td>\n",
       "      <td>Empty</td>\n",
       "      <td>24229</td>\n",
       "    </tr>\n",
       "    <tr>\n",
       "      <th>13</th>\n",
       "      <td>3.0</td>\n",
       "      <td>0-20%</td>\n",
       "      <td>264</td>\n",
       "    </tr>\n",
       "    <tr>\n",
       "      <th>14</th>\n",
       "      <td>3.0</td>\n",
       "      <td>20-40%</td>\n",
       "      <td>939</td>\n",
       "    </tr>\n",
       "    <tr>\n",
       "      <th>15</th>\n",
       "      <td>3.0</td>\n",
       "      <td>40-60%</td>\n",
       "      <td>2721</td>\n",
       "    </tr>\n",
       "    <tr>\n",
       "      <th>16</th>\n",
       "      <td>3.0</td>\n",
       "      <td>60-80%</td>\n",
       "      <td>3003</td>\n",
       "    </tr>\n",
       "    <tr>\n",
       "      <th>17</th>\n",
       "      <td>3.0</td>\n",
       "      <td>80-100%</td>\n",
       "      <td>13903</td>\n",
       "    </tr>\n",
       "    <tr>\n",
       "      <th>18</th>\n",
       "      <td>4.0</td>\n",
       "      <td>Empty</td>\n",
       "      <td>61933</td>\n",
       "    </tr>\n",
       "    <tr>\n",
       "      <th>19</th>\n",
       "      <td>4.0</td>\n",
       "      <td>0-20%</td>\n",
       "      <td>139</td>\n",
       "    </tr>\n",
       "    <tr>\n",
       "      <th>20</th>\n",
       "      <td>4.0</td>\n",
       "      <td>20-40%</td>\n",
       "      <td>755</td>\n",
       "    </tr>\n",
       "    <tr>\n",
       "      <th>21</th>\n",
       "      <td>4.0</td>\n",
       "      <td>40-60%</td>\n",
       "      <td>3508</td>\n",
       "    </tr>\n",
       "    <tr>\n",
       "      <th>22</th>\n",
       "      <td>4.0</td>\n",
       "      <td>60-80%</td>\n",
       "      <td>4432</td>\n",
       "    </tr>\n",
       "    <tr>\n",
       "      <th>23</th>\n",
       "      <td>4.0</td>\n",
       "      <td>80-100%</td>\n",
       "      <td>34741</td>\n",
       "    </tr>\n",
       "    <tr>\n",
       "      <th>24</th>\n",
       "      <td>5.0</td>\n",
       "      <td>Empty</td>\n",
       "      <td>218311</td>\n",
       "    </tr>\n",
       "    <tr>\n",
       "      <th>25</th>\n",
       "      <td>5.0</td>\n",
       "      <td>0-20%</td>\n",
       "      <td>174</td>\n",
       "    </tr>\n",
       "    <tr>\n",
       "      <th>26</th>\n",
       "      <td>5.0</td>\n",
       "      <td>20-40%</td>\n",
       "      <td>1278</td>\n",
       "    </tr>\n",
       "    <tr>\n",
       "      <th>27</th>\n",
       "      <td>5.0</td>\n",
       "      <td>40-60%</td>\n",
       "      <td>8263</td>\n",
       "    </tr>\n",
       "    <tr>\n",
       "      <th>28</th>\n",
       "      <td>5.0</td>\n",
       "      <td>60-80%</td>\n",
       "      <td>10511</td>\n",
       "    </tr>\n",
       "    <tr>\n",
       "      <th>29</th>\n",
       "      <td>5.0</td>\n",
       "      <td>80-100%</td>\n",
       "      <td>111159</td>\n",
       "    </tr>\n",
       "  </tbody>\n",
       "</table>\n",
       "</div>"
      ],
      "text/plain": [
       "    overall upvotePercent  reviews_count\n",
       "0       1.0         Empty           9306\n",
       "1       1.0         0-20%            545\n",
       "2       1.0        20-40%           1399\n",
       "3       1.0        40-60%           2810\n",
       "4       1.0        60-80%           3552\n",
       "5       1.0       80-100%           9494\n",
       "6       2.0         Empty          11527\n",
       "7       2.0         0-20%            244\n",
       "8       2.0        20-40%            829\n",
       "9       2.0        40-60%           1923\n",
       "10      2.0        60-80%           2183\n",
       "11      2.0       80-100%           7607\n",
       "12      3.0         Empty          24229\n",
       "13      3.0         0-20%            264\n",
       "14      3.0        20-40%            939\n",
       "15      3.0        40-60%           2721\n",
       "16      3.0        60-80%           3003\n",
       "17      3.0       80-100%          13903\n",
       "18      4.0         Empty          61933\n",
       "19      4.0         0-20%            139\n",
       "20      4.0        20-40%            755\n",
       "21      4.0        40-60%           3508\n",
       "22      4.0        60-80%           4432\n",
       "23      4.0       80-100%          34741\n",
       "24      5.0         Empty         218311\n",
       "25      5.0         0-20%            174\n",
       "26      5.0        20-40%           1278\n",
       "27      5.0        40-60%           8263\n",
       "28      5.0        60-80%          10511\n",
       "29      5.0       80-100%         111159"
      ]
     },
     "execution_count": 14,
     "metadata": {},
     "output_type": "execute_result"
    }
   ],
   "source": [
    "df_new = df.groupby(['overall', 'upvotePercent']).agg({'overall': 'count'}).rename(columns = {'overall': 'reviews_count'}).reset_index()\n",
    "df_new"
   ]
  },
  {
   "cell_type": "markdown",
   "metadata": {},
   "source": [
    "### Generating Y label"
   ]
  },
  {
   "cell_type": "markdown",
   "metadata": {},
   "source": [
    "Here I am plan to use reviews text and overall score columns for my further modeling.\n",
    "\n",
    "For simplicity I am plan to take two classes by neglecting the overall rating of 3. Classify overall rating score of [1 and 2] as 0 and overall rating score of [4 and 5] as 1. Finally, use reviews text and predict the overall score of either 0 or 1."
   ]
  },
  {
   "cell_type": "code",
   "execution_count": 15,
   "metadata": {},
   "outputs": [],
   "source": [
    "#take only the rows which have rating != 3\n",
    "df_model = df[df['overall'] != 3]\n"
   ]
  },
  {
   "cell_type": "code",
   "execution_count": 16,
   "metadata": {},
   "outputs": [
    {
     "data": {
      "text/html": [
       "<div>\n",
       "<style scoped>\n",
       "    .dataframe tbody tr th:only-of-type {\n",
       "        vertical-align: middle;\n",
       "    }\n",
       "\n",
       "    .dataframe tbody tr th {\n",
       "        vertical-align: top;\n",
       "    }\n",
       "\n",
       "    .dataframe thead th {\n",
       "        text-align: right;\n",
       "    }\n",
       "</style>\n",
       "<table border=\"1\" class=\"dataframe\">\n",
       "  <thead>\n",
       "    <tr style=\"text-align: right;\">\n",
       "      <th></th>\n",
       "      <th>0</th>\n",
       "      <th>1</th>\n",
       "      <th>2</th>\n",
       "      <th>3</th>\n",
       "      <th>4</th>\n",
       "    </tr>\n",
       "  </thead>\n",
       "  <tbody>\n",
       "    <tr>\n",
       "      <th>reviewerID</th>\n",
       "      <td>APYOBQE6M18AA</td>\n",
       "      <td>A1JVQTAGHYOL7F</td>\n",
       "      <td>A3UPYGJKZ0XTU4</td>\n",
       "      <td>A2MHCTX43MIMDZ</td>\n",
       "      <td>AHAI85T5C2DH3</td>\n",
       "    </tr>\n",
       "    <tr>\n",
       "      <th>asin</th>\n",
       "      <td>0615391206</td>\n",
       "      <td>0615391206</td>\n",
       "      <td>0615391206</td>\n",
       "      <td>0615391206</td>\n",
       "      <td>0615391206</td>\n",
       "    </tr>\n",
       "    <tr>\n",
       "      <th>reviewerName</th>\n",
       "      <td>Martin Schwartz</td>\n",
       "      <td>Michelle Dinh</td>\n",
       "      <td>mirasreviews</td>\n",
       "      <td>M. Johnson \"Tea Lover\"</td>\n",
       "      <td>PugLover</td>\n",
       "    </tr>\n",
       "    <tr>\n",
       "      <th>helpful</th>\n",
       "      <td>[0, 0]</td>\n",
       "      <td>[0, 0]</td>\n",
       "      <td>[26, 27]</td>\n",
       "      <td>[14, 18]</td>\n",
       "      <td>[0, 0]</td>\n",
       "    </tr>\n",
       "    <tr>\n",
       "      <th>reviewText</th>\n",
       "      <td>My daughter wanted this book and the price on ...</td>\n",
       "      <td>I bought this zoku quick pop for my daughterr ...</td>\n",
       "      <td>There is no shortage of pop recipes available ...</td>\n",
       "      <td>This book is a must have if you get a Zoku (wh...</td>\n",
       "      <td>This cookbook is great.  I have really enjoyed...</td>\n",
       "    </tr>\n",
       "    <tr>\n",
       "      <th>overall</th>\n",
       "      <td>5</td>\n",
       "      <td>5</td>\n",
       "      <td>4</td>\n",
       "      <td>5</td>\n",
       "      <td>4</td>\n",
       "    </tr>\n",
       "    <tr>\n",
       "      <th>summary</th>\n",
       "      <td>Best Price</td>\n",
       "      <td>zoku</td>\n",
       "      <td>Excels at Sweet Dessert Pops, but Falls Short ...</td>\n",
       "      <td>Creative Combos</td>\n",
       "      <td>A must own if you own the Zoku maker...</td>\n",
       "    </tr>\n",
       "    <tr>\n",
       "      <th>unixReviewTime</th>\n",
       "      <td>1382140800</td>\n",
       "      <td>1403049600</td>\n",
       "      <td>1367712000</td>\n",
       "      <td>1312416000</td>\n",
       "      <td>1402099200</td>\n",
       "    </tr>\n",
       "    <tr>\n",
       "      <th>reviewTime</th>\n",
       "      <td>10 19, 2013</td>\n",
       "      <td>06 18, 2014</td>\n",
       "      <td>05 5, 2013</td>\n",
       "      <td>08 4, 2011</td>\n",
       "      <td>06 7, 2014</td>\n",
       "    </tr>\n",
       "    <tr>\n",
       "      <th>helpfulfirstelement</th>\n",
       "      <td>0</td>\n",
       "      <td>0</td>\n",
       "      <td>26</td>\n",
       "      <td>14</td>\n",
       "      <td>0</td>\n",
       "    </tr>\n",
       "    <tr>\n",
       "      <th>helpfulsecondelement</th>\n",
       "      <td>0</td>\n",
       "      <td>0</td>\n",
       "      <td>27</td>\n",
       "      <td>18</td>\n",
       "      <td>0</td>\n",
       "    </tr>\n",
       "    <tr>\n",
       "      <th>helpfulPercent</th>\n",
       "      <td>-1</td>\n",
       "      <td>-1</td>\n",
       "      <td>0.962963</td>\n",
       "      <td>0.777778</td>\n",
       "      <td>-1</td>\n",
       "    </tr>\n",
       "    <tr>\n",
       "      <th>upvotePercent</th>\n",
       "      <td>Empty</td>\n",
       "      <td>Empty</td>\n",
       "      <td>80-100%</td>\n",
       "      <td>60-80%</td>\n",
       "      <td>Empty</td>\n",
       "    </tr>\n",
       "  </tbody>\n",
       "</table>\n",
       "</div>"
      ],
      "text/plain": [
       "                                                                      0  \\\n",
       "reviewerID                                                APYOBQE6M18AA   \n",
       "asin                                                         0615391206   \n",
       "reviewerName                                            Martin Schwartz   \n",
       "helpful                                                          [0, 0]   \n",
       "reviewText            My daughter wanted this book and the price on ...   \n",
       "overall                                                               5   \n",
       "summary                                                      Best Price   \n",
       "unixReviewTime                                               1382140800   \n",
       "reviewTime                                                  10 19, 2013   \n",
       "helpfulfirstelement                                                   0   \n",
       "helpfulsecondelement                                                  0   \n",
       "helpfulPercent                                                       -1   \n",
       "upvotePercent                                                     Empty   \n",
       "\n",
       "                                                                      1  \\\n",
       "reviewerID                                               A1JVQTAGHYOL7F   \n",
       "asin                                                         0615391206   \n",
       "reviewerName                                              Michelle Dinh   \n",
       "helpful                                                          [0, 0]   \n",
       "reviewText            I bought this zoku quick pop for my daughterr ...   \n",
       "overall                                                               5   \n",
       "summary                                                            zoku   \n",
       "unixReviewTime                                               1403049600   \n",
       "reviewTime                                                  06 18, 2014   \n",
       "helpfulfirstelement                                                   0   \n",
       "helpfulsecondelement                                                  0   \n",
       "helpfulPercent                                                       -1   \n",
       "upvotePercent                                                     Empty   \n",
       "\n",
       "                                                                      2  \\\n",
       "reviewerID                                               A3UPYGJKZ0XTU4   \n",
       "asin                                                         0615391206   \n",
       "reviewerName                                               mirasreviews   \n",
       "helpful                                                        [26, 27]   \n",
       "reviewText            There is no shortage of pop recipes available ...   \n",
       "overall                                                               4   \n",
       "summary               Excels at Sweet Dessert Pops, but Falls Short ...   \n",
       "unixReviewTime                                               1367712000   \n",
       "reviewTime                                                   05 5, 2013   \n",
       "helpfulfirstelement                                                  26   \n",
       "helpfulsecondelement                                                 27   \n",
       "helpfulPercent                                                 0.962963   \n",
       "upvotePercent                                                   80-100%   \n",
       "\n",
       "                                                                      3  \\\n",
       "reviewerID                                               A2MHCTX43MIMDZ   \n",
       "asin                                                         0615391206   \n",
       "reviewerName                                     M. Johnson \"Tea Lover\"   \n",
       "helpful                                                        [14, 18]   \n",
       "reviewText            This book is a must have if you get a Zoku (wh...   \n",
       "overall                                                               5   \n",
       "summary                                                 Creative Combos   \n",
       "unixReviewTime                                               1312416000   \n",
       "reviewTime                                                   08 4, 2011   \n",
       "helpfulfirstelement                                                  14   \n",
       "helpfulsecondelement                                                 18   \n",
       "helpfulPercent                                                 0.777778   \n",
       "upvotePercent                                                    60-80%   \n",
       "\n",
       "                                                                      4  \n",
       "reviewerID                                                AHAI85T5C2DH3  \n",
       "asin                                                         0615391206  \n",
       "reviewerName                                                   PugLover  \n",
       "helpful                                                          [0, 0]  \n",
       "reviewText            This cookbook is great.  I have really enjoyed...  \n",
       "overall                                                               4  \n",
       "summary                         A must own if you own the Zoku maker...  \n",
       "unixReviewTime                                               1402099200  \n",
       "reviewTime                                                   06 7, 2014  \n",
       "helpfulfirstelement                                                   0  \n",
       "helpfulsecondelement                                                  0  \n",
       "helpfulPercent                                                       -1  \n",
       "upvotePercent                                                     Empty  "
      ]
     },
     "execution_count": 16,
     "metadata": {},
     "output_type": "execute_result"
    }
   ],
   "source": [
    "df_model.head(5).T"
   ]
  },
  {
   "cell_type": "markdown",
   "metadata": {},
   "source": [
    "### Creating X & Y "
   ]
  },
  {
   "cell_type": "code",
   "execution_count": 17,
   "metadata": {},
   "outputs": [],
   "source": [
    "X = df_model['reviewText']\n",
    "y = df_model['overall'].map({1:0, 2:0, 4:1, 5:1})"
   ]
  },
  {
   "cell_type": "markdown",
   "metadata": {},
   "source": [
    "### Baseline model: \n",
    "Starting with applying simple logistic regression to predict whether the rating is either positive (1) or negative (0).\n",
    "This will be considered as baseline model and any preprocessing on text data should improve the accuracy of prediction more that the value given by baseline\n"
   ]
  },
  {
   "cell_type": "markdown",
   "metadata": {},
   "source": [
    "### Sentiment Analysis: baseline"
   ]
  },
  {
   "cell_type": "markdown",
   "metadata": {},
   "source": [
    "Let's detect the sentiment of the review. Before applying any machine learning models, ,let's check the sentiment of the first few reviews"
   ]
  },
  {
   "cell_type": "code",
   "execution_count": 18,
   "metadata": {},
   "outputs": [
    {
     "data": {
      "text/html": [
       "<div>\n",
       "<style scoped>\n",
       "    .dataframe tbody tr th:only-of-type {\n",
       "        vertical-align: middle;\n",
       "    }\n",
       "\n",
       "    .dataframe tbody tr th {\n",
       "        vertical-align: top;\n",
       "    }\n",
       "\n",
       "    .dataframe thead th {\n",
       "        text-align: right;\n",
       "    }\n",
       "</style>\n",
       "<table border=\"1\" class=\"dataframe\">\n",
       "  <thead>\n",
       "    <tr style=\"text-align: right;\">\n",
       "      <th></th>\n",
       "      <th>reviewText</th>\n",
       "      <th>overall</th>\n",
       "    </tr>\n",
       "  </thead>\n",
       "  <tbody>\n",
       "    <tr>\n",
       "      <th>0</th>\n",
       "      <td>My daughter wanted this book and the price on ...</td>\n",
       "      <td>5.0</td>\n",
       "    </tr>\n",
       "    <tr>\n",
       "      <th>1</th>\n",
       "      <td>I bought this zoku quick pop for my daughterr ...</td>\n",
       "      <td>5.0</td>\n",
       "    </tr>\n",
       "    <tr>\n",
       "      <th>2</th>\n",
       "      <td>There is no shortage of pop recipes available ...</td>\n",
       "      <td>4.0</td>\n",
       "    </tr>\n",
       "    <tr>\n",
       "      <th>3</th>\n",
       "      <td>This book is a must have if you get a Zoku (wh...</td>\n",
       "      <td>5.0</td>\n",
       "    </tr>\n",
       "    <tr>\n",
       "      <th>4</th>\n",
       "      <td>This cookbook is great.  I have really enjoyed...</td>\n",
       "      <td>4.0</td>\n",
       "    </tr>\n",
       "  </tbody>\n",
       "</table>\n",
       "</div>"
      ],
      "text/plain": [
       "                                          reviewText  overall\n",
       "0  My daughter wanted this book and the price on ...      5.0\n",
       "1  I bought this zoku quick pop for my daughterr ...      5.0\n",
       "2  There is no shortage of pop recipes available ...      4.0\n",
       "3  This book is a must have if you get a Zoku (wh...      5.0\n",
       "4  This cookbook is great.  I have really enjoyed...      4.0"
      ]
     },
     "execution_count": 18,
     "metadata": {},
     "output_type": "execute_result"
    }
   ],
   "source": [
    "df_model[['reviewText','overall']].head(5)\n"
   ]
  },
  {
   "cell_type": "code",
   "execution_count": 19,
   "metadata": {},
   "outputs": [
    {
     "data": {
      "text/plain": [
       "0                                 (0.9, 0.65)\n",
       "1                  (0.3916666666666666, 0.55)\n",
       "2     (0.2908062770562771, 0.572667748917749)\n",
       "3    (0.3873809523809524, 0.7209523809523809)\n",
       "4    (0.2822222222222222, 0.6692592592592592)\n",
       "Name: reviewText, dtype: object"
      ]
     },
     "execution_count": 19,
     "metadata": {},
     "output_type": "execute_result"
    }
   ],
   "source": [
    "df['reviewText'][:5].apply(lambda x: TextBlob(x).sentiment)"
   ]
  },
  {
   "cell_type": "markdown",
   "metadata": {},
   "source": [
    "Sentiment analysis is basically the process of determining the attitude or the emotion of the writer, i.e., whether it is positive or negative or neutral.\n",
    "The sentiment function of textblob returns two properties, polarity, and subjectivity.\n",
    "Polarity is float which lies in the range of [-1,1] where 1 means positive statement and -1 means a negative statement. Subjective sentences generally refer to personal opinion, emotion or judgment whereas objective refers to factual information. Subjectivity is also a float which lies in the range of [0,1].\n",
    "Here I only extract polarity as it indicates the sentiment as value nearer to 1 means positive sentiment and values nearer to -1 means a negative sentiment. This can also work as a feature for building a machine learning. And I will use it for later building Naive Bayes model.\n",
    "\n",
    "Let's start with simple Logistic regression and the TFIDF vectorizer for text feature engineering. Then eventually, I will build Naive bayes model to predict the sentiment."
   ]
  },
  {
   "cell_type": "code",
   "execution_count": 20,
   "metadata": {},
   "outputs": [],
   "source": [
    "def text_process(text):\n",
    "    text = text.lower()\n",
    "    text = re.sub('[^a-z]+', ' ', text).strip()\n",
    "    return text"
   ]
  },
  {
   "cell_type": "code",
   "execution_count": 21,
   "metadata": {},
   "outputs": [],
   "source": [
    "X = X.apply(lambda x: text_process(x))"
   ]
  },
  {
   "cell_type": "code",
   "execution_count": 27,
   "metadata": {},
   "outputs": [
    {
     "data": {
      "text/plain": [
       "'this cookbook is great i have really enjoyed reviewing all of the recipes sure some are more difficult than others but there is a nice variety in this book for me it was totally worth it just to get the quick shell recipes alone we have only tried the chocolate so far but it is so tasty a few of my favorite recipes in this book are the banana from the strawberry banana one and the raspberry blackberry ones but i used mixed berries also it has great instructions for tips on using the zoku definitely recommended'"
      ]
     },
     "execution_count": 27,
     "metadata": {},
     "output_type": "execute_result"
    }
   ],
   "source": [
    "X[4]"
   ]
  },
  {
   "cell_type": "code",
   "execution_count": 28,
   "metadata": {},
   "outputs": [
    {
     "data": {
      "text/plain": [
       "'This cookbook is great.  I have really enjoyed reviewing all of the recipes.  Sure - some are more difficult than others, but there is a nice variety in this book.  For me it was totally worth it just to get the quick shell recipes alone.  We have only tried the chocolate so far, but it is so tasty.  A few of my favorite recipes in this book are the banana from the strawberry banana one, and the raspberry/blackberry ones (but I used mixed berries).  Also, it has great instructions for tips on using the Zoku.  Definitely recommended.'"
      ]
     },
     "execution_count": 28,
     "metadata": {},
     "output_type": "execute_result"
    }
   ],
   "source": [
    "df_model['reviewText'][4]"
   ]
  },
  {
   "cell_type": "markdown",
   "metadata": {},
   "source": [
    "We see that (), ',' have been removed in above review"
   ]
  },
  {
   "cell_type": "markdown",
   "metadata": {},
   "source": [
    "### TF-IDF: term frequency - inverser document frequency vectorizer"
   ]
  },
  {
   "cell_type": "code",
   "execution_count": 22,
   "metadata": {},
   "outputs": [
    {
     "data": {
      "text/plain": [
       "TfidfVectorizer(stop_words='english')"
      ]
     },
     "execution_count": 22,
     "metadata": {},
     "output_type": "execute_result"
    }
   ],
   "source": [
    "tfidf = TfidfVectorizer(lowercase=True, analyzer='word', stop_words= 'english')\n",
    "tfidf"
   ]
  },
  {
   "cell_type": "code",
   "execution_count": 23,
   "metadata": {},
   "outputs": [],
   "source": [
    "def model_fit(X, y, feature_model,ml_model,coef_show=1):\n",
    "    \n",
    "    X_features = feature_model.fit_transform(X)\n",
    "    print('# features: {}'.format(X_features.shape[1]))\n",
    "    X_train, X_test, y_train, y_test = train_test_split(X_features, y, test_size = 0.2, random_state=43)\n",
    "    clf = ml_model.fit(X_train, y_train)\n",
    "    clf_pred = clf.predict(X_test)\n",
    "    accuracy = clf.score(X_test, y_test)\n",
    "    model_performance = classification_report(y_test, clf_pred)\n",
    "    print ('accuracy of the model: ', accuracy)\n",
    "    print('')\n",
    "    print(model_performance)\n",
    "    \n",
    "    if coef_show == 1: \n",
    "        w = feature_model.get_feature_names()\n",
    "        coef = clf.coef_.tolist()[0]\n",
    "        coeff_df = pd.DataFrame({'Word' : w, 'Coefficient' : coef})\n",
    "        coeff_df = coeff_df.sort_values(['Coefficient', 'Word'], ascending=[0, 1])\n",
    "        print('')\n",
    "        print('Top 10 positive features (variables)')\n",
    "        print(coeff_df.head(20).to_string(index=False))\n",
    "        print('')\n",
    "        print('Top 10 negative features (variables)')        \n",
    "        print(coeff_df.tail(20).to_string(index=False))"
   ]
  },
  {
   "cell_type": "code",
   "execution_count": 24,
   "metadata": {},
   "outputs": [
    {
     "name": "stdout",
     "output_type": "stream",
     "text": [
      "# features: 133604\n"
     ]
    },
    {
     "name": "stderr",
     "output_type": "stream",
     "text": [
      "C:\\Users\\vidhi\\AppData\\Local\\Continuum\\anaconda3\\lib\\site-packages\\sklearn\\dummy.py:132: FutureWarning: The default value of strategy will change from stratified to prior in 0.24.\n",
      "  \"stratified to prior in 0.24.\", FutureWarning)\n"
     ]
    },
    {
     "name": "stdout",
     "output_type": "stream",
     "text": [
      "accuracy of the model:  0.8182580804342462\n",
      "\n",
      "              precision    recall  f1-score   support\n",
      "\n",
      "           0       0.10      0.10      0.10     10233\n",
      "           1       0.90      0.90      0.90     91092\n",
      "\n",
      "    accuracy                           0.82    101325\n",
      "   macro avg       0.50      0.50      0.50    101325\n",
      "weighted avg       0.82      0.82      0.82    101325\n",
      "\n"
     ]
    }
   ],
   "source": [
    "model_fit(X, y, tfidf,DummyClassifier(),coef_show=0)"
   ]
  },
  {
   "cell_type": "code",
   "execution_count": 30,
   "metadata": {},
   "outputs": [
    {
     "data": {
      "text/plain": [
       "133604"
      ]
     },
     "execution_count": 30,
     "metadata": {},
     "output_type": "execute_result"
    }
   ],
   "source": [
    "len(tfidf.get_feature_names())\n",
    "#we have 133,604 total featurs in the vector"
   ]
  },
  {
   "cell_type": "markdown",
   "metadata": {},
   "source": [
    "### Function to calculate metrics from confusion matrix "
   ]
  },
  {
   "cell_type": "code",
   "execution_count": 72,
   "metadata": {},
   "outputs": [],
   "source": [
    "def ConfsnMtxEval(a):\n",
    "    TP = a[0,0]\n",
    "    TN = a[1,1]\n",
    "    FP = a[0,1]\n",
    "    FN = a[1,0]\n",
    "    \n",
    "    accuracy = ((TP+TN))/(TP+FN+FP+TN)\n",
    "    precision = (TP)/(TP+FP)\n",
    "    recall = (TP)/(TP+FN)\n",
    "    f_measure = (2*recall*precision)/(recall+precision)\n",
    "    sensitivity = TP / (TP + FN)\n",
    "    specificity = TN / (TN + FP)\n",
    "    error_rate = 1 - accuracy\n",
    "    \n",
    "    out = {}\n",
    "    out['accuracy'] =  round(accuracy,3)\n",
    "    out['precision'] = round(precision,3)\n",
    "    out['recall'] = round(recall,3)\n",
    "    out['f_measure'] = round(f_measure,3)\n",
    "    out['sensitivity'] = round(sensitivity,3)\n",
    "    out['specificity'] = round(specificity,3)\n",
    "    out['error_rate'] = round(error_rate,3)\n",
    "    return out"
   ]
  },
  {
   "cell_type": "code",
   "execution_count": 31,
   "metadata": {},
   "outputs": [
    {
     "name": "stdout",
     "output_type": "stream",
     "text": [
      "# features: 124836\n"
     ]
    },
    {
     "name": "stderr",
     "output_type": "stream",
     "text": [
      "C:\\Users\\vidhi\\AppData\\Local\\Continuum\\anaconda3\\lib\\site-packages\\sklearn\\linear_model\\_logistic.py:764: ConvergenceWarning: lbfgs failed to converge (status=1):\n",
      "STOP: TOTAL NO. of ITERATIONS REACHED LIMIT.\n",
      "\n",
      "Increase the number of iterations (max_iter) or scale the data as shown in:\n",
      "    https://scikit-learn.org/stable/modules/preprocessing.html\n",
      "Please also refer to the documentation for alternative solver options:\n",
      "    https://scikit-learn.org/stable/modules/linear_model.html#logistic-regression\n",
      "  extra_warning_msg=_LOGISTIC_SOLVER_CONVERGENCE_MSG)\n"
     ]
    },
    {
     "name": "stdout",
     "output_type": "stream",
     "text": [
      "accuracy of the model:  0.9414754502837405\n",
      "\n",
      "              precision    recall  f1-score   support\n",
      "\n",
      "           0       0.82      0.54      0.65     10233\n",
      "           1       0.95      0.99      0.97     91092\n",
      "\n",
      "    accuracy                           0.94    101325\n",
      "   macro avg       0.88      0.76      0.81    101325\n",
      "weighted avg       0.94      0.94      0.94    101325\n",
      "\n",
      "\n",
      "Top 10 positive features (variables)\n",
      "      Word  Coefficient\n",
      "      love    13.108184\n",
      "     great    11.972484\n",
      "   perfect    11.785590\n",
      "      easy    11.182063\n",
      "    highly    10.049312\n",
      " perfectly     8.421541\n",
      " excellent     8.415404\n",
      "   pleased     8.366701\n",
      "      glad     7.988870\n",
      "      best     7.833544\n",
      "    sturdy     6.932599\n",
      "     happy     6.691662\n",
      "      nice     6.620497\n",
      " complaint     6.606612\n",
      "   amazing     6.203634\n",
      "   awesome     6.172121\n",
      " satisfied     5.685012\n",
      "      beat     5.563725\n",
      " wonderful     5.424436\n",
      "    little     5.324496\n",
      "\n",
      "Top 10 negative features (variables)\n",
      "           Word  Coefficient\n",
      "     impossible    -6.110713\n",
      "          shame    -6.215857\n",
      "           junk    -6.262430\n",
      "       horrible    -6.394464\n",
      "          waste    -6.628413\n",
      "       terrible    -6.669280\n",
      "        stopped    -6.779620\n",
      "         refund    -6.869351\n",
      " disappointment    -6.937990\n",
      "  unfortunately    -7.067668\n",
      "      worthless    -7.276224\n",
      "         poorly    -7.547744\n",
      "          worst    -7.748567\n",
      "   disappointed    -7.894895\n",
      "  disappointing    -8.663018\n",
      "           poor    -8.799478\n",
      "         return    -8.825773\n",
      "        useless    -9.647205\n",
      "      returning    -9.660105\n",
      "       returned    -9.853171\n"
     ]
    }
   ],
   "source": [
    "model_fit(X, y, tfidf,LogisticRegression(),coef_show=1)"
   ]
  },
  {
   "cell_type": "markdown",
   "metadata": {},
   "source": [
    "Inference: \n",
    "* The accuracy has improved from 82% to 93% with Logistic regression. \n",
    "* The top 10 text features for both positive and negative coefficients do make sense. \n",
    "\n",
    "Now, I will add n-grams keyword argument to the TFIDF function and then I will run Logistic Regression model again."
   ]
  },
  {
   "cell_type": "code",
   "execution_count": 32,
   "metadata": {},
   "outputs": [],
   "source": [
    "tfidf_n_grams = TfidfVectorizer(lowercase=True, analyzer='word', stop_words= 'english', ngram_range=(1, 2))"
   ]
  },
  {
   "cell_type": "code",
   "execution_count": 33,
   "metadata": {},
   "outputs": [
    {
     "name": "stdout",
     "output_type": "stream",
     "text": [
      "# features: 5074792\n",
      "accuracy of the model:  0.9419491734517641\n",
      "\n",
      "              precision    recall  f1-score   support\n",
      "\n",
      "           0       0.88      0.49      0.63     10233\n",
      "           1       0.95      0.99      0.97     91092\n",
      "\n",
      "    accuracy                           0.94    101325\n",
      "   macro avg       0.91      0.74      0.80    101325\n",
      "weighted avg       0.94      0.94      0.93    101325\n",
      "\n",
      "\n",
      "Top 10 positive features (variables)\n",
      "             Word  Coefficient\n",
      "             love    20.303950\n",
      "            great    18.639113\n",
      "          perfect    16.562480\n",
      "             easy    15.785326\n",
      "             best    11.081413\n",
      "             nice    10.851222\n",
      "          pleased    10.791898\n",
      "        excellent    10.741825\n",
      "        perfectly    10.409472\n",
      "           sturdy    10.038975\n",
      "            happy     9.685527\n",
      "           highly     9.527477\n",
      "             glad     9.374800\n",
      "           little     8.617895\n",
      "        complaint     8.425930\n",
      " highly recommend     7.637440\n",
      "          awesome     7.565424\n",
      "          amazing     7.372541\n",
      "        wonderful     7.123396\n",
      "              bit     7.075181\n",
      "\n",
      "Top 10 negative features (variables)\n",
      "           Word  Coefficient\n",
      "       horrible    -7.969383\n",
      "          month    -8.058962\n",
      "          maybe    -8.061679\n",
      "      worthless    -8.078074\n",
      "     impossible    -8.330210\n",
      "         refund    -8.457260\n",
      "           junk    -8.544945\n",
      "    waste money    -8.654725\n",
      " disappointment    -8.680490\n",
      "       terrible    -8.926948\n",
      "         poorly    -9.459617\n",
      "          worst    -9.600992\n",
      "  unfortunately   -10.419451\n",
      "  disappointing   -11.128671\n",
      "           poor   -11.590235\n",
      "      returning   -13.348533\n",
      "   disappointed   -13.388484\n",
      "        useless   -13.436998\n",
      "         return   -14.552598\n",
      "       returned   -15.659344\n"
     ]
    }
   ],
   "source": [
    "model_fit(X, y, tfidf_n_grams,LogisticRegression(),coef_show=1)"
   ]
  },
  {
   "cell_type": "markdown",
   "metadata": {},
   "source": [
    "We can clearly see that Accuracy has reduced from 94.36 to 94.27,Hence the n-gram approach was not much helping\n",
    "\n",
    "Let's check if there is any *class imbalance* here. If there is any class imbalance, then I will resolve that issue and will run the model again and will check the model performance.\n"
   ]
  },
  {
   "cell_type": "code",
   "execution_count": 34,
   "metadata": {},
   "outputs": [
    {
     "data": {
      "text/plain": [
       "1    455204\n",
       "0     51419\n",
       "Name: overall, dtype: int64"
      ]
     },
     "execution_count": 34,
     "metadata": {},
     "output_type": "execute_result"
    }
   ],
   "source": [
    "y.value_counts()"
   ]
  },
  {
   "cell_type": "markdown",
   "metadata": {},
   "source": [
    " Inference: \n",
    "* The target values are skewed towards positive side. \n",
    "\n",
    "In order to address this issue, resampling the data has to be performed. I will use oversampling to combat class imbalance. \n",
    "Smote is especially preferable since it Is a well-made package with it Is own pipeline function compatible with other python modules. \n",
    "\n",
    "Also, before applying SMOTE technique to balance the class, I would like lemmatize the review text and pass it to TFIDF vectorizer."
   ]
  },
  {
   "cell_type": "code",
   "execution_count": 26,
   "metadata": {},
   "outputs": [
    {
     "name": "stderr",
     "output_type": "stream",
     "text": [
      "[nltk_data] Downloading package wordnet to\n",
      "[nltk_data]     C:\\Users\\vidhi\\AppData\\Roaming\\nltk_data...\n",
      "[nltk_data]   Package wordnet is already up-to-date!\n"
     ]
    },
    {
     "data": {
      "text/plain": [
       "True"
      ]
     },
     "execution_count": 26,
     "metadata": {},
     "output_type": "execute_result"
    }
   ],
   "source": [
    "from textblob import Word\n",
    "import nltk\n",
    "nltk.download('wordnet')"
   ]
  },
  {
   "cell_type": "code",
   "execution_count": 27,
   "metadata": {},
   "outputs": [],
   "source": [
    "X = df_model['reviewText']\n",
    "X = X.apply(lambda x: text_process(x))\n",
    "X = X.apply(lambda x: ' '.join([Word(word).lemmatize() for word in x.split()]))"
   ]
  },
  {
   "cell_type": "code",
   "execution_count": 55,
   "metadata": {},
   "outputs": [
    {
     "name": "stdout",
     "output_type": "stream",
     "text": [
      "Collecting imbalanced-learn\n",
      "  Using cached https://files.pythonhosted.org/packages/c8/81/8db4d87b03b998fda7c6f835d807c9ae4e3b141f978597b8d7f31600be15/imbalanced_learn-0.7.0-py3-none-any.whl\n",
      "Requirement already satisfied, skipping upgrade: joblib>=0.11 in c:\\users\\vidhi\\appdata\\local\\continuum\\anaconda3\\lib\\site-packages (from imbalanced-learn) (0.13.2)\n",
      "Requirement already satisfied, skipping upgrade: scipy>=0.19.1 in c:\\users\\vidhi\\appdata\\local\\continuum\\anaconda3\\lib\\site-packages (from imbalanced-learn) (1.2.1)\n",
      "Requirement already satisfied, skipping upgrade: numpy>=1.13.3 in c:\\users\\vidhi\\appdata\\local\\continuum\\anaconda3\\lib\\site-packages (from imbalanced-learn) (1.16.4)\n",
      "Requirement already satisfied, skipping upgrade: scikit-learn>=0.23 in c:\\users\\vidhi\\appdata\\local\\continuum\\anaconda3\\lib\\site-packages (from imbalanced-learn) (0.23.1)\n",
      "Requirement already satisfied, skipping upgrade: threadpoolctl>=2.0.0 in c:\\users\\vidhi\\appdata\\local\\continuum\\anaconda3\\lib\\site-packages (from scikit-learn>=0.23->imbalanced-learn) (2.1.0)\n",
      "Installing collected packages: imbalanced-learn\n",
      "Successfully installed imbalanced-learn-0.7.0\n",
      "Note: you may need to restart the kernel to use updated packages.\n"
     ]
    }
   ],
   "source": [
    "pip install -U imbalanced-learn"
   ]
  },
  {
   "cell_type": "code",
   "execution_count": 1,
   "metadata": {},
   "outputs": [
    {
     "name": "stdout",
     "output_type": "stream",
     "text": [
      "0.7.0\n"
     ]
    }
   ],
   "source": [
    "# check version number\n",
    "import imblearn\n",
    "print(imblearn.__version__)"
   ]
  },
  {
   "cell_type": "code",
   "execution_count": 28,
   "metadata": {},
   "outputs": [],
   "source": [
    "#from imblearn.pipeline import Pipeline as imbPipeline\n",
    "from imblearn.over_sampling import SMOTE"
   ]
  },
  {
   "cell_type": "code",
   "execution_count": 35,
   "metadata": {},
   "outputs": [],
   "source": [
    "X_features = tfidf_n_grams.fit_transform(X)\n",
    "X_train, X_test, y_train, y_test = train_test_split(X_features, y, test_size = 0.2, random_state=43)\n",
    "sm = SMOTE()\n",
    "X_train_smote, y_train_smote = sm.fit_sample(X_train, y_train)\n",
    "X_test_smote, y_test_smote = sm.fit_sample(X_test, y_test)"
   ]
  },
  {
   "cell_type": "code",
   "execution_count": 36,
   "metadata": {},
   "outputs": [],
   "source": [
    "def class_balanced_model_fit(X_train_smote, y_train_smote, X_test_smote, y_test_smote, ml_model):\n",
    "    \n",
    "    clf = ml_model.fit(X_train_smote, y_train_smote)\n",
    "    clf_pred = clf.predict(X_test_smote)\n",
    "    accuracy = clf.score(X_test_smote, y_test_smote)\n",
    "    model_performance = classification_report(y_test_smote, clf_pred)\n",
    "    validation_pred_proba_grad = clf.predict_proba(X_test_smote)\n",
    "    roc_auc = roc_auc_score(y_test_smote, validation_pred_proba_grad[:,1])\n",
    "    \n",
    "    print ('accuracy of the model: ', accuracy)\n",
    "    print('')\n",
    "    print(model_performance)\n",
    "    print('')\n",
    "    print('ROC_AUC score: ', roc_auc)"
   ]
  },
  {
   "cell_type": "code",
   "execution_count": 37,
   "metadata": {},
   "outputs": [
    {
     "name": "stderr",
     "output_type": "stream",
     "text": [
      "C:\\Users\\vidhi\\AppData\\Local\\Continuum\\anaconda3\\lib\\site-packages\\sklearn\\linear_model\\_logistic.py:764: ConvergenceWarning: lbfgs failed to converge (status=1):\n",
      "STOP: TOTAL NO. of ITERATIONS REACHED LIMIT.\n",
      "\n",
      "Increase the number of iterations (max_iter) or scale the data as shown in:\n",
      "    https://scikit-learn.org/stable/modules/preprocessing.html\n",
      "Please also refer to the documentation for alternative solver options:\n",
      "    https://scikit-learn.org/stable/modules/linear_model.html#logistic-regression\n",
      "  extra_warning_msg=_LOGISTIC_SOLVER_CONVERGENCE_MSG)\n"
     ]
    },
    {
     "name": "stdout",
     "output_type": "stream",
     "text": [
      "accuracy of the model:  0.9235278619417732\n",
      "\n",
      "              precision    recall  f1-score   support\n",
      "\n",
      "           0       0.93      0.92      0.92     91092\n",
      "           1       0.92      0.93      0.92     91092\n",
      "\n",
      "    accuracy                           0.92    182184\n",
      "   macro avg       0.92      0.92      0.92    182184\n",
      "weighted avg       0.92      0.92      0.92    182184\n",
      "\n",
      "\n",
      "ROC_AUC score:  0.9752569044580746\n"
     ]
    }
   ],
   "source": [
    "class_balanced_model_fit(X_train_smote, y_train_smote, X_test_smote, y_test_smote, LogisticRegression())"
   ]
  },
  {
   "cell_type": "markdown",
   "metadata": {},
   "source": [
    "We have now improved the accuracy to 92.35% and AUC to 97.52%"
   ]
  },
  {
   "cell_type": "markdown",
   "metadata": {},
   "source": [
    "### Naive Bayes Classifier"
   ]
  },
  {
   "cell_type": "code",
   "execution_count": 40,
   "metadata": {},
   "outputs": [],
   "source": [
    "from sklearn.naive_bayes import MultinomialNB, BernoulliNB"
   ]
  },
  {
   "cell_type": "code",
   "execution_count": 59,
   "metadata": {},
   "outputs": [
    {
     "name": "stdout",
     "output_type": "stream",
     "text": [
      "accuracy of the model:  0.7353829095859131\n",
      "\n",
      "              precision    recall  f1-score   support\n",
      "\n",
      "           0       0.97      0.48      0.65     91092\n",
      "           1       0.66      0.99      0.79     91092\n",
      "\n",
      "    accuracy                           0.74    182184\n",
      "   macro avg       0.82      0.74      0.72    182184\n",
      "weighted avg       0.82      0.74      0.72    182184\n",
      "\n",
      "\n",
      "ROC_AUC score:  0.9638609355604416\n"
     ]
    }
   ],
   "source": [
    "class_balanced_model_fit(X_train_smote, y_train_smote, X_test_smote, y_test_smote, MultinomialNB())"
   ]
  },
  {
   "cell_type": "code",
   "execution_count": 43,
   "metadata": {},
   "outputs": [
    {
     "name": "stdout",
     "output_type": "stream",
     "text": [
      "accuracy of the model:  0.7350700390813683\n",
      "\n",
      "              precision    recall  f1-score   support\n",
      "\n",
      "           0       0.96      0.49      0.65     91092\n",
      "           1       0.66      0.98      0.79     91092\n",
      "\n",
      "    accuracy                           0.74    182184\n",
      "   macro avg       0.81      0.74      0.72    182184\n",
      "weighted avg       0.81      0.74      0.72    182184\n",
      "\n",
      "\n",
      "ROC_AUC score:  0.9220085527005424\n"
     ]
    }
   ],
   "source": [
    "class_balanced_model_fit(X_train_smote, y_train_smote, X_test_smote, y_test_smote, BernoulliNB())"
   ]
  },
  {
   "cell_type": "markdown",
   "metadata": {},
   "source": [
    "### LinearSVM model (SGDclassifier with 'log' loss function):\n",
    "This estimator implements regularized linear models with stochastic gradient descent (SGD) learning: the gradient of the loss is estimated each sample at a time and the model is updated along the way with a decreasing strength schedule (aka learning rate). SGD allows minibatch (online/out-of-core) learning via the partial_fit method."
   ]
  },
  {
   "cell_type": "code",
   "execution_count": 44,
   "metadata": {},
   "outputs": [],
   "source": [
    "from sklearn.linear_model import SGDClassifier"
   ]
  },
  {
   "cell_type": "code",
   "execution_count": 46,
   "metadata": {},
   "outputs": [],
   "source": [
    "def model_pred_svm(X_train, y_train, X_test, y_test, model):\n",
    "    model = model(loss = 'log')\n",
    "    model.fit(X_train, y_train)\n",
    "    y_pred = model.predict(X_test)\n",
    "    y_pred_probs = model.predict_proba(X_test)[:,1]\n",
    "    return y_pred, y_pred_probs"
   ]
  },
  {
   "cell_type": "markdown",
   "metadata": {},
   "source": [
    "Generate predict values for models"
   ]
  },
  {
   "cell_type": "code",
   "execution_count": 47,
   "metadata": {},
   "outputs": [],
   "source": [
    "y_pred4, y_pred_probs4 = model_pred_svm(X_train_smote, y_train_smote, X_test_smote, y_test_smote, SGDClassifier)"
   ]
  },
  {
   "cell_type": "code",
   "execution_count": 68,
   "metadata": {},
   "outputs": [
    {
     "data": {
      "text/plain": [
       "array([[81788, 13867],\n",
       "       [ 9304, 77225]], dtype=int64)"
      ]
     },
     "execution_count": 68,
     "metadata": {},
     "output_type": "execute_result"
    }
   ],
   "source": [
    "cf_sgd=confusion_matrix(y_pred4, y_test_smote)\n",
    "cf_sgd"
   ]
  },
  {
   "cell_type": "code",
   "execution_count": 69,
   "metadata": {},
   "outputs": [],
   "source": [
    "def ConfsnMtxEval(a):\n",
    "    TP = a[0,0]\n",
    "    TN = a[1,1]\n",
    "    FP = a[0,1]\n",
    "    FN = a[1,0]\n",
    "    \n",
    "    accuracy = ((TP+TN))/(TP+FN+FP+TN)\n",
    "    precision = (TP)/(TP+FP)\n",
    "    recall = (TP)/(TP+FN)\n",
    "    f_measure = (2*recall*precision)/(recall+precision)\n",
    "    sensitivity = TP / (TP + FN)\n",
    "    specificity = TN / (TN + FP)\n",
    "    error_rate = 1 - accuracy\n",
    "    \n",
    "    out = {}\n",
    "    out['accuracy'] =  round(accuracy,3)\n",
    "    out['precision'] = round(precision,3)\n",
    "    out['recall'] = round(recall,3)\n",
    "    out['f_measure'] = round(f_measure,3)\n",
    "    out['sensitivity'] = round(sensitivity,3)\n",
    "    out['specificity'] = round(specificity,3)\n",
    "    out['error_rate'] = round(error_rate,3)\n",
    "    return out"
   ]
  },
  {
   "cell_type": "code",
   "execution_count": 70,
   "metadata": {},
   "outputs": [
    {
     "name": "stdout",
     "output_type": "stream",
     "text": [
      "{'accuracy': 0.873, 'precision': 0.855, 'recall': 0.898, 'f_measure': 0.876, 'sensitivity': 0.898, 'specificity': 0.848, 'error_rate': 0.127}\n",
      "Accuracy of linear SGD Model:  0.873\n"
     ]
    }
   ],
   "source": [
    "cf_sgd_Evaluated=ConfsnMtxEval(cf_sgd)\n",
    "print(cf_sgd_Evaluated)\n",
    "print('Accuracy of linear SGD Model: ',(cf_sgd_Evaluated['accuracy']))"
   ]
  },
  {
   "cell_type": "code",
   "execution_count": 71,
   "metadata": {},
   "outputs": [
    {
     "data": {
      "text/html": [
       "<div>\n",
       "<style scoped>\n",
       "    .dataframe tbody tr th:only-of-type {\n",
       "        vertical-align: middle;\n",
       "    }\n",
       "\n",
       "    .dataframe tbody tr th {\n",
       "        vertical-align: top;\n",
       "    }\n",
       "\n",
       "    .dataframe thead th {\n",
       "        text-align: right;\n",
       "    }\n",
       "</style>\n",
       "<table border=\"1\" class=\"dataframe\">\n",
       "  <thead>\n",
       "    <tr style=\"text-align: right;\">\n",
       "      <th></th>\n",
       "      <th>accuracy</th>\n",
       "      <th>error_rate</th>\n",
       "      <th>f_measure</th>\n",
       "      <th>precision</th>\n",
       "      <th>recall</th>\n",
       "      <th>sensitivity</th>\n",
       "      <th>specificity</th>\n",
       "    </tr>\n",
       "  </thead>\n",
       "  <tbody>\n",
       "    <tr>\n",
       "      <th>SGD Model</th>\n",
       "      <td>0.873</td>\n",
       "      <td>0.127</td>\n",
       "      <td>0.876</td>\n",
       "      <td>0.855</td>\n",
       "      <td>0.898</td>\n",
       "      <td>0.898</td>\n",
       "      <td>0.848</td>\n",
       "    </tr>\n",
       "  </tbody>\n",
       "</table>\n",
       "</div>"
      ],
      "text/plain": [
       "           accuracy  error_rate  f_measure  precision  recall  sensitivity  \\\n",
       "SGD Model     0.873       0.127      0.876      0.855   0.898        0.898   \n",
       "\n",
       "           specificity  \n",
       "SGD Model        0.848  "
      ]
     },
     "metadata": {},
     "output_type": "display_data"
    }
   ],
   "source": [
    "eval_model = round(pd.DataFrame([cf_sgd_Evaluated], index = ['SGD Model']),4)\n",
    "display(eval_model)"
   ]
  },
  {
   "cell_type": "markdown",
   "metadata": {},
   "source": [
    "Function to generate predicting values for models"
   ]
  },
  {
   "cell_type": "code",
   "execution_count": 53,
   "metadata": {},
   "outputs": [
    {
     "name": "stderr",
     "output_type": "stream",
     "text": [
      "C:\\Users\\vidhi\\AppData\\Local\\Continuum\\anaconda3\\lib\\site-packages\\sklearn\\linear_model\\_logistic.py:764: ConvergenceWarning: lbfgs failed to converge (status=1):\n",
      "STOP: TOTAL NO. of ITERATIONS REACHED LIMIT.\n",
      "\n",
      "Increase the number of iterations (max_iter) or scale the data as shown in:\n",
      "    https://scikit-learn.org/stable/modules/preprocessing.html\n",
      "Please also refer to the documentation for alternative solver options:\n",
      "    https://scikit-learn.org/stable/modules/linear_model.html#logistic-regression\n",
      "  extra_warning_msg=_LOGISTIC_SOLVER_CONVERGENCE_MSG)\n"
     ]
    }
   ],
   "source": [
    "def model_pred(X_train, y_train, X_test, y_test, model):\n",
    "    model = model()\n",
    "    model.fit(X_train, y_train)\n",
    "    y_pred = model.predict(X_test)\n",
    "    y_pred_probs = model.predict_proba(X_test)[:,1]\n",
    "    return y_pred, y_pred_probs"
   ]
  },
  {
   "cell_type": "markdown",
   "metadata": {},
   "source": [
    "Generate predict values:"
   ]
  },
  {
   "cell_type": "code",
   "execution_count": 52,
   "metadata": {},
   "outputs": [],
   "source": [
    "y_pred1, y_pred_probs1 = model_pred(X_train_smote, y_train_smote, X_test_smote, y_test_smote, LogisticRegression)\n",
    "y_pred2, y_pred_probs2 = model_pred(X_train_smote, y_train_smote, X_test_smote, y_test_smote, MultinomialNB)\n",
    "y_pred3, y_pred_probs3 = model_pred(X_train_smote, y_train_smote, X_test_smote, y_test_smote, BernoulliNB)"
   ]
  },
  {
   "cell_type": "code",
   "execution_count": 83,
   "metadata": {},
   "outputs": [
    {
     "name": "stdout",
     "output_type": "stream",
     "text": [
      "[[83697  7395]\n",
      " [ 6537 84555]]\n",
      "{'accuracy': 0.924, 'precision': 0.919, 'recall': 0.928, 'f_measure': 0.923, 'sensitivity': 0.928, 'specificity': 0.92, 'error_rate': 0.076}\n",
      "Accuracy of linear Logistic Classifier Model:  0.924\n"
     ]
    }
   ],
   "source": [
    "from sklearn.metrics import confusion_matrix\n",
    "print(confusion_matrix(y_test_smote, y_pred1))\n",
    "cf_log=confusion_matrix(y_test_smote, y_pred1)\n",
    "log_Evaluated=ConfsnMtxEval(cf_log)\n",
    "print(log_Evaluated)\n",
    "print('Accuracy of linear Logistic Classifier Model: ',(log_Evaluated['accuracy']))"
   ]
  },
  {
   "cell_type": "code",
   "execution_count": 84,
   "metadata": {},
   "outputs": [
    {
     "name": "stdout",
     "output_type": "stream",
     "text": [
      "[[44059 47033]\n",
      " [ 1176 89916]]\n",
      "{'accuracy': 0.735, 'precision': 0.484, 'recall': 0.974, 'f_measure': 0.646, 'sensitivity': 0.974, 'specificity': 0.657, 'error_rate': 0.265}\n",
      "Accuracy of linear Multinomial NB Model:  0.735\n"
     ]
    }
   ],
   "source": [
    "print(confusion_matrix(y_test_smote, y_pred2))\n",
    "cf_mnb=confusion_matrix(y_test_smote, y_pred2)\n",
    "cf_mnb_Evaluated=ConfsnMtxEval(cf_mnb)\n",
    "print(cf_mnb_Evaluated)\n",
    "print('Accuracy of linear Multinomial NB Model: ',(cf_mnb_Evaluated['accuracy']))"
   ]
  },
  {
   "cell_type": "code",
   "execution_count": 85,
   "metadata": {},
   "outputs": [
    {
     "name": "stdout",
     "output_type": "stream",
     "text": [
      "[[44747 46345]\n",
      " [ 1921 89171]]\n",
      "{'accuracy': 0.735, 'precision': 0.491, 'recall': 0.959, 'f_measure': 0.65, 'sensitivity': 0.959, 'specificity': 0.658, 'error_rate': 0.265}\n",
      "Accuracy of linear Bernoulli NB Model:  0.735\n"
     ]
    }
   ],
   "source": [
    "print(confusion_matrix(y_test_smote, y_pred3))\n",
    "cf_BNB=confusion_matrix(y_test_smote, y_pred3)\n",
    "cf_BNB_Evaluated=ConfsnMtxEval(cf_BNB)\n",
    "print(cf_BNB_Evaluated)\n",
    "print('Accuracy of linear Bernoulli NB Model: ',(cf_BNB_Evaluated['accuracy']))"
   ]
  },
  {
   "cell_type": "code",
   "execution_count": 87,
   "metadata": {},
   "outputs": [
    {
     "data": {
      "text/html": [
       "<div>\n",
       "<style scoped>\n",
       "    .dataframe tbody tr th:only-of-type {\n",
       "        vertical-align: middle;\n",
       "    }\n",
       "\n",
       "    .dataframe tbody tr th {\n",
       "        vertical-align: top;\n",
       "    }\n",
       "\n",
       "    .dataframe thead th {\n",
       "        text-align: right;\n",
       "    }\n",
       "</style>\n",
       "<table border=\"1\" class=\"dataframe\">\n",
       "  <thead>\n",
       "    <tr style=\"text-align: right;\">\n",
       "      <th></th>\n",
       "      <th>accuracy</th>\n",
       "      <th>error_rate</th>\n",
       "      <th>f_measure</th>\n",
       "      <th>precision</th>\n",
       "      <th>recall</th>\n",
       "      <th>sensitivity</th>\n",
       "      <th>specificity</th>\n",
       "    </tr>\n",
       "  </thead>\n",
       "  <tbody>\n",
       "    <tr>\n",
       "      <th>Logistic Model</th>\n",
       "      <td>0.924</td>\n",
       "      <td>0.076</td>\n",
       "      <td>0.923</td>\n",
       "      <td>0.919</td>\n",
       "      <td>0.928</td>\n",
       "      <td>0.928</td>\n",
       "      <td>0.920</td>\n",
       "    </tr>\n",
       "    <tr>\n",
       "      <th>Multinomial NB</th>\n",
       "      <td>0.735</td>\n",
       "      <td>0.265</td>\n",
       "      <td>0.646</td>\n",
       "      <td>0.484</td>\n",
       "      <td>0.974</td>\n",
       "      <td>0.974</td>\n",
       "      <td>0.657</td>\n",
       "    </tr>\n",
       "    <tr>\n",
       "      <th>Bernoulli NB</th>\n",
       "      <td>0.735</td>\n",
       "      <td>0.265</td>\n",
       "      <td>0.650</td>\n",
       "      <td>0.491</td>\n",
       "      <td>0.959</td>\n",
       "      <td>0.959</td>\n",
       "      <td>0.658</td>\n",
       "    </tr>\n",
       "    <tr>\n",
       "      <th>SGD Model</th>\n",
       "      <td>0.873</td>\n",
       "      <td>0.127</td>\n",
       "      <td>0.876</td>\n",
       "      <td>0.855</td>\n",
       "      <td>0.898</td>\n",
       "      <td>0.898</td>\n",
       "      <td>0.848</td>\n",
       "    </tr>\n",
       "  </tbody>\n",
       "</table>\n",
       "</div>"
      ],
      "text/plain": [
       "                accuracy  error_rate  f_measure  precision  recall  \\\n",
       "Logistic Model     0.924       0.076      0.923      0.919   0.928   \n",
       "Multinomial NB     0.735       0.265      0.646      0.484   0.974   \n",
       "Bernoulli NB       0.735       0.265      0.650      0.491   0.959   \n",
       "SGD Model          0.873       0.127      0.876      0.855   0.898   \n",
       "\n",
       "                sensitivity  specificity  \n",
       "Logistic Model        0.928        0.920  \n",
       "Multinomial NB        0.974        0.657  \n",
       "Bernoulli NB          0.959        0.658  \n",
       "SGD Model             0.898        0.848  "
      ]
     },
     "metadata": {},
     "output_type": "display_data"
    }
   ],
   "source": [
    "eval_model = round(pd.DataFrame([log_Evaluated,cf_mnb_Evaluated, cf_BNB_Evaluated,cf_sgd_Evaluated], index = ['Logistic Model','Multinomial NB','Bernoulli NB','SGD Model']),4)\n",
    "display(eval_model)"
   ]
  },
  {
   "cell_type": "code",
   "execution_count": 50,
   "metadata": {},
   "outputs": [],
   "source": [
    "def ROC_curve_plots(y_test,y_pred_probs1, y_pred_probs2, y_pred_probs3, y_pred_probs4, model1, model2, model3, model4):\n",
    "    fpr1, tpr1, _ = roc_curve(y_test, y_pred_probs1)\n",
    "    auc1 = roc_auc_score(y_test, y_pred_probs1)\n",
    "    fpr2, tpr2, _ = roc_curve(y_test, y_pred_probs2)\n",
    "    auc2 = roc_auc_score(y_test, y_pred_probs2)\n",
    "    fpr3, tpr3, _ = roc_curve(y_test, y_pred_probs3)\n",
    "    auc3 = roc_auc_score(y_test, y_pred_probs3) \n",
    "    fpr4, tpr4, _ = roc_curve(y_test, y_pred_probs4)\n",
    "    auc4 = roc_auc_score(y_test, y_pred_probs4)    \n",
    "    plt.figure(1,figsize=(12,8))\n",
    "    plt.plot([0, 1], [0, 1], 'k--')\n",
    "    plt.plot(fpr1, tpr1, label=f'{model1} AUC={round(auc1,3)}')\n",
    "    plt.plot(fpr2, tpr2, label=f'{model2} AUC={round(auc2,3)}')\n",
    "    plt.plot(fpr3, tpr3, label=f'{model3} AUC={round(auc3,3)}')\n",
    "    plt.plot(fpr4, tpr4, label=f'{model4} AUC={round(auc4,3)}')\n",
    "    plt.xlabel('False positive rate')\n",
    "    plt.ylabel('True positive rate')\n",
    "    plt.title('ROC curve')\n",
    "    plt.legend(loc='best')\n",
    "    plt.show()\n",
    "    return"
   ]
  },
  {
   "cell_type": "code",
   "execution_count": 57,
   "metadata": {},
   "outputs": [
    {
     "data": {
      "image/png": "[encoded data removed]",
      "text/plain": [
       "<Figure size 864x576 with 1 Axes>"
      ]
     },
     "metadata": {
      "needs_background": "light"
     },
     "output_type": "display_data"
    }
   ],
   "source": [
    "ROC_curve_plots(y_test_smote,y_pred_probs1, y_pred_probs2, y_pred_probs3, y_pred_probs4, 'LR', 'MNB','BNB', 'SGDC')"
   ]
  },
  {
   "cell_type": "markdown",
   "metadata": {},
   "source": [
    "Inference: Here we can clearly observe that AUC value is highest for Logistic Classifier"
   ]
  }
 ],
 "metadata": {
  "kernelspec": {
   "display_name": "Python 3",
   "language": "python",
   "name": "python3"
  },
  "language_info": {
   "codemirror_mode": {
    "name": "ipython",
    "version": 3
   },
   "file_extension": ".py",
   "mimetype": "text/x-python",
   "name": "python",
   "nbconvert_exporter": "python",
   "pygments_lexer": "ipython3",
   "version": "3.7.3"
  }
 },
 "nbformat": 4,
 "nbformat_minor": 4
}
